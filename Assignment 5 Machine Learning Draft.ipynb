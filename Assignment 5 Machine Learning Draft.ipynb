{
 "cells": [
  {
   "cell_type": "code",
   "execution_count": 6,
   "metadata": {
    "colab": {
     "base_uri": "https://localhost:8080/",
     "height": 17
    },
    "id": "p4TXDD5lTP3W",
    "outputId": "4b2f4f29-79df-4f64-eac5-c0143c1fc7fc"
   },
   "outputs": [],
   "source": [
    "import pandas as pd\n",
    "import numpy as np\n",
    "import matplotlib.pyplot as plt\n",
    "from sklearn.model_selection import train_test_split\n",
    "import seaborn as sns\n",
    "from sklearn.impute import SimpleImputer\n",
    "from sklearn.model_selection import train_test_split\n",
    "from sklearn.tree import DecisionTreeClassifier\n",
    "from sklearn.model_selection import GridSearchCV \n",
    "from sklearn.ensemble import GradientBoostingClassifier\n",
    "import warnings as wr\n",
    "wr.filterwarnings(\"ignore\", category=FutureWarning)\n",
    "from sklearn.preprocessing import MinMaxScaler\n",
    "from sklearn.feature_selection import SelectKBest"
   ]
  },
  {
   "cell_type": "code",
   "execution_count": 7,
   "metadata": {
    "id": "ZpoSYkHQUu2d"
   },
   "outputs": [],
   "source": [
    "data = pd.read_csv(\"C:/Users/safiyaa/Downloads/home-credit-default-risk/application_train.csv\")"
   ]
  },
  {
   "cell_type": "code",
   "execution_count": 8,
   "metadata": {
    "colab": {
     "base_uri": "https://localhost:8080/",
     "height": 299
    },
    "id": "i77nrEQ0U1VG",
    "outputId": "eb9c7de8-d1af-4915-e543-03a2cc98009e"
   },
   "outputs": [
    {
     "data": {
      "text/html": [
       "<div>\n",
       "<style scoped>\n",
       "    .dataframe tbody tr th:only-of-type {\n",
       "        vertical-align: middle;\n",
       "    }\n",
       "\n",
       "    .dataframe tbody tr th {\n",
       "        vertical-align: top;\n",
       "    }\n",
       "\n",
       "    .dataframe thead th {\n",
       "        text-align: right;\n",
       "    }\n",
       "</style>\n",
       "<table border=\"1\" class=\"dataframe\">\n",
       "  <thead>\n",
       "    <tr style=\"text-align: right;\">\n",
       "      <th></th>\n",
       "      <th>SK_ID_CURR</th>\n",
       "      <th>TARGET</th>\n",
       "      <th>NAME_CONTRACT_TYPE</th>\n",
       "      <th>CODE_GENDER</th>\n",
       "      <th>FLAG_OWN_CAR</th>\n",
       "      <th>FLAG_OWN_REALTY</th>\n",
       "      <th>CNT_CHILDREN</th>\n",
       "      <th>AMT_INCOME_TOTAL</th>\n",
       "      <th>AMT_CREDIT</th>\n",
       "      <th>AMT_ANNUITY</th>\n",
       "      <th>...</th>\n",
       "      <th>FLAG_DOCUMENT_18</th>\n",
       "      <th>FLAG_DOCUMENT_19</th>\n",
       "      <th>FLAG_DOCUMENT_20</th>\n",
       "      <th>FLAG_DOCUMENT_21</th>\n",
       "      <th>AMT_REQ_CREDIT_BUREAU_HOUR</th>\n",
       "      <th>AMT_REQ_CREDIT_BUREAU_DAY</th>\n",
       "      <th>AMT_REQ_CREDIT_BUREAU_WEEK</th>\n",
       "      <th>AMT_REQ_CREDIT_BUREAU_MON</th>\n",
       "      <th>AMT_REQ_CREDIT_BUREAU_QRT</th>\n",
       "      <th>AMT_REQ_CREDIT_BUREAU_YEAR</th>\n",
       "    </tr>\n",
       "  </thead>\n",
       "  <tbody>\n",
       "    <tr>\n",
       "      <th>0</th>\n",
       "      <td>100002</td>\n",
       "      <td>1</td>\n",
       "      <td>Cash loans</td>\n",
       "      <td>M</td>\n",
       "      <td>N</td>\n",
       "      <td>Y</td>\n",
       "      <td>0</td>\n",
       "      <td>202500.0</td>\n",
       "      <td>406597.5</td>\n",
       "      <td>24700.5</td>\n",
       "      <td>...</td>\n",
       "      <td>0</td>\n",
       "      <td>0</td>\n",
       "      <td>0</td>\n",
       "      <td>0</td>\n",
       "      <td>0.0</td>\n",
       "      <td>0.0</td>\n",
       "      <td>0.0</td>\n",
       "      <td>0.0</td>\n",
       "      <td>0.0</td>\n",
       "      <td>1.0</td>\n",
       "    </tr>\n",
       "    <tr>\n",
       "      <th>1</th>\n",
       "      <td>100003</td>\n",
       "      <td>0</td>\n",
       "      <td>Cash loans</td>\n",
       "      <td>F</td>\n",
       "      <td>N</td>\n",
       "      <td>N</td>\n",
       "      <td>0</td>\n",
       "      <td>270000.0</td>\n",
       "      <td>1293502.5</td>\n",
       "      <td>35698.5</td>\n",
       "      <td>...</td>\n",
       "      <td>0</td>\n",
       "      <td>0</td>\n",
       "      <td>0</td>\n",
       "      <td>0</td>\n",
       "      <td>0.0</td>\n",
       "      <td>0.0</td>\n",
       "      <td>0.0</td>\n",
       "      <td>0.0</td>\n",
       "      <td>0.0</td>\n",
       "      <td>0.0</td>\n",
       "    </tr>\n",
       "    <tr>\n",
       "      <th>2</th>\n",
       "      <td>100004</td>\n",
       "      <td>0</td>\n",
       "      <td>Revolving loans</td>\n",
       "      <td>M</td>\n",
       "      <td>Y</td>\n",
       "      <td>Y</td>\n",
       "      <td>0</td>\n",
       "      <td>67500.0</td>\n",
       "      <td>135000.0</td>\n",
       "      <td>6750.0</td>\n",
       "      <td>...</td>\n",
       "      <td>0</td>\n",
       "      <td>0</td>\n",
       "      <td>0</td>\n",
       "      <td>0</td>\n",
       "      <td>0.0</td>\n",
       "      <td>0.0</td>\n",
       "      <td>0.0</td>\n",
       "      <td>0.0</td>\n",
       "      <td>0.0</td>\n",
       "      <td>0.0</td>\n",
       "    </tr>\n",
       "    <tr>\n",
       "      <th>3</th>\n",
       "      <td>100006</td>\n",
       "      <td>0</td>\n",
       "      <td>Cash loans</td>\n",
       "      <td>F</td>\n",
       "      <td>N</td>\n",
       "      <td>Y</td>\n",
       "      <td>0</td>\n",
       "      <td>135000.0</td>\n",
       "      <td>312682.5</td>\n",
       "      <td>29686.5</td>\n",
       "      <td>...</td>\n",
       "      <td>0</td>\n",
       "      <td>0</td>\n",
       "      <td>0</td>\n",
       "      <td>0</td>\n",
       "      <td>NaN</td>\n",
       "      <td>NaN</td>\n",
       "      <td>NaN</td>\n",
       "      <td>NaN</td>\n",
       "      <td>NaN</td>\n",
       "      <td>NaN</td>\n",
       "    </tr>\n",
       "    <tr>\n",
       "      <th>4</th>\n",
       "      <td>100007</td>\n",
       "      <td>0</td>\n",
       "      <td>Cash loans</td>\n",
       "      <td>M</td>\n",
       "      <td>N</td>\n",
       "      <td>Y</td>\n",
       "      <td>0</td>\n",
       "      <td>121500.0</td>\n",
       "      <td>513000.0</td>\n",
       "      <td>21865.5</td>\n",
       "      <td>...</td>\n",
       "      <td>0</td>\n",
       "      <td>0</td>\n",
       "      <td>0</td>\n",
       "      <td>0</td>\n",
       "      <td>0.0</td>\n",
       "      <td>0.0</td>\n",
       "      <td>0.0</td>\n",
       "      <td>0.0</td>\n",
       "      <td>0.0</td>\n",
       "      <td>0.0</td>\n",
       "    </tr>\n",
       "  </tbody>\n",
       "</table>\n",
       "<p>5 rows × 122 columns</p>\n",
       "</div>"
      ],
      "text/plain": [
       "   SK_ID_CURR  TARGET NAME_CONTRACT_TYPE CODE_GENDER FLAG_OWN_CAR  \\\n",
       "0      100002       1         Cash loans           M            N   \n",
       "1      100003       0         Cash loans           F            N   \n",
       "2      100004       0    Revolving loans           M            Y   \n",
       "3      100006       0         Cash loans           F            N   \n",
       "4      100007       0         Cash loans           M            N   \n",
       "\n",
       "  FLAG_OWN_REALTY  CNT_CHILDREN  AMT_INCOME_TOTAL  AMT_CREDIT  AMT_ANNUITY  \\\n",
       "0               Y             0          202500.0    406597.5      24700.5   \n",
       "1               N             0          270000.0   1293502.5      35698.5   \n",
       "2               Y             0           67500.0    135000.0       6750.0   \n",
       "3               Y             0          135000.0    312682.5      29686.5   \n",
       "4               Y             0          121500.0    513000.0      21865.5   \n",
       "\n",
       "   ...  FLAG_DOCUMENT_18 FLAG_DOCUMENT_19 FLAG_DOCUMENT_20 FLAG_DOCUMENT_21  \\\n",
       "0  ...                 0                0                0                0   \n",
       "1  ...                 0                0                0                0   \n",
       "2  ...                 0                0                0                0   \n",
       "3  ...                 0                0                0                0   \n",
       "4  ...                 0                0                0                0   \n",
       "\n",
       "  AMT_REQ_CREDIT_BUREAU_HOUR AMT_REQ_CREDIT_BUREAU_DAY  \\\n",
       "0                        0.0                       0.0   \n",
       "1                        0.0                       0.0   \n",
       "2                        0.0                       0.0   \n",
       "3                        NaN                       NaN   \n",
       "4                        0.0                       0.0   \n",
       "\n",
       "   AMT_REQ_CREDIT_BUREAU_WEEK  AMT_REQ_CREDIT_BUREAU_MON  \\\n",
       "0                         0.0                        0.0   \n",
       "1                         0.0                        0.0   \n",
       "2                         0.0                        0.0   \n",
       "3                         NaN                        NaN   \n",
       "4                         0.0                        0.0   \n",
       "\n",
       "   AMT_REQ_CREDIT_BUREAU_QRT  AMT_REQ_CREDIT_BUREAU_YEAR  \n",
       "0                        0.0                         1.0  \n",
       "1                        0.0                         0.0  \n",
       "2                        0.0                         0.0  \n",
       "3                        NaN                         NaN  \n",
       "4                        0.0                         0.0  \n",
       "\n",
       "[5 rows x 122 columns]"
      ]
     },
     "execution_count": 8,
     "metadata": {},
     "output_type": "execute_result"
    }
   ],
   "source": [
    "data.head()"
   ]
  },
  {
   "cell_type": "code",
   "execution_count": 9,
   "metadata": {
    "colab": {
     "base_uri": "https://localhost:8080/"
    },
    "id": "zb1hg4FuU3uv",
    "outputId": "69b73221-ef48-4e87-ab9f-3db1b7525b2f"
   },
   "outputs": [
    {
     "name": "stdout",
     "output_type": "stream",
     "text": [
      "SK_ID_CURR\n",
      "TARGET\n",
      "NAME_CONTRACT_TYPE\n",
      "CODE_GENDER\n",
      "FLAG_OWN_CAR\n",
      "FLAG_OWN_REALTY\n",
      "CNT_CHILDREN\n",
      "AMT_INCOME_TOTAL\n",
      "AMT_CREDIT\n",
      "AMT_ANNUITY\n",
      "AMT_GOODS_PRICE\n",
      "NAME_TYPE_SUITE\n",
      "NAME_INCOME_TYPE\n",
      "NAME_EDUCATION_TYPE\n",
      "NAME_FAMILY_STATUS\n",
      "NAME_HOUSING_TYPE\n",
      "REGION_POPULATION_RELATIVE\n",
      "DAYS_BIRTH\n",
      "DAYS_EMPLOYED\n",
      "DAYS_REGISTRATION\n",
      "DAYS_ID_PUBLISH\n",
      "OWN_CAR_AGE\n",
      "FLAG_MOBIL\n",
      "FLAG_EMP_PHONE\n",
      "FLAG_WORK_PHONE\n",
      "FLAG_CONT_MOBILE\n",
      "FLAG_PHONE\n",
      "FLAG_EMAIL\n",
      "OCCUPATION_TYPE\n",
      "CNT_FAM_MEMBERS\n",
      "REGION_RATING_CLIENT\n",
      "REGION_RATING_CLIENT_W_CITY\n",
      "WEEKDAY_APPR_PROCESS_START\n",
      "HOUR_APPR_PROCESS_START\n",
      "REG_REGION_NOT_LIVE_REGION\n",
      "REG_REGION_NOT_WORK_REGION\n",
      "LIVE_REGION_NOT_WORK_REGION\n",
      "REG_CITY_NOT_LIVE_CITY\n",
      "REG_CITY_NOT_WORK_CITY\n",
      "LIVE_CITY_NOT_WORK_CITY\n",
      "ORGANIZATION_TYPE\n",
      "EXT_SOURCE_1\n",
      "EXT_SOURCE_2\n",
      "EXT_SOURCE_3\n",
      "APARTMENTS_AVG\n",
      "BASEMENTAREA_AVG\n",
      "YEARS_BEGINEXPLUATATION_AVG\n",
      "YEARS_BUILD_AVG\n",
      "COMMONAREA_AVG\n",
      "ELEVATORS_AVG\n",
      "ENTRANCES_AVG\n",
      "FLOORSMAX_AVG\n",
      "FLOORSMIN_AVG\n",
      "LANDAREA_AVG\n",
      "LIVINGAPARTMENTS_AVG\n",
      "LIVINGAREA_AVG\n",
      "NONLIVINGAPARTMENTS_AVG\n",
      "NONLIVINGAREA_AVG\n",
      "APARTMENTS_MODE\n",
      "BASEMENTAREA_MODE\n",
      "YEARS_BEGINEXPLUATATION_MODE\n",
      "YEARS_BUILD_MODE\n",
      "COMMONAREA_MODE\n",
      "ELEVATORS_MODE\n",
      "ENTRANCES_MODE\n",
      "FLOORSMAX_MODE\n",
      "FLOORSMIN_MODE\n",
      "LANDAREA_MODE\n",
      "LIVINGAPARTMENTS_MODE\n",
      "LIVINGAREA_MODE\n",
      "NONLIVINGAPARTMENTS_MODE\n",
      "NONLIVINGAREA_MODE\n",
      "APARTMENTS_MEDI\n",
      "BASEMENTAREA_MEDI\n",
      "YEARS_BEGINEXPLUATATION_MEDI\n",
      "YEARS_BUILD_MEDI\n",
      "COMMONAREA_MEDI\n",
      "ELEVATORS_MEDI\n",
      "ENTRANCES_MEDI\n",
      "FLOORSMAX_MEDI\n",
      "FLOORSMIN_MEDI\n",
      "LANDAREA_MEDI\n",
      "LIVINGAPARTMENTS_MEDI\n",
      "LIVINGAREA_MEDI\n",
      "NONLIVINGAPARTMENTS_MEDI\n",
      "NONLIVINGAREA_MEDI\n",
      "FONDKAPREMONT_MODE\n",
      "HOUSETYPE_MODE\n",
      "TOTALAREA_MODE\n",
      "WALLSMATERIAL_MODE\n",
      "EMERGENCYSTATE_MODE\n",
      "OBS_30_CNT_SOCIAL_CIRCLE\n",
      "DEF_30_CNT_SOCIAL_CIRCLE\n",
      "OBS_60_CNT_SOCIAL_CIRCLE\n",
      "DEF_60_CNT_SOCIAL_CIRCLE\n",
      "DAYS_LAST_PHONE_CHANGE\n",
      "FLAG_DOCUMENT_2\n",
      "FLAG_DOCUMENT_3\n",
      "FLAG_DOCUMENT_4\n",
      "FLAG_DOCUMENT_5\n",
      "FLAG_DOCUMENT_6\n",
      "FLAG_DOCUMENT_7\n",
      "FLAG_DOCUMENT_8\n",
      "FLAG_DOCUMENT_9\n",
      "FLAG_DOCUMENT_10\n",
      "FLAG_DOCUMENT_11\n",
      "FLAG_DOCUMENT_12\n",
      "FLAG_DOCUMENT_13\n",
      "FLAG_DOCUMENT_14\n",
      "FLAG_DOCUMENT_15\n",
      "FLAG_DOCUMENT_16\n",
      "FLAG_DOCUMENT_17\n",
      "FLAG_DOCUMENT_18\n",
      "FLAG_DOCUMENT_19\n",
      "FLAG_DOCUMENT_20\n",
      "FLAG_DOCUMENT_21\n",
      "AMT_REQ_CREDIT_BUREAU_HOUR\n",
      "AMT_REQ_CREDIT_BUREAU_DAY\n",
      "AMT_REQ_CREDIT_BUREAU_WEEK\n",
      "AMT_REQ_CREDIT_BUREAU_MON\n",
      "AMT_REQ_CREDIT_BUREAU_QRT\n",
      "AMT_REQ_CREDIT_BUREAU_YEAR\n"
     ]
    }
   ],
   "source": [
    "for col in data.columns:\n",
    "  print(col)"
   ]
  },
  {
   "cell_type": "code",
   "execution_count": 10,
   "metadata": {
    "colab": {
     "base_uri": "https://localhost:8080/"
    },
    "id": "eswgseI4g7y3",
    "outputId": "a79a1a62-e10a-4d16-d138-23c0a71e0f6c"
   },
   "outputs": [
    {
     "data": {
      "text/plain": [
       "(307511, 122)"
      ]
     },
     "execution_count": 10,
     "metadata": {},
     "output_type": "execute_result"
    }
   ],
   "source": [
    "data.shape"
   ]
  },
  {
   "cell_type": "code",
   "execution_count": 59,
   "metadata": {
    "colab": {
     "base_uri": "https://localhost:8080/"
    },
    "id": "g90XiEoag9df",
    "outputId": "eb217def-91eb-475d-bae3-3cfebe2dafae"
   },
   "outputs": [
    {
     "name": "stdout",
     "output_type": "stream",
     "text": [
      "<class 'pandas.core.frame.DataFrame'>\n",
      "RangeIndex: 307511 entries, 0 to 307510\n",
      "Data columns (total 122 columns):\n",
      " #    Column                        Dtype  \n",
      "---   ------                        -----  \n",
      " 0    SK_ID_CURR                    int64  \n",
      " 1    TARGET                        int64  \n",
      " 2    NAME_CONTRACT_TYPE            object \n",
      " 3    CODE_GENDER                   object \n",
      " 4    FLAG_OWN_CAR                  object \n",
      " 5    FLAG_OWN_REALTY               object \n",
      " 6    CNT_CHILDREN                  int64  \n",
      " 7    AMT_INCOME_TOTAL              float64\n",
      " 8    AMT_CREDIT                    float64\n",
      " 9    AMT_ANNUITY                   float64\n",
      " 10   AMT_GOODS_PRICE               float64\n",
      " 11   NAME_TYPE_SUITE               object \n",
      " 12   NAME_INCOME_TYPE              object \n",
      " 13   NAME_EDUCATION_TYPE           object \n",
      " 14   NAME_FAMILY_STATUS            object \n",
      " 15   NAME_HOUSING_TYPE             object \n",
      " 16   REGION_POPULATION_RELATIVE    float64\n",
      " 17   DAYS_BIRTH                    int64  \n",
      " 18   DAYS_EMPLOYED                 int64  \n",
      " 19   DAYS_REGISTRATION             float64\n",
      " 20   DAYS_ID_PUBLISH               int64  \n",
      " 21   OWN_CAR_AGE                   float64\n",
      " 22   FLAG_MOBIL                    int64  \n",
      " 23   FLAG_EMP_PHONE                int64  \n",
      " 24   FLAG_WORK_PHONE               int64  \n",
      " 25   FLAG_CONT_MOBILE              int64  \n",
      " 26   FLAG_PHONE                    int64  \n",
      " 27   FLAG_EMAIL                    int64  \n",
      " 28   OCCUPATION_TYPE               object \n",
      " 29   CNT_FAM_MEMBERS               float64\n",
      " 30   REGION_RATING_CLIENT          int64  \n",
      " 31   REGION_RATING_CLIENT_W_CITY   int64  \n",
      " 32   WEEKDAY_APPR_PROCESS_START    object \n",
      " 33   HOUR_APPR_PROCESS_START       int64  \n",
      " 34   REG_REGION_NOT_LIVE_REGION    int64  \n",
      " 35   REG_REGION_NOT_WORK_REGION    int64  \n",
      " 36   LIVE_REGION_NOT_WORK_REGION   int64  \n",
      " 37   REG_CITY_NOT_LIVE_CITY        int64  \n",
      " 38   REG_CITY_NOT_WORK_CITY        int64  \n",
      " 39   LIVE_CITY_NOT_WORK_CITY       int64  \n",
      " 40   ORGANIZATION_TYPE             object \n",
      " 41   EXT_SOURCE_1                  float64\n",
      " 42   EXT_SOURCE_2                  float64\n",
      " 43   EXT_SOURCE_3                  float64\n",
      " 44   APARTMENTS_AVG                float64\n",
      " 45   BASEMENTAREA_AVG              float64\n",
      " 46   YEARS_BEGINEXPLUATATION_AVG   float64\n",
      " 47   YEARS_BUILD_AVG               float64\n",
      " 48   COMMONAREA_AVG                float64\n",
      " 49   ELEVATORS_AVG                 float64\n",
      " 50   ENTRANCES_AVG                 float64\n",
      " 51   FLOORSMAX_AVG                 float64\n",
      " 52   FLOORSMIN_AVG                 float64\n",
      " 53   LANDAREA_AVG                  float64\n",
      " 54   LIVINGAPARTMENTS_AVG          float64\n",
      " 55   LIVINGAREA_AVG                float64\n",
      " 56   NONLIVINGAPARTMENTS_AVG       float64\n",
      " 57   NONLIVINGAREA_AVG             float64\n",
      " 58   APARTMENTS_MODE               float64\n",
      " 59   BASEMENTAREA_MODE             float64\n",
      " 60   YEARS_BEGINEXPLUATATION_MODE  float64\n",
      " 61   YEARS_BUILD_MODE              float64\n",
      " 62   COMMONAREA_MODE               float64\n",
      " 63   ELEVATORS_MODE                float64\n",
      " 64   ENTRANCES_MODE                float64\n",
      " 65   FLOORSMAX_MODE                float64\n",
      " 66   FLOORSMIN_MODE                float64\n",
      " 67   LANDAREA_MODE                 float64\n",
      " 68   LIVINGAPARTMENTS_MODE         float64\n",
      " 69   LIVINGAREA_MODE               float64\n",
      " 70   NONLIVINGAPARTMENTS_MODE      float64\n",
      " 71   NONLIVINGAREA_MODE            float64\n",
      " 72   APARTMENTS_MEDI               float64\n",
      " 73   BASEMENTAREA_MEDI             float64\n",
      " 74   YEARS_BEGINEXPLUATATION_MEDI  float64\n",
      " 75   YEARS_BUILD_MEDI              float64\n",
      " 76   COMMONAREA_MEDI               float64\n",
      " 77   ELEVATORS_MEDI                float64\n",
      " 78   ENTRANCES_MEDI                float64\n",
      " 79   FLOORSMAX_MEDI                float64\n",
      " 80   FLOORSMIN_MEDI                float64\n",
      " 81   LANDAREA_MEDI                 float64\n",
      " 82   LIVINGAPARTMENTS_MEDI         float64\n",
      " 83   LIVINGAREA_MEDI               float64\n",
      " 84   NONLIVINGAPARTMENTS_MEDI      float64\n",
      " 85   NONLIVINGAREA_MEDI            float64\n",
      " 86   FONDKAPREMONT_MODE            object \n",
      " 87   HOUSETYPE_MODE                object \n",
      " 88   TOTALAREA_MODE                float64\n",
      " 89   WALLSMATERIAL_MODE            object \n",
      " 90   EMERGENCYSTATE_MODE           object \n",
      " 91   OBS_30_CNT_SOCIAL_CIRCLE      float64\n",
      " 92   DEF_30_CNT_SOCIAL_CIRCLE      float64\n",
      " 93   OBS_60_CNT_SOCIAL_CIRCLE      float64\n",
      " 94   DEF_60_CNT_SOCIAL_CIRCLE      float64\n",
      " 95   DAYS_LAST_PHONE_CHANGE        float64\n",
      " 96   FLAG_DOCUMENT_2               int64  \n",
      " 97   FLAG_DOCUMENT_3               int64  \n",
      " 98   FLAG_DOCUMENT_4               int64  \n",
      " 99   FLAG_DOCUMENT_5               int64  \n",
      " 100  FLAG_DOCUMENT_6               int64  \n",
      " 101  FLAG_DOCUMENT_7               int64  \n",
      " 102  FLAG_DOCUMENT_8               int64  \n",
      " 103  FLAG_DOCUMENT_9               int64  \n",
      " 104  FLAG_DOCUMENT_10              int64  \n",
      " 105  FLAG_DOCUMENT_11              int64  \n",
      " 106  FLAG_DOCUMENT_12              int64  \n",
      " 107  FLAG_DOCUMENT_13              int64  \n",
      " 108  FLAG_DOCUMENT_14              int64  \n",
      " 109  FLAG_DOCUMENT_15              int64  \n",
      " 110  FLAG_DOCUMENT_16              int64  \n",
      " 111  FLAG_DOCUMENT_17              int64  \n",
      " 112  FLAG_DOCUMENT_18              int64  \n",
      " 113  FLAG_DOCUMENT_19              int64  \n",
      " 114  FLAG_DOCUMENT_20              int64  \n",
      " 115  FLAG_DOCUMENT_21              int64  \n",
      " 116  AMT_REQ_CREDIT_BUREAU_HOUR    float64\n",
      " 117  AMT_REQ_CREDIT_BUREAU_DAY     float64\n",
      " 118  AMT_REQ_CREDIT_BUREAU_WEEK    float64\n",
      " 119  AMT_REQ_CREDIT_BUREAU_MON     float64\n",
      " 120  AMT_REQ_CREDIT_BUREAU_QRT     float64\n",
      " 121  AMT_REQ_CREDIT_BUREAU_YEAR    float64\n",
      "dtypes: float64(65), int64(41), object(16)\n",
      "memory usage: 286.2+ MB\n"
     ]
    }
   ],
   "source": [
    "data.info(verbose=True)"
   ]
  },
  {
   "cell_type": "code",
   "execution_count": 11,
   "metadata": {
    "colab": {
     "base_uri": "https://localhost:8080/",
     "height": 394
    },
    "id": "fb801tBfKxtX",
    "outputId": "b5ef9040-f11d-4ce2-e295-93d20c826624"
   },
   "outputs": [
    {
     "data": {
      "text/html": [
       "<div>\n",
       "<style scoped>\n",
       "    .dataframe tbody tr th:only-of-type {\n",
       "        vertical-align: middle;\n",
       "    }\n",
       "\n",
       "    .dataframe tbody tr th {\n",
       "        vertical-align: top;\n",
       "    }\n",
       "\n",
       "    .dataframe thead th {\n",
       "        text-align: right;\n",
       "    }\n",
       "</style>\n",
       "<table border=\"1\" class=\"dataframe\">\n",
       "  <thead>\n",
       "    <tr style=\"text-align: right;\">\n",
       "      <th></th>\n",
       "      <th>SK_ID_CURR</th>\n",
       "      <th>TARGET</th>\n",
       "      <th>CNT_CHILDREN</th>\n",
       "      <th>AMT_INCOME_TOTAL</th>\n",
       "      <th>AMT_CREDIT</th>\n",
       "      <th>AMT_ANNUITY</th>\n",
       "      <th>AMT_GOODS_PRICE</th>\n",
       "      <th>REGION_POPULATION_RELATIVE</th>\n",
       "      <th>DAYS_BIRTH</th>\n",
       "      <th>DAYS_EMPLOYED</th>\n",
       "      <th>...</th>\n",
       "      <th>FLAG_DOCUMENT_18</th>\n",
       "      <th>FLAG_DOCUMENT_19</th>\n",
       "      <th>FLAG_DOCUMENT_20</th>\n",
       "      <th>FLAG_DOCUMENT_21</th>\n",
       "      <th>AMT_REQ_CREDIT_BUREAU_HOUR</th>\n",
       "      <th>AMT_REQ_CREDIT_BUREAU_DAY</th>\n",
       "      <th>AMT_REQ_CREDIT_BUREAU_WEEK</th>\n",
       "      <th>AMT_REQ_CREDIT_BUREAU_MON</th>\n",
       "      <th>AMT_REQ_CREDIT_BUREAU_QRT</th>\n",
       "      <th>AMT_REQ_CREDIT_BUREAU_YEAR</th>\n",
       "    </tr>\n",
       "  </thead>\n",
       "  <tbody>\n",
       "    <tr>\n",
       "      <th>count</th>\n",
       "      <td>307511.000000</td>\n",
       "      <td>307511.000000</td>\n",
       "      <td>307511.000000</td>\n",
       "      <td>3.075110e+05</td>\n",
       "      <td>3.075110e+05</td>\n",
       "      <td>307499.000000</td>\n",
       "      <td>3.072330e+05</td>\n",
       "      <td>307511.000000</td>\n",
       "      <td>307511.000000</td>\n",
       "      <td>307511.000000</td>\n",
       "      <td>...</td>\n",
       "      <td>307511.000000</td>\n",
       "      <td>307511.000000</td>\n",
       "      <td>307511.000000</td>\n",
       "      <td>307511.000000</td>\n",
       "      <td>265992.000000</td>\n",
       "      <td>265992.000000</td>\n",
       "      <td>265992.000000</td>\n",
       "      <td>265992.000000</td>\n",
       "      <td>265992.000000</td>\n",
       "      <td>265992.000000</td>\n",
       "    </tr>\n",
       "    <tr>\n",
       "      <th>mean</th>\n",
       "      <td>278180.518577</td>\n",
       "      <td>0.080729</td>\n",
       "      <td>0.417052</td>\n",
       "      <td>1.687979e+05</td>\n",
       "      <td>5.990260e+05</td>\n",
       "      <td>27108.573909</td>\n",
       "      <td>5.383962e+05</td>\n",
       "      <td>0.020868</td>\n",
       "      <td>-16036.995067</td>\n",
       "      <td>63815.045904</td>\n",
       "      <td>...</td>\n",
       "      <td>0.008130</td>\n",
       "      <td>0.000595</td>\n",
       "      <td>0.000507</td>\n",
       "      <td>0.000335</td>\n",
       "      <td>0.006402</td>\n",
       "      <td>0.007000</td>\n",
       "      <td>0.034362</td>\n",
       "      <td>0.267395</td>\n",
       "      <td>0.265474</td>\n",
       "      <td>1.899974</td>\n",
       "    </tr>\n",
       "    <tr>\n",
       "      <th>std</th>\n",
       "      <td>102790.175348</td>\n",
       "      <td>0.272419</td>\n",
       "      <td>0.722121</td>\n",
       "      <td>2.371231e+05</td>\n",
       "      <td>4.024908e+05</td>\n",
       "      <td>14493.737315</td>\n",
       "      <td>3.694465e+05</td>\n",
       "      <td>0.013831</td>\n",
       "      <td>4363.988632</td>\n",
       "      <td>141275.766519</td>\n",
       "      <td>...</td>\n",
       "      <td>0.089798</td>\n",
       "      <td>0.024387</td>\n",
       "      <td>0.022518</td>\n",
       "      <td>0.018299</td>\n",
       "      <td>0.083849</td>\n",
       "      <td>0.110757</td>\n",
       "      <td>0.204685</td>\n",
       "      <td>0.916002</td>\n",
       "      <td>0.794056</td>\n",
       "      <td>1.869295</td>\n",
       "    </tr>\n",
       "    <tr>\n",
       "      <th>min</th>\n",
       "      <td>100002.000000</td>\n",
       "      <td>0.000000</td>\n",
       "      <td>0.000000</td>\n",
       "      <td>2.565000e+04</td>\n",
       "      <td>4.500000e+04</td>\n",
       "      <td>1615.500000</td>\n",
       "      <td>4.050000e+04</td>\n",
       "      <td>0.000290</td>\n",
       "      <td>-25229.000000</td>\n",
       "      <td>-17912.000000</td>\n",
       "      <td>...</td>\n",
       "      <td>0.000000</td>\n",
       "      <td>0.000000</td>\n",
       "      <td>0.000000</td>\n",
       "      <td>0.000000</td>\n",
       "      <td>0.000000</td>\n",
       "      <td>0.000000</td>\n",
       "      <td>0.000000</td>\n",
       "      <td>0.000000</td>\n",
       "      <td>0.000000</td>\n",
       "      <td>0.000000</td>\n",
       "    </tr>\n",
       "    <tr>\n",
       "      <th>25%</th>\n",
       "      <td>189145.500000</td>\n",
       "      <td>0.000000</td>\n",
       "      <td>0.000000</td>\n",
       "      <td>1.125000e+05</td>\n",
       "      <td>2.700000e+05</td>\n",
       "      <td>16524.000000</td>\n",
       "      <td>2.385000e+05</td>\n",
       "      <td>0.010006</td>\n",
       "      <td>-19682.000000</td>\n",
       "      <td>-2760.000000</td>\n",
       "      <td>...</td>\n",
       "      <td>0.000000</td>\n",
       "      <td>0.000000</td>\n",
       "      <td>0.000000</td>\n",
       "      <td>0.000000</td>\n",
       "      <td>0.000000</td>\n",
       "      <td>0.000000</td>\n",
       "      <td>0.000000</td>\n",
       "      <td>0.000000</td>\n",
       "      <td>0.000000</td>\n",
       "      <td>0.000000</td>\n",
       "    </tr>\n",
       "    <tr>\n",
       "      <th>50%</th>\n",
       "      <td>278202.000000</td>\n",
       "      <td>0.000000</td>\n",
       "      <td>0.000000</td>\n",
       "      <td>1.471500e+05</td>\n",
       "      <td>5.135310e+05</td>\n",
       "      <td>24903.000000</td>\n",
       "      <td>4.500000e+05</td>\n",
       "      <td>0.018850</td>\n",
       "      <td>-15750.000000</td>\n",
       "      <td>-1213.000000</td>\n",
       "      <td>...</td>\n",
       "      <td>0.000000</td>\n",
       "      <td>0.000000</td>\n",
       "      <td>0.000000</td>\n",
       "      <td>0.000000</td>\n",
       "      <td>0.000000</td>\n",
       "      <td>0.000000</td>\n",
       "      <td>0.000000</td>\n",
       "      <td>0.000000</td>\n",
       "      <td>0.000000</td>\n",
       "      <td>1.000000</td>\n",
       "    </tr>\n",
       "    <tr>\n",
       "      <th>75%</th>\n",
       "      <td>367142.500000</td>\n",
       "      <td>0.000000</td>\n",
       "      <td>1.000000</td>\n",
       "      <td>2.025000e+05</td>\n",
       "      <td>8.086500e+05</td>\n",
       "      <td>34596.000000</td>\n",
       "      <td>6.795000e+05</td>\n",
       "      <td>0.028663</td>\n",
       "      <td>-12413.000000</td>\n",
       "      <td>-289.000000</td>\n",
       "      <td>...</td>\n",
       "      <td>0.000000</td>\n",
       "      <td>0.000000</td>\n",
       "      <td>0.000000</td>\n",
       "      <td>0.000000</td>\n",
       "      <td>0.000000</td>\n",
       "      <td>0.000000</td>\n",
       "      <td>0.000000</td>\n",
       "      <td>0.000000</td>\n",
       "      <td>0.000000</td>\n",
       "      <td>3.000000</td>\n",
       "    </tr>\n",
       "    <tr>\n",
       "      <th>max</th>\n",
       "      <td>456255.000000</td>\n",
       "      <td>1.000000</td>\n",
       "      <td>19.000000</td>\n",
       "      <td>1.170000e+08</td>\n",
       "      <td>4.050000e+06</td>\n",
       "      <td>258025.500000</td>\n",
       "      <td>4.050000e+06</td>\n",
       "      <td>0.072508</td>\n",
       "      <td>-7489.000000</td>\n",
       "      <td>365243.000000</td>\n",
       "      <td>...</td>\n",
       "      <td>1.000000</td>\n",
       "      <td>1.000000</td>\n",
       "      <td>1.000000</td>\n",
       "      <td>1.000000</td>\n",
       "      <td>4.000000</td>\n",
       "      <td>9.000000</td>\n",
       "      <td>8.000000</td>\n",
       "      <td>27.000000</td>\n",
       "      <td>261.000000</td>\n",
       "      <td>25.000000</td>\n",
       "    </tr>\n",
       "  </tbody>\n",
       "</table>\n",
       "<p>8 rows × 106 columns</p>\n",
       "</div>"
      ],
      "text/plain": [
       "          SK_ID_CURR         TARGET   CNT_CHILDREN  AMT_INCOME_TOTAL  \\\n",
       "count  307511.000000  307511.000000  307511.000000      3.075110e+05   \n",
       "mean   278180.518577       0.080729       0.417052      1.687979e+05   \n",
       "std    102790.175348       0.272419       0.722121      2.371231e+05   \n",
       "min    100002.000000       0.000000       0.000000      2.565000e+04   \n",
       "25%    189145.500000       0.000000       0.000000      1.125000e+05   \n",
       "50%    278202.000000       0.000000       0.000000      1.471500e+05   \n",
       "75%    367142.500000       0.000000       1.000000      2.025000e+05   \n",
       "max    456255.000000       1.000000      19.000000      1.170000e+08   \n",
       "\n",
       "         AMT_CREDIT    AMT_ANNUITY  AMT_GOODS_PRICE  \\\n",
       "count  3.075110e+05  307499.000000     3.072330e+05   \n",
       "mean   5.990260e+05   27108.573909     5.383962e+05   \n",
       "std    4.024908e+05   14493.737315     3.694465e+05   \n",
       "min    4.500000e+04    1615.500000     4.050000e+04   \n",
       "25%    2.700000e+05   16524.000000     2.385000e+05   \n",
       "50%    5.135310e+05   24903.000000     4.500000e+05   \n",
       "75%    8.086500e+05   34596.000000     6.795000e+05   \n",
       "max    4.050000e+06  258025.500000     4.050000e+06   \n",
       "\n",
       "       REGION_POPULATION_RELATIVE     DAYS_BIRTH  DAYS_EMPLOYED  ...  \\\n",
       "count               307511.000000  307511.000000  307511.000000  ...   \n",
       "mean                     0.020868  -16036.995067   63815.045904  ...   \n",
       "std                      0.013831    4363.988632  141275.766519  ...   \n",
       "min                      0.000290  -25229.000000  -17912.000000  ...   \n",
       "25%                      0.010006  -19682.000000   -2760.000000  ...   \n",
       "50%                      0.018850  -15750.000000   -1213.000000  ...   \n",
       "75%                      0.028663  -12413.000000    -289.000000  ...   \n",
       "max                      0.072508   -7489.000000  365243.000000  ...   \n",
       "\n",
       "       FLAG_DOCUMENT_18  FLAG_DOCUMENT_19  FLAG_DOCUMENT_20  FLAG_DOCUMENT_21  \\\n",
       "count     307511.000000     307511.000000     307511.000000     307511.000000   \n",
       "mean           0.008130          0.000595          0.000507          0.000335   \n",
       "std            0.089798          0.024387          0.022518          0.018299   \n",
       "min            0.000000          0.000000          0.000000          0.000000   \n",
       "25%            0.000000          0.000000          0.000000          0.000000   \n",
       "50%            0.000000          0.000000          0.000000          0.000000   \n",
       "75%            0.000000          0.000000          0.000000          0.000000   \n",
       "max            1.000000          1.000000          1.000000          1.000000   \n",
       "\n",
       "       AMT_REQ_CREDIT_BUREAU_HOUR  AMT_REQ_CREDIT_BUREAU_DAY  \\\n",
       "count               265992.000000              265992.000000   \n",
       "mean                     0.006402                   0.007000   \n",
       "std                      0.083849                   0.110757   \n",
       "min                      0.000000                   0.000000   \n",
       "25%                      0.000000                   0.000000   \n",
       "50%                      0.000000                   0.000000   \n",
       "75%                      0.000000                   0.000000   \n",
       "max                      4.000000                   9.000000   \n",
       "\n",
       "       AMT_REQ_CREDIT_BUREAU_WEEK  AMT_REQ_CREDIT_BUREAU_MON  \\\n",
       "count               265992.000000              265992.000000   \n",
       "mean                     0.034362                   0.267395   \n",
       "std                      0.204685                   0.916002   \n",
       "min                      0.000000                   0.000000   \n",
       "25%                      0.000000                   0.000000   \n",
       "50%                      0.000000                   0.000000   \n",
       "75%                      0.000000                   0.000000   \n",
       "max                      8.000000                  27.000000   \n",
       "\n",
       "       AMT_REQ_CREDIT_BUREAU_QRT  AMT_REQ_CREDIT_BUREAU_YEAR  \n",
       "count              265992.000000               265992.000000  \n",
       "mean                    0.265474                    1.899974  \n",
       "std                     0.794056                    1.869295  \n",
       "min                     0.000000                    0.000000  \n",
       "25%                     0.000000                    0.000000  \n",
       "50%                     0.000000                    1.000000  \n",
       "75%                     0.000000                    3.000000  \n",
       "max                   261.000000                   25.000000  \n",
       "\n",
       "[8 rows x 106 columns]"
      ]
     },
     "execution_count": 11,
     "metadata": {},
     "output_type": "execute_result"
    }
   ],
   "source": [
    "data.describe()"
   ]
  },
  {
   "cell_type": "code",
   "execution_count": 12,
   "metadata": {
    "colab": {
     "base_uri": "https://localhost:8080/"
    },
    "id": "hs9nRWgnRDZ2",
    "outputId": "2949d6b7-ad26-41c5-ba15-995528aae471"
   },
   "outputs": [
    {
     "data": {
      "text/plain": [
       "Index(['NAME_CONTRACT_TYPE', 'CODE_GENDER', 'FLAG_OWN_CAR', 'FLAG_OWN_REALTY',\n",
       "       'NAME_TYPE_SUITE', 'NAME_INCOME_TYPE', 'NAME_EDUCATION_TYPE',\n",
       "       'NAME_FAMILY_STATUS', 'NAME_HOUSING_TYPE', 'OCCUPATION_TYPE',\n",
       "       'WEEKDAY_APPR_PROCESS_START', 'ORGANIZATION_TYPE', 'FONDKAPREMONT_MODE',\n",
       "       'HOUSETYPE_MODE', 'WALLSMATERIAL_MODE', 'EMERGENCYSTATE_MODE'],\n",
       "      dtype='object')"
      ]
     },
     "execution_count": 12,
     "metadata": {},
     "output_type": "execute_result"
    }
   ],
   "source": [
    "cat_cols = data.select_dtypes('object').columns\n",
    "cat_cols"
   ]
  },
  {
   "cell_type": "code",
   "execution_count": 13,
   "metadata": {
    "colab": {
     "base_uri": "https://localhost:8080/"
    },
    "id": "h9YTRBtYOsjG",
    "outputId": "6851ae79-1f27-41b3-bb32-8d7139b07d89"
   },
   "outputs": [
    {
     "data": {
      "text/plain": [
       "9152465"
      ]
     },
     "execution_count": 13,
     "metadata": {},
     "output_type": "execute_result"
    }
   ],
   "source": [
    "len(np.where(data.isnull())[0])"
   ]
  },
  {
   "cell_type": "markdown",
   "metadata": {
    "id": "UveSxaKervG7"
   },
   "source": [
    "Feature Engineering 1: Remove Null values, One Hot encoding, feature scaling "
   ]
  },
  {
   "cell_type": "code",
   "execution_count": 14,
   "metadata": {
    "id": "uoAEGs6PQ3r2"
   },
   "outputs": [],
   "source": [
    "data= pd.get_dummies(data)"
   ]
  },
  {
   "cell_type": "code",
   "execution_count": 15,
   "metadata": {
    "id": "FdfP3yRaOb43"
   },
   "outputs": [],
   "source": [
    "y = data['TARGET']\n",
    "X = data.drop('TARGET',axis = 1)"
   ]
  },
  {
   "cell_type": "code",
   "execution_count": 65,
   "metadata": {
    "colab": {
     "base_uri": "https://localhost:8080/",
     "height": 296
    },
    "id": "eSOk5x9AUYFt",
    "outputId": "a32d1cec-f457-4fe7-8fd1-da816f856515"
   },
   "outputs": [
    {
     "data": {
      "text/plain": [
       "<matplotlib.axes._subplots.AxesSubplot at 0x7f87853a9850>"
      ]
     },
     "execution_count": 65,
     "metadata": {},
     "output_type": "execute_result"
    },
    {
     "data": {
      "image/png": "[encoded data removed]",
      "text/plain": [
       "<Figure size 432x288 with 1 Axes>"
      ]
     },
     "metadata": {
      "needs_background": "light"
     },
     "output_type": "display_data"
    }
   ],
   "source": [
    "sns.histplot(y)"
   ]
  },
  {
   "cell_type": "code",
   "execution_count": 16,
   "metadata": {
    "colab": {
     "base_uri": "https://localhost:8080/"
    },
    "id": "YAsTMXDMQIdO",
    "outputId": "571c296b-c250-4458-9cfe-7bfe683eefd4"
   },
   "outputs": [
    {
     "data": {
      "text/plain": [
       "(array([], dtype=int64),)"
      ]
     },
     "execution_count": 16,
     "metadata": {},
     "output_type": "execute_result"
    }
   ],
   "source": [
    "np.where(y.isnull())"
   ]
  },
  {
   "cell_type": "code",
   "execution_count": 17,
   "metadata": {
    "id": "952MG9qoPxN_"
   },
   "outputs": [],
   "source": [
    "imputer = SimpleImputer(strategy = 'median')\n",
    "X_imp = imputer.fit_transform(X)\n",
    "scaler = MinMaxScaler(feature_range = (0, 1))\n",
    "X_scl = scaler.fit_transform(X_imp)"
   ]
  },
  {
   "cell_type": "code",
   "execution_count": 18,
   "metadata": {
    "id": "WWrM6zL4K1h8"
   },
   "outputs": [],
   "source": [
    "X_train, X_test, y_train,y_test = train_test_split(X_scl,y, test_size=0.2, random_state=11)"
   ]
  },
  {
   "cell_type": "code",
   "execution_count": 19,
   "metadata": {
    "colab": {
     "base_uri": "https://localhost:8080/"
    },
    "id": "fcTgMj73K1es",
    "outputId": "d14a873b-dc08-479d-af18-1bf1c870b824"
   },
   "outputs": [
    {
     "data": {
      "text/plain": [
       "((246008, 245), (61503, 245), (246008,), (61503,))"
      ]
     },
     "execution_count": 19,
     "metadata": {},
     "output_type": "execute_result"
    }
   ],
   "source": [
    "X_train.shape, X_test.shape, y_train.shape,y_test.shape"
   ]
  },
  {
   "cell_type": "markdown",
   "metadata": {
    "id": "VIV68yFYr_ol"
   },
   "source": [
    "Model 1: Decision Tree"
   ]
  },
  {
   "cell_type": "code",
   "execution_count": 20,
   "metadata": {
    "id": "7MBKYPzuK1WR"
   },
   "outputs": [],
   "source": [
    "clf=DecisionTreeClassifier()\n",
    "params={'max_depth': [1, 5, 10, 50],'min_samples_split':[5, 10, 100, 500]}"
   ]
  },
  {
   "cell_type": "code",
   "execution_count": 21,
   "metadata": {
    "colab": {
     "base_uri": "https://localhost:8080/"
    },
    "id": "XOQAmhHqK1UB",
    "outputId": "b70ec047-a6e7-4456-c773-1dc8cba8a08c"
   },
   "outputs": [
    {
     "name": "stdout",
     "output_type": "stream",
     "text": [
      "Fitting 3 folds for each of 16 candidates, totalling 48 fits\n"
     ]
    },
    {
     "ename": "KeyboardInterrupt",
     "evalue": "",
     "output_type": "error",
     "traceback": [
      "\u001b[1;31m---------------------------------------------------------------------------\u001b[0m",
      "\u001b[1;31mKeyboardInterrupt\u001b[0m                         Traceback (most recent call last)",
      "\u001b[1;32m~\\AppData\\Local\\Temp/ipykernel_5964/2002633954.py\u001b[0m in \u001b[0;36m<module>\u001b[1;34m\u001b[0m\n\u001b[0;32m      1\u001b[0m \u001b[0mGSCV\u001b[0m\u001b[1;33m=\u001b[0m\u001b[0mGridSearchCV\u001b[0m\u001b[1;33m(\u001b[0m\u001b[0mclf\u001b[0m\u001b[1;33m,\u001b[0m\u001b[0mparam_grid\u001b[0m\u001b[1;33m=\u001b[0m\u001b[0mparams\u001b[0m\u001b[1;33m,\u001b[0m\u001b[0mcv\u001b[0m\u001b[1;33m=\u001b[0m\u001b[1;36m3\u001b[0m\u001b[1;33m,\u001b[0m\u001b[0mscoring\u001b[0m\u001b[1;33m=\u001b[0m\u001b[1;34m'roc_auc'\u001b[0m\u001b[1;33m,\u001b[0m\u001b[0mverbose\u001b[0m\u001b[1;33m=\u001b[0m\u001b[1;36m1\u001b[0m\u001b[1;33m,\u001b[0m\u001b[0mreturn_train_score\u001b[0m\u001b[1;33m=\u001b[0m\u001b[1;32mTrue\u001b[0m\u001b[1;33m)\u001b[0m\u001b[1;33m\u001b[0m\u001b[1;33m\u001b[0m\u001b[0m\n\u001b[1;32m----> 2\u001b[1;33m \u001b[0mGSCV\u001b[0m\u001b[1;33m.\u001b[0m\u001b[0mfit\u001b[0m\u001b[1;33m(\u001b[0m\u001b[0mX_train\u001b[0m\u001b[1;33m,\u001b[0m\u001b[0my_train\u001b[0m\u001b[1;33m)\u001b[0m\u001b[1;33m\u001b[0m\u001b[1;33m\u001b[0m\u001b[0m\n\u001b[0m\u001b[0;32m      3\u001b[0m \u001b[0mresult\u001b[0m\u001b[1;33m=\u001b[0m\u001b[0mpd\u001b[0m\u001b[1;33m.\u001b[0m\u001b[0mDataFrame\u001b[0m\u001b[1;33m(\u001b[0m\u001b[0mGSCV\u001b[0m\u001b[1;33m.\u001b[0m\u001b[0mcv_results_\u001b[0m\u001b[1;33m)\u001b[0m\u001b[1;33m\u001b[0m\u001b[1;33m\u001b[0m\u001b[0m\n",
      "\u001b[1;32m~\\Anaconda3\\lib\\site-packages\\sklearn\\utils\\validation.py\u001b[0m in \u001b[0;36minner_f\u001b[1;34m(*args, **kwargs)\u001b[0m\n\u001b[0;32m     61\u001b[0m             \u001b[0mextra_args\u001b[0m \u001b[1;33m=\u001b[0m \u001b[0mlen\u001b[0m\u001b[1;33m(\u001b[0m\u001b[0margs\u001b[0m\u001b[1;33m)\u001b[0m \u001b[1;33m-\u001b[0m \u001b[0mlen\u001b[0m\u001b[1;33m(\u001b[0m\u001b[0mall_args\u001b[0m\u001b[1;33m)\u001b[0m\u001b[1;33m\u001b[0m\u001b[1;33m\u001b[0m\u001b[0m\n\u001b[0;32m     62\u001b[0m             \u001b[1;32mif\u001b[0m \u001b[0mextra_args\u001b[0m \u001b[1;33m<=\u001b[0m \u001b[1;36m0\u001b[0m\u001b[1;33m:\u001b[0m\u001b[1;33m\u001b[0m\u001b[1;33m\u001b[0m\u001b[0m\n\u001b[1;32m---> 63\u001b[1;33m                 \u001b[1;32mreturn\u001b[0m \u001b[0mf\u001b[0m\u001b[1;33m(\u001b[0m\u001b[1;33m*\u001b[0m\u001b[0margs\u001b[0m\u001b[1;33m,\u001b[0m \u001b[1;33m**\u001b[0m\u001b[0mkwargs\u001b[0m\u001b[1;33m)\u001b[0m\u001b[1;33m\u001b[0m\u001b[1;33m\u001b[0m\u001b[0m\n\u001b[0m\u001b[0;32m     64\u001b[0m \u001b[1;33m\u001b[0m\u001b[0m\n\u001b[0;32m     65\u001b[0m             \u001b[1;31m# extra_args > 0\u001b[0m\u001b[1;33m\u001b[0m\u001b[1;33m\u001b[0m\u001b[0m\n",
      "\u001b[1;32m~\\Anaconda3\\lib\\site-packages\\sklearn\\model_selection\\_search.py\u001b[0m in \u001b[0;36mfit\u001b[1;34m(self, X, y, groups, **fit_params)\u001b[0m\n\u001b[0;32m    839\u001b[0m                 \u001b[1;32mreturn\u001b[0m \u001b[0mresults\u001b[0m\u001b[1;33m\u001b[0m\u001b[1;33m\u001b[0m\u001b[0m\n\u001b[0;32m    840\u001b[0m \u001b[1;33m\u001b[0m\u001b[0m\n\u001b[1;32m--> 841\u001b[1;33m             \u001b[0mself\u001b[0m\u001b[1;33m.\u001b[0m\u001b[0m_run_search\u001b[0m\u001b[1;33m(\u001b[0m\u001b[0mevaluate_candidates\u001b[0m\u001b[1;33m)\u001b[0m\u001b[1;33m\u001b[0m\u001b[1;33m\u001b[0m\u001b[0m\n\u001b[0m\u001b[0;32m    842\u001b[0m \u001b[1;33m\u001b[0m\u001b[0m\n\u001b[0;32m    843\u001b[0m             \u001b[1;31m# multimetric is determined here because in the case of a callable\u001b[0m\u001b[1;33m\u001b[0m\u001b[1;33m\u001b[0m\u001b[0m\n",
      "\u001b[1;32m~\\Anaconda3\\lib\\site-packages\\sklearn\\model_selection\\_search.py\u001b[0m in \u001b[0;36m_run_search\u001b[1;34m(self, evaluate_candidates)\u001b[0m\n\u001b[0;32m   1294\u001b[0m     \u001b[1;32mdef\u001b[0m \u001b[0m_run_search\u001b[0m\u001b[1;33m(\u001b[0m\u001b[0mself\u001b[0m\u001b[1;33m,\u001b[0m \u001b[0mevaluate_candidates\u001b[0m\u001b[1;33m)\u001b[0m\u001b[1;33m:\u001b[0m\u001b[1;33m\u001b[0m\u001b[1;33m\u001b[0m\u001b[0m\n\u001b[0;32m   1295\u001b[0m         \u001b[1;34m\"\"\"Search all candidates in param_grid\"\"\"\u001b[0m\u001b[1;33m\u001b[0m\u001b[1;33m\u001b[0m\u001b[0m\n\u001b[1;32m-> 1296\u001b[1;33m         \u001b[0mevaluate_candidates\u001b[0m\u001b[1;33m(\u001b[0m\u001b[0mParameterGrid\u001b[0m\u001b[1;33m(\u001b[0m\u001b[0mself\u001b[0m\u001b[1;33m.\u001b[0m\u001b[0mparam_grid\u001b[0m\u001b[1;33m)\u001b[0m\u001b[1;33m)\u001b[0m\u001b[1;33m\u001b[0m\u001b[1;33m\u001b[0m\u001b[0m\n\u001b[0m\u001b[0;32m   1297\u001b[0m \u001b[1;33m\u001b[0m\u001b[0m\n\u001b[0;32m   1298\u001b[0m \u001b[1;33m\u001b[0m\u001b[0m\n",
      "\u001b[1;32m~\\Anaconda3\\lib\\site-packages\\sklearn\\model_selection\\_search.py\u001b[0m in \u001b[0;36mevaluate_candidates\u001b[1;34m(candidate_params, cv, more_results)\u001b[0m\n\u001b[0;32m    793\u001b[0m                               n_splits, n_candidates, n_candidates * n_splits))\n\u001b[0;32m    794\u001b[0m \u001b[1;33m\u001b[0m\u001b[0m\n\u001b[1;32m--> 795\u001b[1;33m                 out = parallel(delayed(_fit_and_score)(clone(base_estimator),\n\u001b[0m\u001b[0;32m    796\u001b[0m                                                        \u001b[0mX\u001b[0m\u001b[1;33m,\u001b[0m \u001b[0my\u001b[0m\u001b[1;33m,\u001b[0m\u001b[1;33m\u001b[0m\u001b[1;33m\u001b[0m\u001b[0m\n\u001b[0;32m    797\u001b[0m                                                        \u001b[0mtrain\u001b[0m\u001b[1;33m=\u001b[0m\u001b[0mtrain\u001b[0m\u001b[1;33m,\u001b[0m \u001b[0mtest\u001b[0m\u001b[1;33m=\u001b[0m\u001b[0mtest\u001b[0m\u001b[1;33m,\u001b[0m\u001b[1;33m\u001b[0m\u001b[1;33m\u001b[0m\u001b[0m\n",
      "\u001b[1;32m~\\Anaconda3\\lib\\site-packages\\joblib\\parallel.py\u001b[0m in \u001b[0;36m__call__\u001b[1;34m(self, iterable)\u001b[0m\n\u001b[0;32m   1044\u001b[0m                 \u001b[0mself\u001b[0m\u001b[1;33m.\u001b[0m\u001b[0m_iterating\u001b[0m \u001b[1;33m=\u001b[0m \u001b[0mself\u001b[0m\u001b[1;33m.\u001b[0m\u001b[0m_original_iterator\u001b[0m \u001b[1;32mis\u001b[0m \u001b[1;32mnot\u001b[0m \u001b[1;32mNone\u001b[0m\u001b[1;33m\u001b[0m\u001b[1;33m\u001b[0m\u001b[0m\n\u001b[0;32m   1045\u001b[0m \u001b[1;33m\u001b[0m\u001b[0m\n\u001b[1;32m-> 1046\u001b[1;33m             \u001b[1;32mwhile\u001b[0m \u001b[0mself\u001b[0m\u001b[1;33m.\u001b[0m\u001b[0mdispatch_one_batch\u001b[0m\u001b[1;33m(\u001b[0m\u001b[0miterator\u001b[0m\u001b[1;33m)\u001b[0m\u001b[1;33m:\u001b[0m\u001b[1;33m\u001b[0m\u001b[1;33m\u001b[0m\u001b[0m\n\u001b[0m\u001b[0;32m   1047\u001b[0m                 \u001b[1;32mpass\u001b[0m\u001b[1;33m\u001b[0m\u001b[1;33m\u001b[0m\u001b[0m\n\u001b[0;32m   1048\u001b[0m \u001b[1;33m\u001b[0m\u001b[0m\n",
      "\u001b[1;32m~\\Anaconda3\\lib\\site-packages\\joblib\\parallel.py\u001b[0m in \u001b[0;36mdispatch_one_batch\u001b[1;34m(self, iterator)\u001b[0m\n\u001b[0;32m    859\u001b[0m                 \u001b[1;32mreturn\u001b[0m \u001b[1;32mFalse\u001b[0m\u001b[1;33m\u001b[0m\u001b[1;33m\u001b[0m\u001b[0m\n\u001b[0;32m    860\u001b[0m             \u001b[1;32melse\u001b[0m\u001b[1;33m:\u001b[0m\u001b[1;33m\u001b[0m\u001b[1;33m\u001b[0m\u001b[0m\n\u001b[1;32m--> 861\u001b[1;33m                 \u001b[0mself\u001b[0m\u001b[1;33m.\u001b[0m\u001b[0m_dispatch\u001b[0m\u001b[1;33m(\u001b[0m\u001b[0mtasks\u001b[0m\u001b[1;33m)\u001b[0m\u001b[1;33m\u001b[0m\u001b[1;33m\u001b[0m\u001b[0m\n\u001b[0m\u001b[0;32m    862\u001b[0m                 \u001b[1;32mreturn\u001b[0m \u001b[1;32mTrue\u001b[0m\u001b[1;33m\u001b[0m\u001b[1;33m\u001b[0m\u001b[0m\n\u001b[0;32m    863\u001b[0m \u001b[1;33m\u001b[0m\u001b[0m\n",
      "\u001b[1;32m~\\Anaconda3\\lib\\site-packages\\joblib\\parallel.py\u001b[0m in \u001b[0;36m_dispatch\u001b[1;34m(self, batch)\u001b[0m\n\u001b[0;32m    777\u001b[0m         \u001b[1;32mwith\u001b[0m \u001b[0mself\u001b[0m\u001b[1;33m.\u001b[0m\u001b[0m_lock\u001b[0m\u001b[1;33m:\u001b[0m\u001b[1;33m\u001b[0m\u001b[1;33m\u001b[0m\u001b[0m\n\u001b[0;32m    778\u001b[0m             \u001b[0mjob_idx\u001b[0m \u001b[1;33m=\u001b[0m \u001b[0mlen\u001b[0m\u001b[1;33m(\u001b[0m\u001b[0mself\u001b[0m\u001b[1;33m.\u001b[0m\u001b[0m_jobs\u001b[0m\u001b[1;33m)\u001b[0m\u001b[1;33m\u001b[0m\u001b[1;33m\u001b[0m\u001b[0m\n\u001b[1;32m--> 779\u001b[1;33m             \u001b[0mjob\u001b[0m \u001b[1;33m=\u001b[0m \u001b[0mself\u001b[0m\u001b[1;33m.\u001b[0m\u001b[0m_backend\u001b[0m\u001b[1;33m.\u001b[0m\u001b[0mapply_async\u001b[0m\u001b[1;33m(\u001b[0m\u001b[0mbatch\u001b[0m\u001b[1;33m,\u001b[0m \u001b[0mcallback\u001b[0m\u001b[1;33m=\u001b[0m\u001b[0mcb\u001b[0m\u001b[1;33m)\u001b[0m\u001b[1;33m\u001b[0m\u001b[1;33m\u001b[0m\u001b[0m\n\u001b[0m\u001b[0;32m    780\u001b[0m             \u001b[1;31m# A job can complete so quickly than its callback is\u001b[0m\u001b[1;33m\u001b[0m\u001b[1;33m\u001b[0m\u001b[0m\n\u001b[0;32m    781\u001b[0m             \u001b[1;31m# called before we get here, causing self._jobs to\u001b[0m\u001b[1;33m\u001b[0m\u001b[1;33m\u001b[0m\u001b[0m\n",
      "\u001b[1;32m~\\Anaconda3\\lib\\site-packages\\joblib\\_parallel_backends.py\u001b[0m in \u001b[0;36mapply_async\u001b[1;34m(self, func, callback)\u001b[0m\n\u001b[0;32m    206\u001b[0m     \u001b[1;32mdef\u001b[0m \u001b[0mapply_async\u001b[0m\u001b[1;33m(\u001b[0m\u001b[0mself\u001b[0m\u001b[1;33m,\u001b[0m \u001b[0mfunc\u001b[0m\u001b[1;33m,\u001b[0m \u001b[0mcallback\u001b[0m\u001b[1;33m=\u001b[0m\u001b[1;32mNone\u001b[0m\u001b[1;33m)\u001b[0m\u001b[1;33m:\u001b[0m\u001b[1;33m\u001b[0m\u001b[1;33m\u001b[0m\u001b[0m\n\u001b[0;32m    207\u001b[0m         \u001b[1;34m\"\"\"Schedule a func to be run\"\"\"\u001b[0m\u001b[1;33m\u001b[0m\u001b[1;33m\u001b[0m\u001b[0m\n\u001b[1;32m--> 208\u001b[1;33m         \u001b[0mresult\u001b[0m \u001b[1;33m=\u001b[0m \u001b[0mImmediateResult\u001b[0m\u001b[1;33m(\u001b[0m\u001b[0mfunc\u001b[0m\u001b[1;33m)\u001b[0m\u001b[1;33m\u001b[0m\u001b[1;33m\u001b[0m\u001b[0m\n\u001b[0m\u001b[0;32m    209\u001b[0m         \u001b[1;32mif\u001b[0m \u001b[0mcallback\u001b[0m\u001b[1;33m:\u001b[0m\u001b[1;33m\u001b[0m\u001b[1;33m\u001b[0m\u001b[0m\n\u001b[0;32m    210\u001b[0m             \u001b[0mcallback\u001b[0m\u001b[1;33m(\u001b[0m\u001b[0mresult\u001b[0m\u001b[1;33m)\u001b[0m\u001b[1;33m\u001b[0m\u001b[1;33m\u001b[0m\u001b[0m\n",
      "\u001b[1;32m~\\Anaconda3\\lib\\site-packages\\joblib\\_parallel_backends.py\u001b[0m in \u001b[0;36m__init__\u001b[1;34m(self, batch)\u001b[0m\n\u001b[0;32m    570\u001b[0m         \u001b[1;31m# Don't delay the application, to avoid keeping the input\u001b[0m\u001b[1;33m\u001b[0m\u001b[1;33m\u001b[0m\u001b[0m\n\u001b[0;32m    571\u001b[0m         \u001b[1;31m# arguments in memory\u001b[0m\u001b[1;33m\u001b[0m\u001b[1;33m\u001b[0m\u001b[0m\n\u001b[1;32m--> 572\u001b[1;33m         \u001b[0mself\u001b[0m\u001b[1;33m.\u001b[0m\u001b[0mresults\u001b[0m \u001b[1;33m=\u001b[0m \u001b[0mbatch\u001b[0m\u001b[1;33m(\u001b[0m\u001b[1;33m)\u001b[0m\u001b[1;33m\u001b[0m\u001b[1;33m\u001b[0m\u001b[0m\n\u001b[0m\u001b[0;32m    573\u001b[0m \u001b[1;33m\u001b[0m\u001b[0m\n\u001b[0;32m    574\u001b[0m     \u001b[1;32mdef\u001b[0m \u001b[0mget\u001b[0m\u001b[1;33m(\u001b[0m\u001b[0mself\u001b[0m\u001b[1;33m)\u001b[0m\u001b[1;33m:\u001b[0m\u001b[1;33m\u001b[0m\u001b[1;33m\u001b[0m\u001b[0m\n",
      "\u001b[1;32m~\\Anaconda3\\lib\\site-packages\\joblib\\parallel.py\u001b[0m in \u001b[0;36m__call__\u001b[1;34m(self)\u001b[0m\n\u001b[0;32m    260\u001b[0m         \u001b[1;31m# change the default number of processes to -1\u001b[0m\u001b[1;33m\u001b[0m\u001b[1;33m\u001b[0m\u001b[0m\n\u001b[0;32m    261\u001b[0m         \u001b[1;32mwith\u001b[0m \u001b[0mparallel_backend\u001b[0m\u001b[1;33m(\u001b[0m\u001b[0mself\u001b[0m\u001b[1;33m.\u001b[0m\u001b[0m_backend\u001b[0m\u001b[1;33m,\u001b[0m \u001b[0mn_jobs\u001b[0m\u001b[1;33m=\u001b[0m\u001b[0mself\u001b[0m\u001b[1;33m.\u001b[0m\u001b[0m_n_jobs\u001b[0m\u001b[1;33m)\u001b[0m\u001b[1;33m:\u001b[0m\u001b[1;33m\u001b[0m\u001b[1;33m\u001b[0m\u001b[0m\n\u001b[1;32m--> 262\u001b[1;33m             return [func(*args, **kwargs)\n\u001b[0m\u001b[0;32m    263\u001b[0m                     for func, args, kwargs in self.items]\n\u001b[0;32m    264\u001b[0m \u001b[1;33m\u001b[0m\u001b[0m\n",
      "\u001b[1;32m~\\Anaconda3\\lib\\site-packages\\joblib\\parallel.py\u001b[0m in \u001b[0;36m<listcomp>\u001b[1;34m(.0)\u001b[0m\n\u001b[0;32m    260\u001b[0m         \u001b[1;31m# change the default number of processes to -1\u001b[0m\u001b[1;33m\u001b[0m\u001b[1;33m\u001b[0m\u001b[0m\n\u001b[0;32m    261\u001b[0m         \u001b[1;32mwith\u001b[0m \u001b[0mparallel_backend\u001b[0m\u001b[1;33m(\u001b[0m\u001b[0mself\u001b[0m\u001b[1;33m.\u001b[0m\u001b[0m_backend\u001b[0m\u001b[1;33m,\u001b[0m \u001b[0mn_jobs\u001b[0m\u001b[1;33m=\u001b[0m\u001b[0mself\u001b[0m\u001b[1;33m.\u001b[0m\u001b[0m_n_jobs\u001b[0m\u001b[1;33m)\u001b[0m\u001b[1;33m:\u001b[0m\u001b[1;33m\u001b[0m\u001b[1;33m\u001b[0m\u001b[0m\n\u001b[1;32m--> 262\u001b[1;33m             return [func(*args, **kwargs)\n\u001b[0m\u001b[0;32m    263\u001b[0m                     for func, args, kwargs in self.items]\n\u001b[0;32m    264\u001b[0m \u001b[1;33m\u001b[0m\u001b[0m\n",
      "\u001b[1;32m~\\Anaconda3\\lib\\site-packages\\sklearn\\utils\\fixes.py\u001b[0m in \u001b[0;36m__call__\u001b[1;34m(self, *args, **kwargs)\u001b[0m\n\u001b[0;32m    220\u001b[0m     \u001b[1;32mdef\u001b[0m \u001b[0m__call__\u001b[0m\u001b[1;33m(\u001b[0m\u001b[0mself\u001b[0m\u001b[1;33m,\u001b[0m \u001b[1;33m*\u001b[0m\u001b[0margs\u001b[0m\u001b[1;33m,\u001b[0m \u001b[1;33m**\u001b[0m\u001b[0mkwargs\u001b[0m\u001b[1;33m)\u001b[0m\u001b[1;33m:\u001b[0m\u001b[1;33m\u001b[0m\u001b[1;33m\u001b[0m\u001b[0m\n\u001b[0;32m    221\u001b[0m         \u001b[1;32mwith\u001b[0m \u001b[0mconfig_context\u001b[0m\u001b[1;33m(\u001b[0m\u001b[1;33m**\u001b[0m\u001b[0mself\u001b[0m\u001b[1;33m.\u001b[0m\u001b[0mconfig\u001b[0m\u001b[1;33m)\u001b[0m\u001b[1;33m:\u001b[0m\u001b[1;33m\u001b[0m\u001b[1;33m\u001b[0m\u001b[0m\n\u001b[1;32m--> 222\u001b[1;33m             \u001b[1;32mreturn\u001b[0m \u001b[0mself\u001b[0m\u001b[1;33m.\u001b[0m\u001b[0mfunction\u001b[0m\u001b[1;33m(\u001b[0m\u001b[1;33m*\u001b[0m\u001b[0margs\u001b[0m\u001b[1;33m,\u001b[0m \u001b[1;33m**\u001b[0m\u001b[0mkwargs\u001b[0m\u001b[1;33m)\u001b[0m\u001b[1;33m\u001b[0m\u001b[1;33m\u001b[0m\u001b[0m\n\u001b[0m",
      "\u001b[1;32m~\\Anaconda3\\lib\\site-packages\\sklearn\\model_selection\\_validation.py\u001b[0m in \u001b[0;36m_fit_and_score\u001b[1;34m(estimator, X, y, scorer, train, test, verbose, parameters, fit_params, return_train_score, return_parameters, return_n_test_samples, return_times, return_estimator, split_progress, candidate_progress, error_score)\u001b[0m\n\u001b[0;32m    596\u001b[0m             \u001b[0mestimator\u001b[0m\u001b[1;33m.\u001b[0m\u001b[0mfit\u001b[0m\u001b[1;33m(\u001b[0m\u001b[0mX_train\u001b[0m\u001b[1;33m,\u001b[0m \u001b[1;33m**\u001b[0m\u001b[0mfit_params\u001b[0m\u001b[1;33m)\u001b[0m\u001b[1;33m\u001b[0m\u001b[1;33m\u001b[0m\u001b[0m\n\u001b[0;32m    597\u001b[0m         \u001b[1;32melse\u001b[0m\u001b[1;33m:\u001b[0m\u001b[1;33m\u001b[0m\u001b[1;33m\u001b[0m\u001b[0m\n\u001b[1;32m--> 598\u001b[1;33m             \u001b[0mestimator\u001b[0m\u001b[1;33m.\u001b[0m\u001b[0mfit\u001b[0m\u001b[1;33m(\u001b[0m\u001b[0mX_train\u001b[0m\u001b[1;33m,\u001b[0m \u001b[0my_train\u001b[0m\u001b[1;33m,\u001b[0m \u001b[1;33m**\u001b[0m\u001b[0mfit_params\u001b[0m\u001b[1;33m)\u001b[0m\u001b[1;33m\u001b[0m\u001b[1;33m\u001b[0m\u001b[0m\n\u001b[0m\u001b[0;32m    599\u001b[0m \u001b[1;33m\u001b[0m\u001b[0m\n\u001b[0;32m    600\u001b[0m     \u001b[1;32mexcept\u001b[0m \u001b[0mException\u001b[0m \u001b[1;32mas\u001b[0m \u001b[0me\u001b[0m\u001b[1;33m:\u001b[0m\u001b[1;33m\u001b[0m\u001b[1;33m\u001b[0m\u001b[0m\n",
      "\u001b[1;32m~\\Anaconda3\\lib\\site-packages\\sklearn\\tree\\_classes.py\u001b[0m in \u001b[0;36mfit\u001b[1;34m(self, X, y, sample_weight, check_input, X_idx_sorted)\u001b[0m\n\u001b[0;32m    901\u001b[0m         \"\"\"\n\u001b[0;32m    902\u001b[0m \u001b[1;33m\u001b[0m\u001b[0m\n\u001b[1;32m--> 903\u001b[1;33m         super().fit(\n\u001b[0m\u001b[0;32m    904\u001b[0m             \u001b[0mX\u001b[0m\u001b[1;33m,\u001b[0m \u001b[0my\u001b[0m\u001b[1;33m,\u001b[0m\u001b[1;33m\u001b[0m\u001b[1;33m\u001b[0m\u001b[0m\n\u001b[0;32m    905\u001b[0m             \u001b[0msample_weight\u001b[0m\u001b[1;33m=\u001b[0m\u001b[0msample_weight\u001b[0m\u001b[1;33m,\u001b[0m\u001b[1;33m\u001b[0m\u001b[1;33m\u001b[0m\u001b[0m\n",
      "\u001b[1;32m~\\Anaconda3\\lib\\site-packages\\sklearn\\tree\\_classes.py\u001b[0m in \u001b[0;36mfit\u001b[1;34m(self, X, y, sample_weight, check_input, X_idx_sorted)\u001b[0m\n\u001b[0;32m    392\u001b[0m                                            min_impurity_split)\n\u001b[0;32m    393\u001b[0m \u001b[1;33m\u001b[0m\u001b[0m\n\u001b[1;32m--> 394\u001b[1;33m         \u001b[0mbuilder\u001b[0m\u001b[1;33m.\u001b[0m\u001b[0mbuild\u001b[0m\u001b[1;33m(\u001b[0m\u001b[0mself\u001b[0m\u001b[1;33m.\u001b[0m\u001b[0mtree_\u001b[0m\u001b[1;33m,\u001b[0m \u001b[0mX\u001b[0m\u001b[1;33m,\u001b[0m \u001b[0my\u001b[0m\u001b[1;33m,\u001b[0m \u001b[0msample_weight\u001b[0m\u001b[1;33m)\u001b[0m\u001b[1;33m\u001b[0m\u001b[1;33m\u001b[0m\u001b[0m\n\u001b[0m\u001b[0;32m    395\u001b[0m \u001b[1;33m\u001b[0m\u001b[0m\n\u001b[0;32m    396\u001b[0m         \u001b[1;32mif\u001b[0m \u001b[0mself\u001b[0m\u001b[1;33m.\u001b[0m\u001b[0mn_outputs_\u001b[0m \u001b[1;33m==\u001b[0m \u001b[1;36m1\u001b[0m \u001b[1;32mand\u001b[0m \u001b[0mis_classifier\u001b[0m\u001b[1;33m(\u001b[0m\u001b[0mself\u001b[0m\u001b[1;33m)\u001b[0m\u001b[1;33m:\u001b[0m\u001b[1;33m\u001b[0m\u001b[1;33m\u001b[0m\u001b[0m\n",
      "\u001b[1;31mKeyboardInterrupt\u001b[0m: "
     ]
    }
   ],
   "source": [
    "GSCV=GridSearchCV(clf,param_grid=params,cv=3,scoring='roc_auc',verbose=1,return_train_score=True)\n",
    "GSCV.fit(X_train,y_train)\n",
    "result=pd.DataFrame(GSCV.cv_results_)"
   ]
  },
  {
   "cell_type": "code",
   "execution_count": 19,
   "metadata": {
    "colab": {
     "base_uri": "https://localhost:8080/",
     "height": 1000
    },
    "id": "09NjUxDhzT-p",
    "outputId": "2a4b800b-c873-4541-9d0c-27c3f38ced9c"
   },
   "outputs": [
    {
     "data": {
      "text/html": [
       "\n",
       "  <div id=\"df-388bd1a9-847d-405f-b66c-0f847b932cfc\">\n",
       "    <div class=\"colab-df-container\">\n",
       "      <div>\n",
       "<style scoped>\n",
       "    .dataframe tbody tr th:only-of-type {\n",
       "        vertical-align: middle;\n",
       "    }\n",
       "\n",
       "    .dataframe tbody tr th {\n",
       "        vertical-align: top;\n",
       "    }\n",
       "\n",
       "    .dataframe thead th {\n",
       "        text-align: right;\n",
       "    }\n",
       "</style>\n",
       "<table border=\"1\" class=\"dataframe\">\n",
       "  <thead>\n",
       "    <tr style=\"text-align: right;\">\n",
       "      <th></th>\n",
       "      <th>mean_fit_time</th>\n",
       "      <th>std_fit_time</th>\n",
       "      <th>mean_score_time</th>\n",
       "      <th>std_score_time</th>\n",
       "      <th>param_max_depth</th>\n",
       "      <th>param_min_samples_split</th>\n",
       "      <th>params</th>\n",
       "      <th>split0_test_score</th>\n",
       "      <th>split1_test_score</th>\n",
       "      <th>split2_test_score</th>\n",
       "      <th>mean_test_score</th>\n",
       "      <th>std_test_score</th>\n",
       "      <th>rank_test_score</th>\n",
       "      <th>split0_train_score</th>\n",
       "      <th>split1_train_score</th>\n",
       "      <th>split2_train_score</th>\n",
       "      <th>mean_train_score</th>\n",
       "      <th>std_train_score</th>\n",
       "    </tr>\n",
       "  </thead>\n",
       "  <tbody>\n",
       "    <tr>\n",
       "      <th>0</th>\n",
       "      <td>2.192000</td>\n",
       "      <td>0.854631</td>\n",
       "      <td>0.258307</td>\n",
       "      <td>0.254637</td>\n",
       "      <td>1</td>\n",
       "      <td>5</td>\n",
       "      <td>{'max_depth': 1, 'min_samples_split': 5}</td>\n",
       "      <td>0.571563</td>\n",
       "      <td>0.588306</td>\n",
       "      <td>0.576017</td>\n",
       "      <td>0.578629</td>\n",
       "      <td>0.007081</td>\n",
       "      <td>11</td>\n",
       "      <td>0.577549</td>\n",
       "      <td>0.586131</td>\n",
       "      <td>0.576127</td>\n",
       "      <td>0.579936</td>\n",
       "      <td>0.004419</td>\n",
       "    </tr>\n",
       "    <tr>\n",
       "      <th>1</th>\n",
       "      <td>1.265145</td>\n",
       "      <td>0.007753</td>\n",
       "      <td>0.074745</td>\n",
       "      <td>0.001261</td>\n",
       "      <td>1</td>\n",
       "      <td>10</td>\n",
       "      <td>{'max_depth': 1, 'min_samples_split': 10}</td>\n",
       "      <td>0.571563</td>\n",
       "      <td>0.588306</td>\n",
       "      <td>0.576017</td>\n",
       "      <td>0.578629</td>\n",
       "      <td>0.007081</td>\n",
       "      <td>11</td>\n",
       "      <td>0.577549</td>\n",
       "      <td>0.586131</td>\n",
       "      <td>0.576127</td>\n",
       "      <td>0.579936</td>\n",
       "      <td>0.004419</td>\n",
       "    </tr>\n",
       "    <tr>\n",
       "      <th>2</th>\n",
       "      <td>1.273720</td>\n",
       "      <td>0.014346</td>\n",
       "      <td>0.075432</td>\n",
       "      <td>0.001856</td>\n",
       "      <td>1</td>\n",
       "      <td>100</td>\n",
       "      <td>{'max_depth': 1, 'min_samples_split': 100}</td>\n",
       "      <td>0.571563</td>\n",
       "      <td>0.588306</td>\n",
       "      <td>0.576017</td>\n",
       "      <td>0.578629</td>\n",
       "      <td>0.007081</td>\n",
       "      <td>11</td>\n",
       "      <td>0.577549</td>\n",
       "      <td>0.586131</td>\n",
       "      <td>0.576127</td>\n",
       "      <td>0.579936</td>\n",
       "      <td>0.004419</td>\n",
       "    </tr>\n",
       "    <tr>\n",
       "      <th>3</th>\n",
       "      <td>1.271886</td>\n",
       "      <td>0.006757</td>\n",
       "      <td>0.074173</td>\n",
       "      <td>0.000442</td>\n",
       "      <td>1</td>\n",
       "      <td>500</td>\n",
       "      <td>{'max_depth': 1, 'min_samples_split': 500}</td>\n",
       "      <td>0.571563</td>\n",
       "      <td>0.588306</td>\n",
       "      <td>0.576017</td>\n",
       "      <td>0.578629</td>\n",
       "      <td>0.007081</td>\n",
       "      <td>11</td>\n",
       "      <td>0.577549</td>\n",
       "      <td>0.586131</td>\n",
       "      <td>0.576127</td>\n",
       "      <td>0.579936</td>\n",
       "      <td>0.004419</td>\n",
       "    </tr>\n",
       "    <tr>\n",
       "      <th>4</th>\n",
       "      <td>5.610832</td>\n",
       "      <td>0.489619</td>\n",
       "      <td>0.081750</td>\n",
       "      <td>0.000772</td>\n",
       "      <td>5</td>\n",
       "      <td>5</td>\n",
       "      <td>{'max_depth': 5, 'min_samples_split': 5}</td>\n",
       "      <td>0.699966</td>\n",
       "      <td>0.709405</td>\n",
       "      <td>0.706308</td>\n",
       "      <td>0.705226</td>\n",
       "      <td>0.003929</td>\n",
       "      <td>4</td>\n",
       "      <td>0.711914</td>\n",
       "      <td>0.709910</td>\n",
       "      <td>0.711783</td>\n",
       "      <td>0.711202</td>\n",
       "      <td>0.000916</td>\n",
       "    </tr>\n",
       "    <tr>\n",
       "      <th>5</th>\n",
       "      <td>5.350521</td>\n",
       "      <td>0.046064</td>\n",
       "      <td>0.082053</td>\n",
       "      <td>0.000610</td>\n",
       "      <td>5</td>\n",
       "      <td>10</td>\n",
       "      <td>{'max_depth': 5, 'min_samples_split': 10}</td>\n",
       "      <td>0.699966</td>\n",
       "      <td>0.709405</td>\n",
       "      <td>0.706308</td>\n",
       "      <td>0.705226</td>\n",
       "      <td>0.003929</td>\n",
       "      <td>4</td>\n",
       "      <td>0.711914</td>\n",
       "      <td>0.709910</td>\n",
       "      <td>0.711783</td>\n",
       "      <td>0.711202</td>\n",
       "      <td>0.000916</td>\n",
       "    </tr>\n",
       "    <tr>\n",
       "      <th>6</th>\n",
       "      <td>5.510770</td>\n",
       "      <td>0.298119</td>\n",
       "      <td>0.082874</td>\n",
       "      <td>0.003605</td>\n",
       "      <td>5</td>\n",
       "      <td>100</td>\n",
       "      <td>{'max_depth': 5, 'min_samples_split': 100}</td>\n",
       "      <td>0.699966</td>\n",
       "      <td>0.709405</td>\n",
       "      <td>0.706309</td>\n",
       "      <td>0.705227</td>\n",
       "      <td>0.003929</td>\n",
       "      <td>3</td>\n",
       "      <td>0.711914</td>\n",
       "      <td>0.709910</td>\n",
       "      <td>0.711782</td>\n",
       "      <td>0.711202</td>\n",
       "      <td>0.000915</td>\n",
       "    </tr>\n",
       "    <tr>\n",
       "      <th>7</th>\n",
       "      <td>5.339544</td>\n",
       "      <td>0.026772</td>\n",
       "      <td>0.083671</td>\n",
       "      <td>0.001288</td>\n",
       "      <td>5</td>\n",
       "      <td>500</td>\n",
       "      <td>{'max_depth': 5, 'min_samples_split': 500}</td>\n",
       "      <td>0.699937</td>\n",
       "      <td>0.709365</td>\n",
       "      <td>0.706356</td>\n",
       "      <td>0.705219</td>\n",
       "      <td>0.003932</td>\n",
       "      <td>6</td>\n",
       "      <td>0.711831</td>\n",
       "      <td>0.709869</td>\n",
       "      <td>0.711755</td>\n",
       "      <td>0.711152</td>\n",
       "      <td>0.000908</td>\n",
       "    </tr>\n",
       "    <tr>\n",
       "      <th>8</th>\n",
       "      <td>10.029792</td>\n",
       "      <td>0.958850</td>\n",
       "      <td>0.090411</td>\n",
       "      <td>0.003033</td>\n",
       "      <td>10</td>\n",
       "      <td>5</td>\n",
       "      <td>{'max_depth': 10, 'min_samples_split': 5}</td>\n",
       "      <td>0.699094</td>\n",
       "      <td>0.702921</td>\n",
       "      <td>0.701682</td>\n",
       "      <td>0.701232</td>\n",
       "      <td>0.001594</td>\n",
       "      <td>8</td>\n",
       "      <td>0.750340</td>\n",
       "      <td>0.750206</td>\n",
       "      <td>0.749143</td>\n",
       "      <td>0.749896</td>\n",
       "      <td>0.000536</td>\n",
       "    </tr>\n",
       "    <tr>\n",
       "      <th>9</th>\n",
       "      <td>9.295776</td>\n",
       "      <td>0.050225</td>\n",
       "      <td>0.087703</td>\n",
       "      <td>0.001817</td>\n",
       "      <td>10</td>\n",
       "      <td>10</td>\n",
       "      <td>{'max_depth': 10, 'min_samples_split': 10}</td>\n",
       "      <td>0.698904</td>\n",
       "      <td>0.703496</td>\n",
       "      <td>0.703133</td>\n",
       "      <td>0.701844</td>\n",
       "      <td>0.002084</td>\n",
       "      <td>7</td>\n",
       "      <td>0.749735</td>\n",
       "      <td>0.749557</td>\n",
       "      <td>0.748625</td>\n",
       "      <td>0.749306</td>\n",
       "      <td>0.000487</td>\n",
       "    </tr>\n",
       "    <tr>\n",
       "      <th>10</th>\n",
       "      <td>9.445427</td>\n",
       "      <td>0.285612</td>\n",
       "      <td>0.086041</td>\n",
       "      <td>0.000757</td>\n",
       "      <td>10</td>\n",
       "      <td>100</td>\n",
       "      <td>{'max_depth': 10, 'min_samples_split': 100}</td>\n",
       "      <td>0.705248</td>\n",
       "      <td>0.710206</td>\n",
       "      <td>0.707689</td>\n",
       "      <td>0.707714</td>\n",
       "      <td>0.002024</td>\n",
       "      <td>2</td>\n",
       "      <td>0.746185</td>\n",
       "      <td>0.746239</td>\n",
       "      <td>0.745579</td>\n",
       "      <td>0.746001</td>\n",
       "      <td>0.000299</td>\n",
       "    </tr>\n",
       "    <tr>\n",
       "      <th>11</th>\n",
       "      <td>9.152782</td>\n",
       "      <td>0.038951</td>\n",
       "      <td>0.086898</td>\n",
       "      <td>0.001816</td>\n",
       "      <td>10</td>\n",
       "      <td>500</td>\n",
       "      <td>{'max_depth': 10, 'min_samples_split': 500}</td>\n",
       "      <td>0.707311</td>\n",
       "      <td>0.715245</td>\n",
       "      <td>0.711314</td>\n",
       "      <td>0.711290</td>\n",
       "      <td>0.003239</td>\n",
       "      <td>1</td>\n",
       "      <td>0.742935</td>\n",
       "      <td>0.742766</td>\n",
       "      <td>0.742037</td>\n",
       "      <td>0.742579</td>\n",
       "      <td>0.000390</td>\n",
       "    </tr>\n",
       "    <tr>\n",
       "      <th>12</th>\n",
       "      <td>21.416976</td>\n",
       "      <td>0.820757</td>\n",
       "      <td>0.102422</td>\n",
       "      <td>0.002598</td>\n",
       "      <td>50</td>\n",
       "      <td>5</td>\n",
       "      <td>{'max_depth': 50, 'min_samples_split': 5}</td>\n",
       "      <td>0.542748</td>\n",
       "      <td>0.543992</td>\n",
       "      <td>0.534859</td>\n",
       "      <td>0.540533</td>\n",
       "      <td>0.004045</td>\n",
       "      <td>16</td>\n",
       "      <td>0.998232</td>\n",
       "      <td>0.998039</td>\n",
       "      <td>0.998528</td>\n",
       "      <td>0.998266</td>\n",
       "      <td>0.000201</td>\n",
       "    </tr>\n",
       "    <tr>\n",
       "      <th>13</th>\n",
       "      <td>21.459201</td>\n",
       "      <td>0.548333</td>\n",
       "      <td>0.102444</td>\n",
       "      <td>0.001753</td>\n",
       "      <td>50</td>\n",
       "      <td>10</td>\n",
       "      <td>{'max_depth': 50, 'min_samples_split': 10}</td>\n",
       "      <td>0.551929</td>\n",
       "      <td>0.551870</td>\n",
       "      <td>0.536974</td>\n",
       "      <td>0.546924</td>\n",
       "      <td>0.007036</td>\n",
       "      <td>15</td>\n",
       "      <td>0.991654</td>\n",
       "      <td>0.991320</td>\n",
       "      <td>0.992226</td>\n",
       "      <td>0.991733</td>\n",
       "      <td>0.000374</td>\n",
       "    </tr>\n",
       "    <tr>\n",
       "      <th>14</th>\n",
       "      <td>21.093733</td>\n",
       "      <td>0.458808</td>\n",
       "      <td>0.104017</td>\n",
       "      <td>0.003385</td>\n",
       "      <td>50</td>\n",
       "      <td>100</td>\n",
       "      <td>{'max_depth': 50, 'min_samples_split': 100}</td>\n",
       "      <td>0.616112</td>\n",
       "      <td>0.615109</td>\n",
       "      <td>0.610605</td>\n",
       "      <td>0.613942</td>\n",
       "      <td>0.002395</td>\n",
       "      <td>10</td>\n",
       "      <td>0.928507</td>\n",
       "      <td>0.928271</td>\n",
       "      <td>0.925472</td>\n",
       "      <td>0.927417</td>\n",
       "      <td>0.001379</td>\n",
       "    </tr>\n",
       "    <tr>\n",
       "      <th>15</th>\n",
       "      <td>19.162412</td>\n",
       "      <td>0.251617</td>\n",
       "      <td>0.100306</td>\n",
       "      <td>0.001728</td>\n",
       "      <td>50</td>\n",
       "      <td>500</td>\n",
       "      <td>{'max_depth': 50, 'min_samples_split': 500}</td>\n",
       "      <td>0.676719</td>\n",
       "      <td>0.683479</td>\n",
       "      <td>0.676814</td>\n",
       "      <td>0.679004</td>\n",
       "      <td>0.003165</td>\n",
       "      <td>9</td>\n",
       "      <td>0.836449</td>\n",
       "      <td>0.832894</td>\n",
       "      <td>0.832281</td>\n",
       "      <td>0.833875</td>\n",
       "      <td>0.001837</td>\n",
       "    </tr>\n",
       "  </tbody>\n",
       "</table>\n",
       "</div>\n",
       "      <button class=\"colab-df-convert\" onclick=\"convertToInteractive('df-388bd1a9-847d-405f-b66c-0f847b932cfc')\"\n",
       "              title=\"Convert this dataframe to an interactive table.\"\n",
       "              style=\"display:none;\">\n",
       "        \n",
       "  <svg xmlns=\"http://www.w3.org/2000/svg\" height=\"24px\"viewBox=\"0 0 24 24\"\n",
       "       width=\"24px\">\n",
       "    <path d=\"M0 0h24v24H0V0z\" fill=\"none\"/>\n",
       "    <path d=\"M18.56 5.44l.94 2.06.94-2.06 2.06-.94-2.06-.94-.94-2.06-.94 2.06-2.06.94zm-11 1L8.5 8.5l.94-2.06 2.06-.94-2.06-.94L8.5 2.5l-.94 2.06-2.06.94zm10 10l.94 2.06.94-2.06 2.06-.94-2.06-.94-.94-2.06-.94 2.06-2.06.94z\"/><path d=\"M17.41 7.96l-1.37-1.37c-.4-.4-.92-.59-1.43-.59-.52 0-1.04.2-1.43.59L10.3 9.45l-7.72 7.72c-.78.78-.78 2.05 0 2.83L4 21.41c.39.39.9.59 1.41.59.51 0 1.02-.2 1.41-.59l7.78-7.78 2.81-2.81c.8-.78.8-2.07 0-2.86zM5.41 20L4 18.59l7.72-7.72 1.47 1.35L5.41 20z\"/>\n",
       "  </svg>\n",
       "      </button>\n",
       "      \n",
       "  <style>\n",
       "    .colab-df-container {\n",
       "      display:flex;\n",
       "      flex-wrap:wrap;\n",
       "      gap: 12px;\n",
       "    }\n",
       "\n",
       "    .colab-df-convert {\n",
       "      background-color: #E8F0FE;\n",
       "      border: none;\n",
       "      border-radius: 50%;\n",
       "      cursor: pointer;\n",
       "      display: none;\n",
       "      fill: #1967D2;\n",
       "      height: 32px;\n",
       "      padding: 0 0 0 0;\n",
       "      width: 32px;\n",
       "    }\n",
       "\n",
       "    .colab-df-convert:hover {\n",
       "      background-color: #E2EBFA;\n",
       "      box-shadow: 0px 1px 2px rgba(60, 64, 67, 0.3), 0px 1px 3px 1px rgba(60, 64, 67, 0.15);\n",
       "      fill: #174EA6;\n",
       "    }\n",
       "\n",
       "    [theme=dark] .colab-df-convert {\n",
       "      background-color: #3B4455;\n",
       "      fill: #D2E3FC;\n",
       "    }\n",
       "\n",
       "    [theme=dark] .colab-df-convert:hover {\n",
       "      background-color: #434B5C;\n",
       "      box-shadow: 0px 1px 3px 1px rgba(0, 0, 0, 0.15);\n",
       "      filter: drop-shadow(0px 1px 2px rgba(0, 0, 0, 0.3));\n",
       "      fill: #FFFFFF;\n",
       "    }\n",
       "  </style>\n",
       "\n",
       "      <script>\n",
       "        const buttonEl =\n",
       "          document.querySelector('#df-388bd1a9-847d-405f-b66c-0f847b932cfc button.colab-df-convert');\n",
       "        buttonEl.style.display =\n",
       "          google.colab.kernel.accessAllowed ? 'block' : 'none';\n",
       "\n",
       "        async function convertToInteractive(key) {\n",
       "          const element = document.querySelector('#df-388bd1a9-847d-405f-b66c-0f847b932cfc');\n",
       "          const dataTable =\n",
       "            await google.colab.kernel.invokeFunction('convertToInteractive',\n",
       "                                                     [key], {});\n",
       "          if (!dataTable) return;\n",
       "\n",
       "          const docLinkHtml = 'Like what you see? Visit the ' +\n",
       "            '<a target=\"_blank\" href=https://colab.research.google.com/notebooks/data_table.ipynb>data table notebook</a>'\n",
       "            + ' to learn more about interactive tables.';\n",
       "          element.innerHTML = '';\n",
       "          dataTable['output_type'] = 'display_data';\n",
       "          await google.colab.output.renderOutput(dataTable, element);\n",
       "          const docLink = document.createElement('div');\n",
       "          docLink.innerHTML = docLinkHtml;\n",
       "          element.appendChild(docLink);\n",
       "        }\n",
       "      </script>\n",
       "    </div>\n",
       "  </div>\n",
       "  "
      ],
      "text/plain": [
       "    mean_fit_time  std_fit_time  mean_score_time  std_score_time  \\\n",
       "0        2.192000      0.854631         0.258307        0.254637   \n",
       "1        1.265145      0.007753         0.074745        0.001261   \n",
       "2        1.273720      0.014346         0.075432        0.001856   \n",
       "3        1.271886      0.006757         0.074173        0.000442   \n",
       "4        5.610832      0.489619         0.081750        0.000772   \n",
       "5        5.350521      0.046064         0.082053        0.000610   \n",
       "6        5.510770      0.298119         0.082874        0.003605   \n",
       "7        5.339544      0.026772         0.083671        0.001288   \n",
       "8       10.029792      0.958850         0.090411        0.003033   \n",
       "9        9.295776      0.050225         0.087703        0.001817   \n",
       "10       9.445427      0.285612         0.086041        0.000757   \n",
       "11       9.152782      0.038951         0.086898        0.001816   \n",
       "12      21.416976      0.820757         0.102422        0.002598   \n",
       "13      21.459201      0.548333         0.102444        0.001753   \n",
       "14      21.093733      0.458808         0.104017        0.003385   \n",
       "15      19.162412      0.251617         0.100306        0.001728   \n",
       "\n",
       "   param_max_depth param_min_samples_split  \\\n",
       "0                1                       5   \n",
       "1                1                      10   \n",
       "2                1                     100   \n",
       "3                1                     500   \n",
       "4                5                       5   \n",
       "5                5                      10   \n",
       "6                5                     100   \n",
       "7                5                     500   \n",
       "8               10                       5   \n",
       "9               10                      10   \n",
       "10              10                     100   \n",
       "11              10                     500   \n",
       "12              50                       5   \n",
       "13              50                      10   \n",
       "14              50                     100   \n",
       "15              50                     500   \n",
       "\n",
       "                                         params  split0_test_score  \\\n",
       "0      {'max_depth': 1, 'min_samples_split': 5}           0.571563   \n",
       "1     {'max_depth': 1, 'min_samples_split': 10}           0.571563   \n",
       "2    {'max_depth': 1, 'min_samples_split': 100}           0.571563   \n",
       "3    {'max_depth': 1, 'min_samples_split': 500}           0.571563   \n",
       "4      {'max_depth': 5, 'min_samples_split': 5}           0.699966   \n",
       "5     {'max_depth': 5, 'min_samples_split': 10}           0.699966   \n",
       "6    {'max_depth': 5, 'min_samples_split': 100}           0.699966   \n",
       "7    {'max_depth': 5, 'min_samples_split': 500}           0.699937   \n",
       "8     {'max_depth': 10, 'min_samples_split': 5}           0.699094   \n",
       "9    {'max_depth': 10, 'min_samples_split': 10}           0.698904   \n",
       "10  {'max_depth': 10, 'min_samples_split': 100}           0.705248   \n",
       "11  {'max_depth': 10, 'min_samples_split': 500}           0.707311   \n",
       "12    {'max_depth': 50, 'min_samples_split': 5}           0.542748   \n",
       "13   {'max_depth': 50, 'min_samples_split': 10}           0.551929   \n",
       "14  {'max_depth': 50, 'min_samples_split': 100}           0.616112   \n",
       "15  {'max_depth': 50, 'min_samples_split': 500}           0.676719   \n",
       "\n",
       "    split1_test_score  split2_test_score  mean_test_score  std_test_score  \\\n",
       "0            0.588306           0.576017         0.578629        0.007081   \n",
       "1            0.588306           0.576017         0.578629        0.007081   \n",
       "2            0.588306           0.576017         0.578629        0.007081   \n",
       "3            0.588306           0.576017         0.578629        0.007081   \n",
       "4            0.709405           0.706308         0.705226        0.003929   \n",
       "5            0.709405           0.706308         0.705226        0.003929   \n",
       "6            0.709405           0.706309         0.705227        0.003929   \n",
       "7            0.709365           0.706356         0.705219        0.003932   \n",
       "8            0.702921           0.701682         0.701232        0.001594   \n",
       "9            0.703496           0.703133         0.701844        0.002084   \n",
       "10           0.710206           0.707689         0.707714        0.002024   \n",
       "11           0.715245           0.711314         0.711290        0.003239   \n",
       "12           0.543992           0.534859         0.540533        0.004045   \n",
       "13           0.551870           0.536974         0.546924        0.007036   \n",
       "14           0.615109           0.610605         0.613942        0.002395   \n",
       "15           0.683479           0.676814         0.679004        0.003165   \n",
       "\n",
       "    rank_test_score  split0_train_score  split1_train_score  \\\n",
       "0                11            0.577549            0.586131   \n",
       "1                11            0.577549            0.586131   \n",
       "2                11            0.577549            0.586131   \n",
       "3                11            0.577549            0.586131   \n",
       "4                 4            0.711914            0.709910   \n",
       "5                 4            0.711914            0.709910   \n",
       "6                 3            0.711914            0.709910   \n",
       "7                 6            0.711831            0.709869   \n",
       "8                 8            0.750340            0.750206   \n",
       "9                 7            0.749735            0.749557   \n",
       "10                2            0.746185            0.746239   \n",
       "11                1            0.742935            0.742766   \n",
       "12               16            0.998232            0.998039   \n",
       "13               15            0.991654            0.991320   \n",
       "14               10            0.928507            0.928271   \n",
       "15                9            0.836449            0.832894   \n",
       "\n",
       "    split2_train_score  mean_train_score  std_train_score  \n",
       "0             0.576127          0.579936         0.004419  \n",
       "1             0.576127          0.579936         0.004419  \n",
       "2             0.576127          0.579936         0.004419  \n",
       "3             0.576127          0.579936         0.004419  \n",
       "4             0.711783          0.711202         0.000916  \n",
       "5             0.711783          0.711202         0.000916  \n",
       "6             0.711782          0.711202         0.000915  \n",
       "7             0.711755          0.711152         0.000908  \n",
       "8             0.749143          0.749896         0.000536  \n",
       "9             0.748625          0.749306         0.000487  \n",
       "10            0.745579          0.746001         0.000299  \n",
       "11            0.742037          0.742579         0.000390  \n",
       "12            0.998528          0.998266         0.000201  \n",
       "13            0.992226          0.991733         0.000374  \n",
       "14            0.925472          0.927417         0.001379  \n",
       "15            0.832281          0.833875         0.001837  "
      ]
     },
     "execution_count": 19,
     "metadata": {},
     "output_type": "execute_result"
    }
   ],
   "source": [
    "result"
   ]
  },
  {
   "cell_type": "code",
   "execution_count": null,
   "metadata": {
    "colab": {
     "base_uri": "https://localhost:8080/"
    },
    "id": "FyT7xz-fK1R3",
    "outputId": "506a54a5-f3c8-49b4-e41c-22d15f4fb5ce"
   },
   "outputs": [],
   "source": [
    "best_params=GSCV.best_params_\n",
    "best_params"
   ]
  },
  {
   "cell_type": "code",
   "execution_count": null,
   "metadata": {
    "colab": {
     "base_uri": "https://localhost:8080/"
    },
    "id": "o69gCVbiK1Pt",
    "outputId": "587c924c-037a-4ec3-ce2b-36475d5d1a7b"
   },
   "outputs": [],
   "source": [
    "rparams=result['params']\n",
    "maxdepth = [i['max_depth'] for i in rparams]\n",
    "minsamsplit = [i['min_samples_split'] for i in rparams]\n",
    "print('max_depth: ',maxdepth)\n",
    "print('min_samples_split: ',minsamsplit)\n",
    "train_scores=result['mean_train_score'].values\n",
    "print('\\n\\ntrain_scores: ',train_scores)\n",
    "cv_scores=result['mean_test_score'].values\n",
    "print('\\n\\ncv_scores: ',cv_scores)\n",
    "trrespd=pd.DataFrame(train_scores.reshape(len(params['max_depth']),4),index=params['max_depth'],columns=params['min_samples_split'])\n",
    "terespd=pd.DataFrame(cv_scores.reshape(len(params['max_depth']),4),index=params['max_depth'],columns=params['min_samples_split'])"
   ]
  },
  {
   "cell_type": "code",
   "execution_count": 22,
   "metadata": {
    "colab": {
     "base_uri": "https://localhost:8080/",
     "height": 312
    },
    "id": "esn8xASIK1Nf",
    "outputId": "9464b5b1-d151-4c35-eb18-8343dfe7491e"
   },
   "outputs": [
    {
     "data": {
      "text/plain": [
       "Text(0.5, 1.0, 'train scores')"
      ]
     },
     "execution_count": 22,
     "metadata": {},
     "output_type": "execute_result"
    },
    {
     "data": {
      "image/png": "[encoded data removed]",
      "text/plain": [
       "<Figure size 432x288 with 2 Axes>"
      ]
     },
     "metadata": {
      "needs_background": "light"
     },
     "output_type": "display_data"
    }
   ],
   "source": [
    "ax=sns.heatmap(trrespd,annot=True)\n",
    "ax.set_xlabel('min samples split')\n",
    "ax.set_ylabel('max depth')\n",
    "ax.set_title('train scores')"
   ]
  },
  {
   "cell_type": "code",
   "execution_count": 23,
   "metadata": {
    "colab": {
     "base_uri": "https://localhost:8080/",
     "height": 312
    },
    "id": "OrwIsy3Xwf_a",
    "outputId": "ef0343fa-7fb7-4a4a-ce65-4d461d739475"
   },
   "outputs": [
    {
     "data": {
      "text/plain": [
       "Text(0.5, 1.0, 'cv scores')"
      ]
     },
     "execution_count": 23,
     "metadata": {},
     "output_type": "execute_result"
    },
    {
     "data": {
      "image/png": "[encoded data removed]",
      "text/plain": [
       "<Figure size 432x288 with 2 Axes>"
      ]
     },
     "metadata": {
      "needs_background": "light"
     },
     "output_type": "display_data"
    }
   ],
   "source": [
    "ax=sns.heatmap(terespd,annot=True)\n",
    "ax.set_xlabel('min samples split')\n",
    "ax.set_ylabel('maX depth')\n",
    "ax.set_title('cv scores')"
   ]
  },
  {
   "cell_type": "code",
   "execution_count": null,
   "metadata": {
    "id": "TdpP4DpIwhfV"
   },
   "outputs": [],
   "source": [
    "best_param=GSCV.best_params_\n",
    "clf=DecisionTreeClassifier(max_depth=best_param['max_depth'],min_samples_split=best_param['min_samples_split'])\n",
    "clf.fit(X_train,y_train)\n",
    "train_proba=clf.predict_proba(X_train)[:,1]\n",
    "test_proba=clf.predict_proba(X_test)[:,1]\n",
    "trfpr,trtpr,trthres=roc_curve(y_train,train_proba)\n",
    "tefpr,tetpr,tethres=roc_curve(y_test,test_proba)"
   ]
  },
  {
   "cell_type": "code",
   "execution_count": 25,
   "metadata": {
    "colab": {
     "base_uri": "https://localhost:8080/",
     "height": 295
    },
    "id": "z8JHRtMTwmCT",
    "outputId": "b92af81c-3240-405d-a049-ad202cd6be05"
   },
   "outputs": [
    {
     "data": {
      "image/png": "[encoded data removed]",
      "text/plain": [
       "<Figure size 432x288 with 1 Axes>"
      ]
     },
     "metadata": {
      "needs_background": "light"
     },
     "output_type": "display_data"
    }
   ],
   "source": [
    "plt.plot(trfpr,trtpr,label='Train ROC curve with AUC = '+str(auc(trfpr,trtpr)))\n",
    "plt.plot(tefpr,tetpr,label='Test ROC curve with AUC = '+str(auc(tefpr,tetpr)))\n",
    "plt.xlabel('FPR')\n",
    "plt.ylabel('TPR')\n",
    "plt.legend()\n",
    "plt.title('ROC curve for train and test set')\n",
    "plt.show()"
   ]
  },
  {
   "cell_type": "code",
   "execution_count": null,
   "metadata": {
    "id": "GnXugbM6wmvD"
   },
   "outputs": [],
   "source": [
    "index=np.argmax(trtpr*(1-trfpr))\n",
    "threshold=trthres[index]"
   ]
  },
  {
   "cell_type": "code",
   "execution_count": null,
   "metadata": {
    "id": "LLg7MH28wm1B"
   },
   "outputs": [],
   "source": [
    "def predict_using_threshold(proba,threshold):\n",
    "    predictions=[]\n",
    "    for result in proba:\n",
    "        if result>=threshold:\n",
    "            predictions.append(1)\n",
    "        else:\n",
    "            predictions.append(0)\n",
    "    return predictions"
   ]
  },
  {
   "cell_type": "code",
   "execution_count": null,
   "metadata": {
    "id": "zSwx8pTYw6cu"
   },
   "outputs": [],
   "source": [
    "train_result=predict_using_threshold(train_proba,threshold)\n",
    "test_result=predict_using_threshold(test_proba,threshold)"
   ]
  },
  {
   "cell_type": "code",
   "execution_count": 29,
   "metadata": {
    "colab": {
     "base_uri": "https://localhost:8080/"
    },
    "id": "4SDPxIqhw7O1",
    "outputId": "f6b3f4c8-16ab-4313-96da-839e3977fd6c"
   },
   "outputs": [
    {
     "name": "stdout",
     "output_type": "stream",
     "text": [
      "Train Confusion matrix:\n",
      "\n",
      "\n",
      "[[153821   6344]\n",
      " [ 72331  13512]]\n",
      "\n",
      "***************************\n",
      "\n",
      "Test Confusion matrix:\n",
      "\n",
      "\n",
      "[[38411  1713]\n",
      " [18123  3256]]\n"
     ]
    }
   ],
   "source": [
    "print('Train Confusion matrix:\\n\\n')\n",
    "print(confusion_matrix(train_result,y_train))\n",
    "print('\\n***************************\\n')\n",
    "print('Test Confusion matrix:\\n\\n')\n",
    "print(confusion_matrix(test_result,y_test))"
   ]
  },
  {
   "cell_type": "markdown",
   "metadata": {
    "id": "SjB-pEBcsQoH"
   },
   "source": [
    "Model 2: GBDT"
   ]
  },
  {
   "cell_type": "code",
   "execution_count": 30,
   "metadata": {
    "id": "EbidjG85zwWb"
   },
   "outputs": [],
   "source": [
    "clf=GradientBoostingClassifier()\n",
    "params={'learning_rate':[0.001, 0.01, 0.1, 0.2] ,'n_estimators':[5,10,75, 100]}"
   ]
  },
  {
   "cell_type": "code",
   "execution_count": 31,
   "metadata": {
    "colab": {
     "base_uri": "https://localhost:8080/"
    },
    "id": "VwZT4wz17Ahb",
    "outputId": "0a9f90bf-be13-47cd-c1f8-43dee4a529fb"
   },
   "outputs": [
    {
     "metadata": {
      "tags": null
     },
     "name": "stdout",
     "output_type": "stream",
     "text": [
      "Fitting 3 folds for each of 16 candidates, totalling 48 fits\n"
     ]
    }
   ],
   "source": [
    "GSCV=GridSearchCV(clf,param_grid=params,cv=3,scoring='roc_auc',verbose=1,return_train_score=True,n_jobs=-1)\n",
    "GSCV.fit(X_train,y_train)\n",
    "result=pd.DataFrame(GSCV.cv_results_)"
   ]
  },
  {
   "cell_type": "code",
   "execution_count": 32,
   "metadata": {
    "colab": {
     "base_uri": "https://localhost:8080/",
     "height": 1000
    },
    "id": "uBzAtDKD7H3X",
    "outputId": "ed427ae7-7b68-4f62-bddb-773c0214af51"
   },
   "outputs": [
    {
     "data": {
      "text/html": [
       "\n",
       "  <div id=\"df-a0b7ba14-5de4-47ed-b461-893fdcf8aa70\">\n",
       "    <div class=\"colab-df-container\">\n",
       "      <div>\n",
       "<style scoped>\n",
       "    .dataframe tbody tr th:only-of-type {\n",
       "        vertical-align: middle;\n",
       "    }\n",
       "\n",
       "    .dataframe tbody tr th {\n",
       "        vertical-align: top;\n",
       "    }\n",
       "\n",
       "    .dataframe thead th {\n",
       "        text-align: right;\n",
       "    }\n",
       "</style>\n",
       "<table border=\"1\" class=\"dataframe\">\n",
       "  <thead>\n",
       "    <tr style=\"text-align: right;\">\n",
       "      <th></th>\n",
       "      <th>mean_fit_time</th>\n",
       "      <th>std_fit_time</th>\n",
       "      <th>mean_score_time</th>\n",
       "      <th>std_score_time</th>\n",
       "      <th>param_learning_rate</th>\n",
       "      <th>param_n_estimators</th>\n",
       "      <th>params</th>\n",
       "      <th>split0_test_score</th>\n",
       "      <th>split1_test_score</th>\n",
       "      <th>split2_test_score</th>\n",
       "      <th>mean_test_score</th>\n",
       "      <th>std_test_score</th>\n",
       "      <th>rank_test_score</th>\n",
       "      <th>split0_train_score</th>\n",
       "      <th>split1_train_score</th>\n",
       "      <th>split2_train_score</th>\n",
       "      <th>mean_train_score</th>\n",
       "      <th>std_train_score</th>\n",
       "    </tr>\n",
       "  </thead>\n",
       "  <tbody>\n",
       "    <tr>\n",
       "      <th>0</th>\n",
       "      <td>26.381933</td>\n",
       "      <td>0.372129</td>\n",
       "      <td>0.166105</td>\n",
       "      <td>0.003270</td>\n",
       "      <td>0.001</td>\n",
       "      <td>5</td>\n",
       "      <td>{'learning_rate': 0.001, 'n_estimators': 5}</td>\n",
       "      <td>0.676021</td>\n",
       "      <td>0.687378</td>\n",
       "      <td>0.683226</td>\n",
       "      <td>0.682208</td>\n",
       "      <td>0.004692</td>\n",
       "      <td>16</td>\n",
       "      <td>0.685753</td>\n",
       "      <td>0.683228</td>\n",
       "      <td>0.684132</td>\n",
       "      <td>0.684371</td>\n",
       "      <td>0.001045</td>\n",
       "    </tr>\n",
       "    <tr>\n",
       "      <th>1</th>\n",
       "      <td>51.684821</td>\n",
       "      <td>0.465875</td>\n",
       "      <td>0.223690</td>\n",
       "      <td>0.023879</td>\n",
       "      <td>0.001</td>\n",
       "      <td>10</td>\n",
       "      <td>{'learning_rate': 0.001, 'n_estimators': 10}</td>\n",
       "      <td>0.677898</td>\n",
       "      <td>0.687378</td>\n",
       "      <td>0.684773</td>\n",
       "      <td>0.683349</td>\n",
       "      <td>0.003999</td>\n",
       "      <td>15</td>\n",
       "      <td>0.687939</td>\n",
       "      <td>0.683228</td>\n",
       "      <td>0.685852</td>\n",
       "      <td>0.685673</td>\n",
       "      <td>0.001927</td>\n",
       "    </tr>\n",
       "    <tr>\n",
       "      <th>2</th>\n",
       "      <td>377.153004</td>\n",
       "      <td>1.868639</td>\n",
       "      <td>0.592064</td>\n",
       "      <td>0.009135</td>\n",
       "      <td>0.001</td>\n",
       "      <td>75</td>\n",
       "      <td>{'learning_rate': 0.001, 'n_estimators': 75}</td>\n",
       "      <td>0.692002</td>\n",
       "      <td>0.693830</td>\n",
       "      <td>0.687942</td>\n",
       "      <td>0.691258</td>\n",
       "      <td>0.002461</td>\n",
       "      <td>13</td>\n",
       "      <td>0.701312</td>\n",
       "      <td>0.689338</td>\n",
       "      <td>0.689422</td>\n",
       "      <td>0.693357</td>\n",
       "      <td>0.005625</td>\n",
       "    </tr>\n",
       "    <tr>\n",
       "      <th>3</th>\n",
       "      <td>507.883537</td>\n",
       "      <td>4.902973</td>\n",
       "      <td>0.782165</td>\n",
       "      <td>0.010699</td>\n",
       "      <td>0.001</td>\n",
       "      <td>100</td>\n",
       "      <td>{'learning_rate': 0.001, 'n_estimators': 100}</td>\n",
       "      <td>0.692860</td>\n",
       "      <td>0.695922</td>\n",
       "      <td>0.698299</td>\n",
       "      <td>0.695694</td>\n",
       "      <td>0.002226</td>\n",
       "      <td>11</td>\n",
       "      <td>0.702604</td>\n",
       "      <td>0.691521</td>\n",
       "      <td>0.698874</td>\n",
       "      <td>0.697666</td>\n",
       "      <td>0.004605</td>\n",
       "    </tr>\n",
       "    <tr>\n",
       "      <th>4</th>\n",
       "      <td>26.699019</td>\n",
       "      <td>1.207263</td>\n",
       "      <td>0.170720</td>\n",
       "      <td>0.007360</td>\n",
       "      <td>0.01</td>\n",
       "      <td>5</td>\n",
       "      <td>{'learning_rate': 0.01, 'n_estimators': 5}</td>\n",
       "      <td>0.680802</td>\n",
       "      <td>0.692332</td>\n",
       "      <td>0.686043</td>\n",
       "      <td>0.686393</td>\n",
       "      <td>0.004713</td>\n",
       "      <td>14</td>\n",
       "      <td>0.690038</td>\n",
       "      <td>0.687631</td>\n",
       "      <td>0.687484</td>\n",
       "      <td>0.688384</td>\n",
       "      <td>0.001171</td>\n",
       "    </tr>\n",
       "    <tr>\n",
       "      <th>5</th>\n",
       "      <td>50.917851</td>\n",
       "      <td>0.166234</td>\n",
       "      <td>0.201804</td>\n",
       "      <td>0.007890</td>\n",
       "      <td>0.01</td>\n",
       "      <td>10</td>\n",
       "      <td>{'learning_rate': 0.01, 'n_estimators': 10}</td>\n",
       "      <td>0.692210</td>\n",
       "      <td>0.694717</td>\n",
       "      <td>0.691258</td>\n",
       "      <td>0.692728</td>\n",
       "      <td>0.001459</td>\n",
       "      <td>12</td>\n",
       "      <td>0.701869</td>\n",
       "      <td>0.690085</td>\n",
       "      <td>0.691782</td>\n",
       "      <td>0.694579</td>\n",
       "      <td>0.005202</td>\n",
       "    </tr>\n",
       "    <tr>\n",
       "      <th>6</th>\n",
       "      <td>381.146191</td>\n",
       "      <td>0.302359</td>\n",
       "      <td>0.625064</td>\n",
       "      <td>0.016618</td>\n",
       "      <td>0.01</td>\n",
       "      <td>75</td>\n",
       "      <td>{'learning_rate': 0.01, 'n_estimators': 75}</td>\n",
       "      <td>0.700805</td>\n",
       "      <td>0.712966</td>\n",
       "      <td>0.711197</td>\n",
       "      <td>0.708323</td>\n",
       "      <td>0.005364</td>\n",
       "      <td>9</td>\n",
       "      <td>0.712134</td>\n",
       "      <td>0.709349</td>\n",
       "      <td>0.712382</td>\n",
       "      <td>0.711289</td>\n",
       "      <td>0.001375</td>\n",
       "    </tr>\n",
       "    <tr>\n",
       "      <th>7</th>\n",
       "      <td>516.191354</td>\n",
       "      <td>2.651472</td>\n",
       "      <td>0.790619</td>\n",
       "      <td>0.017341</td>\n",
       "      <td>0.01</td>\n",
       "      <td>100</td>\n",
       "      <td>{'learning_rate': 0.01, 'n_estimators': 100}</td>\n",
       "      <td>0.705847</td>\n",
       "      <td>0.716981</td>\n",
       "      <td>0.714153</td>\n",
       "      <td>0.712327</td>\n",
       "      <td>0.004725</td>\n",
       "      <td>6</td>\n",
       "      <td>0.717813</td>\n",
       "      <td>0.713593</td>\n",
       "      <td>0.715655</td>\n",
       "      <td>0.715687</td>\n",
       "      <td>0.001723</td>\n",
       "    </tr>\n",
       "    <tr>\n",
       "      <th>8</th>\n",
       "      <td>26.186121</td>\n",
       "      <td>0.577681</td>\n",
       "      <td>0.165721</td>\n",
       "      <td>0.007799</td>\n",
       "      <td>0.1</td>\n",
       "      <td>5</td>\n",
       "      <td>{'learning_rate': 0.1, 'n_estimators': 5}</td>\n",
       "      <td>0.697592</td>\n",
       "      <td>0.707875</td>\n",
       "      <td>0.704767</td>\n",
       "      <td>0.703412</td>\n",
       "      <td>0.004306</td>\n",
       "      <td>10</td>\n",
       "      <td>0.708580</td>\n",
       "      <td>0.703362</td>\n",
       "      <td>0.705201</td>\n",
       "      <td>0.705715</td>\n",
       "      <td>0.002161</td>\n",
       "    </tr>\n",
       "    <tr>\n",
       "      <th>9</th>\n",
       "      <td>51.414482</td>\n",
       "      <td>0.099968</td>\n",
       "      <td>0.204470</td>\n",
       "      <td>0.001723</td>\n",
       "      <td>0.1</td>\n",
       "      <td>10</td>\n",
       "      <td>{'learning_rate': 0.1, 'n_estimators': 10}</td>\n",
       "      <td>0.705650</td>\n",
       "      <td>0.716645</td>\n",
       "      <td>0.714261</td>\n",
       "      <td>0.712185</td>\n",
       "      <td>0.004723</td>\n",
       "      <td>7</td>\n",
       "      <td>0.717188</td>\n",
       "      <td>0.713218</td>\n",
       "      <td>0.716410</td>\n",
       "      <td>0.715606</td>\n",
       "      <td>0.001718</td>\n",
       "    </tr>\n",
       "    <tr>\n",
       "      <th>10</th>\n",
       "      <td>386.514045</td>\n",
       "      <td>4.726323</td>\n",
       "      <td>0.705706</td>\n",
       "      <td>0.007184</td>\n",
       "      <td>0.1</td>\n",
       "      <td>75</td>\n",
       "      <td>{'learning_rate': 0.1, 'n_estimators': 75}</td>\n",
       "      <td>0.740673</td>\n",
       "      <td>0.752152</td>\n",
       "      <td>0.746261</td>\n",
       "      <td>0.746362</td>\n",
       "      <td>0.004687</td>\n",
       "      <td>4</td>\n",
       "      <td>0.759602</td>\n",
       "      <td>0.754149</td>\n",
       "      <td>0.756776</td>\n",
       "      <td>0.756842</td>\n",
       "      <td>0.002227</td>\n",
       "    </tr>\n",
       "    <tr>\n",
       "      <th>11</th>\n",
       "      <td>507.193824</td>\n",
       "      <td>0.987874</td>\n",
       "      <td>0.884309</td>\n",
       "      <td>0.007711</td>\n",
       "      <td>0.1</td>\n",
       "      <td>100</td>\n",
       "      <td>{'learning_rate': 0.1, 'n_estimators': 100}</td>\n",
       "      <td>0.743143</td>\n",
       "      <td>0.755060</td>\n",
       "      <td>0.748545</td>\n",
       "      <td>0.748916</td>\n",
       "      <td>0.004872</td>\n",
       "      <td>3</td>\n",
       "      <td>0.764480</td>\n",
       "      <td>0.759126</td>\n",
       "      <td>0.761332</td>\n",
       "      <td>0.761646</td>\n",
       "      <td>0.002197</td>\n",
       "    </tr>\n",
       "    <tr>\n",
       "      <th>12</th>\n",
       "      <td>25.532459</td>\n",
       "      <td>0.194300</td>\n",
       "      <td>0.167800</td>\n",
       "      <td>0.002377</td>\n",
       "      <td>0.2</td>\n",
       "      <td>5</td>\n",
       "      <td>{'learning_rate': 0.2, 'n_estimators': 5}</td>\n",
       "      <td>0.704275</td>\n",
       "      <td>0.716783</td>\n",
       "      <td>0.712776</td>\n",
       "      <td>0.711278</td>\n",
       "      <td>0.005215</td>\n",
       "      <td>8</td>\n",
       "      <td>0.715486</td>\n",
       "      <td>0.714300</td>\n",
       "      <td>0.715179</td>\n",
       "      <td>0.714988</td>\n",
       "      <td>0.000503</td>\n",
       "    </tr>\n",
       "    <tr>\n",
       "      <th>13</th>\n",
       "      <td>52.226438</td>\n",
       "      <td>0.749727</td>\n",
       "      <td>0.210533</td>\n",
       "      <td>0.006053</td>\n",
       "      <td>0.2</td>\n",
       "      <td>10</td>\n",
       "      <td>{'learning_rate': 0.2, 'n_estimators': 10}</td>\n",
       "      <td>0.718221</td>\n",
       "      <td>0.730542</td>\n",
       "      <td>0.724449</td>\n",
       "      <td>0.724404</td>\n",
       "      <td>0.005030</td>\n",
       "      <td>5</td>\n",
       "      <td>0.730855</td>\n",
       "      <td>0.728702</td>\n",
       "      <td>0.729641</td>\n",
       "      <td>0.729733</td>\n",
       "      <td>0.000882</td>\n",
       "    </tr>\n",
       "    <tr>\n",
       "      <th>14</th>\n",
       "      <td>383.206263</td>\n",
       "      <td>3.748806</td>\n",
       "      <td>0.691953</td>\n",
       "      <td>0.005769</td>\n",
       "      <td>0.2</td>\n",
       "      <td>75</td>\n",
       "      <td>{'learning_rate': 0.2, 'n_estimators': 75}</td>\n",
       "      <td>0.744990</td>\n",
       "      <td>0.757716</td>\n",
       "      <td>0.750195</td>\n",
       "      <td>0.750967</td>\n",
       "      <td>0.005224</td>\n",
       "      <td>2</td>\n",
       "      <td>0.770059</td>\n",
       "      <td>0.764262</td>\n",
       "      <td>0.765567</td>\n",
       "      <td>0.766629</td>\n",
       "      <td>0.002483</td>\n",
       "    </tr>\n",
       "    <tr>\n",
       "      <th>15</th>\n",
       "      <td>492.597936</td>\n",
       "      <td>24.310472</td>\n",
       "      <td>0.728762</td>\n",
       "      <td>0.182654</td>\n",
       "      <td>0.2</td>\n",
       "      <td>100</td>\n",
       "      <td>{'learning_rate': 0.2, 'n_estimators': 100}</td>\n",
       "      <td>0.746130</td>\n",
       "      <td>0.759442</td>\n",
       "      <td>0.751348</td>\n",
       "      <td>0.752306</td>\n",
       "      <td>0.005477</td>\n",
       "      <td>1</td>\n",
       "      <td>0.774533</td>\n",
       "      <td>0.768878</td>\n",
       "      <td>0.770706</td>\n",
       "      <td>0.771372</td>\n",
       "      <td>0.002356</td>\n",
       "    </tr>\n",
       "  </tbody>\n",
       "</table>\n",
       "</div>\n",
       "      <button class=\"colab-df-convert\" onclick=\"convertToInteractive('df-a0b7ba14-5de4-47ed-b461-893fdcf8aa70')\"\n",
       "              title=\"Convert this dataframe to an interactive table.\"\n",
       "              style=\"display:none;\">\n",
       "        \n",
       "  <svg xmlns=\"http://www.w3.org/2000/svg\" height=\"24px\"viewBox=\"0 0 24 24\"\n",
       "       width=\"24px\">\n",
       "    <path d=\"M0 0h24v24H0V0z\" fill=\"none\"/>\n",
       "    <path d=\"M18.56 5.44l.94 2.06.94-2.06 2.06-.94-2.06-.94-.94-2.06-.94 2.06-2.06.94zm-11 1L8.5 8.5l.94-2.06 2.06-.94-2.06-.94L8.5 2.5l-.94 2.06-2.06.94zm10 10l.94 2.06.94-2.06 2.06-.94-2.06-.94-.94-2.06-.94 2.06-2.06.94z\"/><path d=\"M17.41 7.96l-1.37-1.37c-.4-.4-.92-.59-1.43-.59-.52 0-1.04.2-1.43.59L10.3 9.45l-7.72 7.72c-.78.78-.78 2.05 0 2.83L4 21.41c.39.39.9.59 1.41.59.51 0 1.02-.2 1.41-.59l7.78-7.78 2.81-2.81c.8-.78.8-2.07 0-2.86zM5.41 20L4 18.59l7.72-7.72 1.47 1.35L5.41 20z\"/>\n",
       "  </svg>\n",
       "      </button>\n",
       "      \n",
       "  <style>\n",
       "    .colab-df-container {\n",
       "      display:flex;\n",
       "      flex-wrap:wrap;\n",
       "      gap: 12px;\n",
       "    }\n",
       "\n",
       "    .colab-df-convert {\n",
       "      background-color: #E8F0FE;\n",
       "      border: none;\n",
       "      border-radius: 50%;\n",
       "      cursor: pointer;\n",
       "      display: none;\n",
       "      fill: #1967D2;\n",
       "      height: 32px;\n",
       "      padding: 0 0 0 0;\n",
       "      width: 32px;\n",
       "    }\n",
       "\n",
       "    .colab-df-convert:hover {\n",
       "      background-color: #E2EBFA;\n",
       "      box-shadow: 0px 1px 2px rgba(60, 64, 67, 0.3), 0px 1px 3px 1px rgba(60, 64, 67, 0.15);\n",
       "      fill: #174EA6;\n",
       "    }\n",
       "\n",
       "    [theme=dark] .colab-df-convert {\n",
       "      background-color: #3B4455;\n",
       "      fill: #D2E3FC;\n",
       "    }\n",
       "\n",
       "    [theme=dark] .colab-df-convert:hover {\n",
       "      background-color: #434B5C;\n",
       "      box-shadow: 0px 1px 3px 1px rgba(0, 0, 0, 0.15);\n",
       "      filter: drop-shadow(0px 1px 2px rgba(0, 0, 0, 0.3));\n",
       "      fill: #FFFFFF;\n",
       "    }\n",
       "  </style>\n",
       "\n",
       "      <script>\n",
       "        const buttonEl =\n",
       "          document.querySelector('#df-a0b7ba14-5de4-47ed-b461-893fdcf8aa70 button.colab-df-convert');\n",
       "        buttonEl.style.display =\n",
       "          google.colab.kernel.accessAllowed ? 'block' : 'none';\n",
       "\n",
       "        async function convertToInteractive(key) {\n",
       "          const element = document.querySelector('#df-a0b7ba14-5de4-47ed-b461-893fdcf8aa70');\n",
       "          const dataTable =\n",
       "            await google.colab.kernel.invokeFunction('convertToInteractive',\n",
       "                                                     [key], {});\n",
       "          if (!dataTable) return;\n",
       "\n",
       "          const docLinkHtml = 'Like what you see? Visit the ' +\n",
       "            '<a target=\"_blank\" href=https://colab.research.google.com/notebooks/data_table.ipynb>data table notebook</a>'\n",
       "            + ' to learn more about interactive tables.';\n",
       "          element.innerHTML = '';\n",
       "          dataTable['output_type'] = 'display_data';\n",
       "          await google.colab.output.renderOutput(dataTable, element);\n",
       "          const docLink = document.createElement('div');\n",
       "          docLink.innerHTML = docLinkHtml;\n",
       "          element.appendChild(docLink);\n",
       "        }\n",
       "      </script>\n",
       "    </div>\n",
       "  </div>\n",
       "  "
      ],
      "text/plain": [
       "    mean_fit_time  std_fit_time  mean_score_time  std_score_time  \\\n",
       "0       26.381933      0.372129         0.166105        0.003270   \n",
       "1       51.684821      0.465875         0.223690        0.023879   \n",
       "2      377.153004      1.868639         0.592064        0.009135   \n",
       "3      507.883537      4.902973         0.782165        0.010699   \n",
       "4       26.699019      1.207263         0.170720        0.007360   \n",
       "5       50.917851      0.166234         0.201804        0.007890   \n",
       "6      381.146191      0.302359         0.625064        0.016618   \n",
       "7      516.191354      2.651472         0.790619        0.017341   \n",
       "8       26.186121      0.577681         0.165721        0.007799   \n",
       "9       51.414482      0.099968         0.204470        0.001723   \n",
       "10     386.514045      4.726323         0.705706        0.007184   \n",
       "11     507.193824      0.987874         0.884309        0.007711   \n",
       "12      25.532459      0.194300         0.167800        0.002377   \n",
       "13      52.226438      0.749727         0.210533        0.006053   \n",
       "14     383.206263      3.748806         0.691953        0.005769   \n",
       "15     492.597936     24.310472         0.728762        0.182654   \n",
       "\n",
       "   param_learning_rate param_n_estimators  \\\n",
       "0                0.001                  5   \n",
       "1                0.001                 10   \n",
       "2                0.001                 75   \n",
       "3                0.001                100   \n",
       "4                 0.01                  5   \n",
       "5                 0.01                 10   \n",
       "6                 0.01                 75   \n",
       "7                 0.01                100   \n",
       "8                  0.1                  5   \n",
       "9                  0.1                 10   \n",
       "10                 0.1                 75   \n",
       "11                 0.1                100   \n",
       "12                 0.2                  5   \n",
       "13                 0.2                 10   \n",
       "14                 0.2                 75   \n",
       "15                 0.2                100   \n",
       "\n",
       "                                           params  split0_test_score  \\\n",
       "0     {'learning_rate': 0.001, 'n_estimators': 5}           0.676021   \n",
       "1    {'learning_rate': 0.001, 'n_estimators': 10}           0.677898   \n",
       "2    {'learning_rate': 0.001, 'n_estimators': 75}           0.692002   \n",
       "3   {'learning_rate': 0.001, 'n_estimators': 100}           0.692860   \n",
       "4      {'learning_rate': 0.01, 'n_estimators': 5}           0.680802   \n",
       "5     {'learning_rate': 0.01, 'n_estimators': 10}           0.692210   \n",
       "6     {'learning_rate': 0.01, 'n_estimators': 75}           0.700805   \n",
       "7    {'learning_rate': 0.01, 'n_estimators': 100}           0.705847   \n",
       "8       {'learning_rate': 0.1, 'n_estimators': 5}           0.697592   \n",
       "9      {'learning_rate': 0.1, 'n_estimators': 10}           0.705650   \n",
       "10     {'learning_rate': 0.1, 'n_estimators': 75}           0.740673   \n",
       "11    {'learning_rate': 0.1, 'n_estimators': 100}           0.743143   \n",
       "12      {'learning_rate': 0.2, 'n_estimators': 5}           0.704275   \n",
       "13     {'learning_rate': 0.2, 'n_estimators': 10}           0.718221   \n",
       "14     {'learning_rate': 0.2, 'n_estimators': 75}           0.744990   \n",
       "15    {'learning_rate': 0.2, 'n_estimators': 100}           0.746130   \n",
       "\n",
       "    split1_test_score  split2_test_score  mean_test_score  std_test_score  \\\n",
       "0            0.687378           0.683226         0.682208        0.004692   \n",
       "1            0.687378           0.684773         0.683349        0.003999   \n",
       "2            0.693830           0.687942         0.691258        0.002461   \n",
       "3            0.695922           0.698299         0.695694        0.002226   \n",
       "4            0.692332           0.686043         0.686393        0.004713   \n",
       "5            0.694717           0.691258         0.692728        0.001459   \n",
       "6            0.712966           0.711197         0.708323        0.005364   \n",
       "7            0.716981           0.714153         0.712327        0.004725   \n",
       "8            0.707875           0.704767         0.703412        0.004306   \n",
       "9            0.716645           0.714261         0.712185        0.004723   \n",
       "10           0.752152           0.746261         0.746362        0.004687   \n",
       "11           0.755060           0.748545         0.748916        0.004872   \n",
       "12           0.716783           0.712776         0.711278        0.005215   \n",
       "13           0.730542           0.724449         0.724404        0.005030   \n",
       "14           0.757716           0.750195         0.750967        0.005224   \n",
       "15           0.759442           0.751348         0.752306        0.005477   \n",
       "\n",
       "    rank_test_score  split0_train_score  split1_train_score  \\\n",
       "0                16            0.685753            0.683228   \n",
       "1                15            0.687939            0.683228   \n",
       "2                13            0.701312            0.689338   \n",
       "3                11            0.702604            0.691521   \n",
       "4                14            0.690038            0.687631   \n",
       "5                12            0.701869            0.690085   \n",
       "6                 9            0.712134            0.709349   \n",
       "7                 6            0.717813            0.713593   \n",
       "8                10            0.708580            0.703362   \n",
       "9                 7            0.717188            0.713218   \n",
       "10                4            0.759602            0.754149   \n",
       "11                3            0.764480            0.759126   \n",
       "12                8            0.715486            0.714300   \n",
       "13                5            0.730855            0.728702   \n",
       "14                2            0.770059            0.764262   \n",
       "15                1            0.774533            0.768878   \n",
       "\n",
       "    split2_train_score  mean_train_score  std_train_score  \n",
       "0             0.684132          0.684371         0.001045  \n",
       "1             0.685852          0.685673         0.001927  \n",
       "2             0.689422          0.693357         0.005625  \n",
       "3             0.698874          0.697666         0.004605  \n",
       "4             0.687484          0.688384         0.001171  \n",
       "5             0.691782          0.694579         0.005202  \n",
       "6             0.712382          0.711289         0.001375  \n",
       "7             0.715655          0.715687         0.001723  \n",
       "8             0.705201          0.705715         0.002161  \n",
       "9             0.716410          0.715606         0.001718  \n",
       "10            0.756776          0.756842         0.002227  \n",
       "11            0.761332          0.761646         0.002197  \n",
       "12            0.715179          0.714988         0.000503  \n",
       "13            0.729641          0.729733         0.000882  \n",
       "14            0.765567          0.766629         0.002483  \n",
       "15            0.770706          0.771372         0.002356  "
      ]
     },
     "execution_count": 32,
     "metadata": {},
     "output_type": "execute_result"
    }
   ],
   "source": [
    "result"
   ]
  },
  {
   "cell_type": "code",
   "execution_count": 33,
   "metadata": {
    "colab": {
     "base_uri": "https://localhost:8080/"
    },
    "id": "3Pdm6T127C_n",
    "outputId": "621d2fb1-e336-4ebf-da36-f33087d2a579"
   },
   "outputs": [
    {
     "data": {
      "text/plain": [
       "{'learning_rate': 0.2, 'n_estimators': 100}"
      ]
     },
     "execution_count": 33,
     "metadata": {},
     "output_type": "execute_result"
    }
   ],
   "source": [
    "best_params=GSCV.best_params_\n",
    "best_params"
   ]
  },
  {
   "cell_type": "code",
   "execution_count": 37,
   "metadata": {
    "colab": {
     "base_uri": "https://localhost:8080/"
    },
    "id": "FjdBl_347C-d",
    "outputId": "bc670251-42e4-4f50-f7bb-1fec3e134cf1"
   },
   "outputs": [
    {
     "name": "stdout",
     "output_type": "stream",
     "text": [
      "learning_rate:  [0.001, 0.001, 0.001, 0.001, 0.01, 0.01, 0.01, 0.01, 0.1, 0.1, 0.1, 0.1, 0.2, 0.2, 0.2, 0.2]\n",
      "n_estimator:  [5, 10, 75, 100, 5, 10, 75, 100, 5, 10, 75, 100, 5, 10, 75, 100]\n",
      "\n",
      "\n",
      "train_scores:  [0.68437123 0.68567296 0.69335738 0.69766624 0.68838426 0.69457864\n",
      " 0.7112886  0.71568689 0.70571457 0.71560566 0.7568423  0.76164615\n",
      " 0.71498834 0.72973293 0.7666294  0.77137246]\n",
      "\n",
      "\n",
      "cv_scores:  [0.68220832 0.68334943 0.69125813 0.69569381 0.68639253 0.69272811\n",
      " 0.70832272 0.71232686 0.70341151 0.71218509 0.74636209 0.74891611\n",
      " 0.71127801 0.72440407 0.75096705 0.75230627]\n"
     ]
    }
   ],
   "source": [
    "rparams=result['params']\n",
    "maxdepth = [i['learning_rate'] for i in rparams]\n",
    "nestimator = [i['n_estimators'] for i in rparams]\n",
    "print('learning_rate: ',maxdepth)\n",
    "print('n_estimator: ',nestimator)\n",
    "train_scores=result['mean_train_score'].values\n",
    "print('\\n\\ntrain_scores: ',train_scores)\n",
    "cv_scores=result['mean_test_score'].values\n",
    "print('\\n\\ncv_scores: ',cv_scores)"
   ]
  },
  {
   "cell_type": "code",
   "execution_count": 39,
   "metadata": {
    "colab": {
     "base_uri": "https://localhost:8080/",
     "height": 313
    },
    "id": "pj4t4E-57Por",
    "outputId": "c76a61b9-fa80-45cc-b996-fef20e0a9adb"
   },
   "outputs": [
    {
     "data": {
      "text/plain": [
       "Text(0.5, 1.0, 'train scores')"
      ]
     },
     "execution_count": 39,
     "metadata": {},
     "output_type": "execute_result"
    },
    {
     "data": {
      "image/png": "[encoded data removed]",
      "text/plain": [
       "<Figure size 432x288 with 2 Axes>"
      ]
     },
     "metadata": {
      "needs_background": "light"
     },
     "output_type": "display_data"
    }
   ],
   "source": [
    "ax=sns.heatmap(trrespd,annot=True)\n",
    "ax.set_xlabel('n_estimator')\n",
    "ax.set_ylabel('learning_rate')\n",
    "ax.set_title('train scores')"
   ]
  },
  {
   "cell_type": "code",
   "execution_count": 36,
   "metadata": {
    "colab": {
     "base_uri": "https://localhost:8080/",
     "height": 313
    },
    "id": "nBVkeNQc7Pm2",
    "outputId": "22d7575a-ff53-41ee-dbb6-b8f30a807218"
   },
   "outputs": [
    {
     "data": {
      "text/plain": [
       "Text(0.5, 1.0, 'cv scores')"
      ]
     },
     "execution_count": 36,
     "metadata": {},
     "output_type": "execute_result"
    },
    {
     "data": {
      "image/png": "[encoded data removed]",
      "text/plain": [
       "<Figure size 432x288 with 2 Axes>"
      ]
     },
     "metadata": {
      "needs_background": "light"
     },
     "output_type": "display_data"
    }
   ],
   "source": [
    "ax=sns.heatmap(terespd,annot=True)\n",
    "ax.set_xlabel('n_estimator')\n",
    "ax.set_ylabel('learning_rate')\n",
    "ax.set_title('cv scores')"
   ]
  },
  {
   "cell_type": "code",
   "execution_count": 45,
   "metadata": {
    "id": "awPHwbbI7PXE"
   },
   "outputs": [],
   "source": [
    "best_param=GSCV.best_params_\n",
    "clf=GradientBoostingClassifier(learning_rate=best_param['learning_rate'] ,n_estimators=best_param['n_estimators'])\n",
    "clf.fit(X_train,y_train)\n",
    "train_proba=clf.predict_proba(X_train)[:,1]\n",
    "test_proba=clf.predict_proba(X_test)[:,1]\n",
    "trfpr,trtpr,trthres=roc_curve(y_train,train_proba)\n",
    "tefpr,tetpr,tethres=roc_curve(y_test,test_proba)"
   ]
  },
  {
   "cell_type": "code",
   "execution_count": 46,
   "metadata": {
    "colab": {
     "base_uri": "https://localhost:8080/",
     "height": 295
    },
    "id": "N8__U-2q7PUt",
    "outputId": "42cdf50b-d8b1-4d79-d061-90505635d001"
   },
   "outputs": [
    {
     "data": {
      "image/png": "[encoded data removed]",
      "text/plain": [
       "<Figure size 432x288 with 1 Axes>"
      ]
     },
     "metadata": {
      "needs_background": "light"
     },
     "output_type": "display_data"
    }
   ],
   "source": [
    "plt.plot(trfpr,trtpr,label='Train ROC curve with AUC = '+str(auc(trfpr,trtpr)))\n",
    "plt.plot(tefpr,tetpr,label='Test ROC curve with AUC = '+str(auc(tefpr,tetpr)))\n",
    "plt.xlabel('FPR')\n",
    "plt.ylabel('TPR')\n",
    "plt.legend()\n",
    "plt.title('ROC curve for train and test set')\n",
    "plt.show()"
   ]
  },
  {
   "cell_type": "code",
   "execution_count": 47,
   "metadata": {
    "id": "Esjs_Obr7PTg"
   },
   "outputs": [],
   "source": [
    "index=np.argmax(trtpr*(1-trfpr))\n",
    "threshold=trthres[index]"
   ]
  },
  {
   "cell_type": "code",
   "execution_count": 48,
   "metadata": {
    "id": "tdrgyOTh7PSH"
   },
   "outputs": [],
   "source": [
    "def predict_using_threshold(proba,threshold):\n",
    "    predictions=[]\n",
    "    for result in proba:\n",
    "        if result>=threshold:\n",
    "            predictions.append(1)\n",
    "        else:\n",
    "            predictions.append(0)\n",
    "    return predictions"
   ]
  },
  {
   "cell_type": "code",
   "execution_count": 49,
   "metadata": {
    "id": "uKms49Wt7PQs"
   },
   "outputs": [],
   "source": [
    "train_result=predict_using_threshold(train_proba,threshold)\n",
    "test_result=predict_using_threshold(test_proba,threshold)"
   ]
  },
  {
   "cell_type": "code",
   "execution_count": 50,
   "metadata": {
    "colab": {
     "base_uri": "https://localhost:8080/",
     "height": 334
    },
    "id": "tsrVjx3J7PHg",
    "outputId": "b01d4202-a291-4c5b-fcac-86596578392a"
   },
   "outputs": [
    {
     "name": "stdout",
     "output_type": "stream",
     "text": [
      "Train Confusion matrix:\n",
      "\n",
      "\n"
     ]
    },
    {
     "data": {
      "text/plain": [
       "<matplotlib.axes._subplots.AxesSubplot at 0x7f878561fd90>"
      ]
     },
     "execution_count": 50,
     "metadata": {},
     "output_type": "execute_result"
    },
    {
     "data": {
      "image/png": "[encoded data removed]",
      "text/plain": [
       "<Figure size 432x288 with 2 Axes>"
      ]
     },
     "metadata": {
      "needs_background": "light"
     },
     "output_type": "display_data"
    }
   ],
   "source": [
    "print('Train Confusion matrix:\\n\\n')\n",
    "sns.heatmap(confusion_matrix(train_result,y_train),annot=True)"
   ]
  },
  {
   "cell_type": "code",
   "execution_count": 51,
   "metadata": {
    "colab": {
     "base_uri": "https://localhost:8080/",
     "height": 334
    },
    "id": "7YUdlyyF7PGX",
    "outputId": "c95406ef-25cd-4ff3-89d1-abbd32681c7c"
   },
   "outputs": [
    {
     "name": "stdout",
     "output_type": "stream",
     "text": [
      "Test Confusion matrix:\n",
      "\n",
      "\n"
     ]
    },
    {
     "data": {
      "text/plain": [
       "<matplotlib.axes._subplots.AxesSubplot at 0x7f87854c5950>"
      ]
     },
     "execution_count": 51,
     "metadata": {},
     "output_type": "execute_result"
    },
    {
     "data": {
      "image/png": "[encoded data removed]",
      "text/plain": [
       "<Figure size 432x288 with 2 Axes>"
      ]
     },
     "metadata": {
      "needs_background": "light"
     },
     "output_type": "display_data"
    }
   ],
   "source": [
    "print('Test Confusion matrix:\\n\\n')\n",
    "sns.heatmap(confusion_matrix(test_result,y_test),annot=True)"
   ]
  },
  {
   "cell_type": "markdown",
   "metadata": {
    "id": "vLyV9-eoskj-"
   },
   "source": [
    "Feature Engineering 2: Adding new columns based on domain knowledge"
   ]
  },
  {
   "cell_type": "code",
   "execution_count": 67,
   "metadata": {
    "id": "fVcBN_qU7PFK"
   },
   "outputs": [],
   "source": [
    "X['CREDIT_INCOME_PERCENT'] = X['AMT_CREDIT'] / X['AMT_INCOME_TOTAL']\n",
    "X['ANNUITY_INCOME_PERCENT'] = X['AMT_ANNUITY'] / X['AMT_INCOME_TOTAL']\n",
    "X['CREDIT_TERM'] = X['AMT_ANNUITY'] / X['AMT_CREDIT']\n",
    "X['DAYS_EMPLOYED_PERCENT'] = X['DAYS_EMPLOYED'] / X['DAYS_BIRTH']"
   ]
  },
  {
   "cell_type": "code",
   "execution_count": 69,
   "metadata": {
    "id": "8K2By79c0STZ"
   },
   "outputs": [],
   "source": [
    "imputer = SimpleImputer(strategy = 'median')\n",
    "X_imp = imputer.fit_transform(X)\n",
    "scaler = MinMaxScaler(feature_range = (0, 1))\n",
    "X_scl = scaler.fit_transform(X_imp)"
   ]
  },
  {
   "cell_type": "code",
   "execution_count": 70,
   "metadata": {
    "id": "ynklo1gp0STZ"
   },
   "outputs": [],
   "source": [
    "X_train, X_test, y_train,y_test = train_test_split(X_scl,y, test_size=0.2, random_state=11)"
   ]
  },
  {
   "cell_type": "code",
   "execution_count": 71,
   "metadata": {
    "colab": {
     "base_uri": "https://localhost:8080/"
    },
    "id": "Xte9dR860STZ",
    "outputId": "bcd4dc02-cd23-4d90-a8b3-07e5fa0da65c"
   },
   "outputs": [
    {
     "data": {
      "text/plain": [
       "((246008, 249), (61503, 249), (246008,), (61503,))"
      ]
     },
     "execution_count": 71,
     "metadata": {},
     "output_type": "execute_result"
    }
   ],
   "source": [
    "X_train.shape, X_test.shape, y_train.shape,y_test.shape"
   ]
  },
  {
   "cell_type": "markdown",
   "metadata": {
    "id": "7TKmdfQZsrzy"
   },
   "source": [
    "Model 3: Decision Tree"
   ]
  },
  {
   "cell_type": "code",
   "execution_count": 72,
   "metadata": {
    "id": "iOgcn6650STa"
   },
   "outputs": [],
   "source": [
    "clf=DecisionTreeClassifier()\n",
    "params={'max_depth': [1, 5, 10, 50],'min_samples_split':[5, 10, 100, 500]}"
   ]
  },
  {
   "cell_type": "code",
   "execution_count": 73,
   "metadata": {
    "colab": {
     "base_uri": "https://localhost:8080/"
    },
    "id": "cJLZRvk_0STa",
    "outputId": "06735994-f004-47cd-d338-f3edac00be3c"
   },
   "outputs": [
    {
     "name": "stdout",
     "output_type": "stream",
     "text": [
      "Fitting 3 folds for each of 16 candidates, totalling 48 fits\n"
     ]
    }
   ],
   "source": [
    "GSCV=GridSearchCV(clf,param_grid=params,cv=3,scoring='roc_auc',verbose=1,return_train_score=True)\n",
    "GSCV.fit(X_train,y_train)\n",
    "result=pd.DataFrame(GSCV.cv_results_)"
   ]
  },
  {
   "cell_type": "code",
   "execution_count": 74,
   "metadata": {
    "colab": {
     "base_uri": "https://localhost:8080/",
     "height": 1000
    },
    "id": "VigXzNy50STa",
    "outputId": "106e5394-1696-417c-b8b5-97773ecf35b6"
   },
   "outputs": [
    {
     "data": {
      "text/html": [
       "\n",
       "  <div id=\"df-9bca2d6c-0208-41d7-963c-8ee88f78c995\">\n",
       "    <div class=\"colab-df-container\">\n",
       "      <div>\n",
       "<style scoped>\n",
       "    .dataframe tbody tr th:only-of-type {\n",
       "        vertical-align: middle;\n",
       "    }\n",
       "\n",
       "    .dataframe tbody tr th {\n",
       "        vertical-align: top;\n",
       "    }\n",
       "\n",
       "    .dataframe thead th {\n",
       "        text-align: right;\n",
       "    }\n",
       "</style>\n",
       "<table border=\"1\" class=\"dataframe\">\n",
       "  <thead>\n",
       "    <tr style=\"text-align: right;\">\n",
       "      <th></th>\n",
       "      <th>mean_fit_time</th>\n",
       "      <th>std_fit_time</th>\n",
       "      <th>mean_score_time</th>\n",
       "      <th>std_score_time</th>\n",
       "      <th>param_max_depth</th>\n",
       "      <th>param_min_samples_split</th>\n",
       "      <th>params</th>\n",
       "      <th>split0_test_score</th>\n",
       "      <th>split1_test_score</th>\n",
       "      <th>split2_test_score</th>\n",
       "      <th>mean_test_score</th>\n",
       "      <th>std_test_score</th>\n",
       "      <th>rank_test_score</th>\n",
       "      <th>split0_train_score</th>\n",
       "      <th>split1_train_score</th>\n",
       "      <th>split2_train_score</th>\n",
       "      <th>mean_train_score</th>\n",
       "      <th>std_train_score</th>\n",
       "    </tr>\n",
       "  </thead>\n",
       "  <tbody>\n",
       "    <tr>\n",
       "      <th>0</th>\n",
       "      <td>1.500629</td>\n",
       "      <td>0.011335</td>\n",
       "      <td>0.080265</td>\n",
       "      <td>0.008963</td>\n",
       "      <td>1</td>\n",
       "      <td>5</td>\n",
       "      <td>{'max_depth': 1, 'min_samples_split': 5}</td>\n",
       "      <td>0.571563</td>\n",
       "      <td>0.588306</td>\n",
       "      <td>0.576017</td>\n",
       "      <td>0.578629</td>\n",
       "      <td>0.007081</td>\n",
       "      <td>11</td>\n",
       "      <td>0.577549</td>\n",
       "      <td>0.586131</td>\n",
       "      <td>0.576127</td>\n",
       "      <td>0.579936</td>\n",
       "      <td>0.004419</td>\n",
       "    </tr>\n",
       "    <tr>\n",
       "      <th>1</th>\n",
       "      <td>1.484735</td>\n",
       "      <td>0.011744</td>\n",
       "      <td>0.076155</td>\n",
       "      <td>0.003261</td>\n",
       "      <td>1</td>\n",
       "      <td>10</td>\n",
       "      <td>{'max_depth': 1, 'min_samples_split': 10}</td>\n",
       "      <td>0.571563</td>\n",
       "      <td>0.588306</td>\n",
       "      <td>0.576017</td>\n",
       "      <td>0.578629</td>\n",
       "      <td>0.007081</td>\n",
       "      <td>11</td>\n",
       "      <td>0.577549</td>\n",
       "      <td>0.586131</td>\n",
       "      <td>0.576127</td>\n",
       "      <td>0.579936</td>\n",
       "      <td>0.004419</td>\n",
       "    </tr>\n",
       "    <tr>\n",
       "      <th>2</th>\n",
       "      <td>1.479721</td>\n",
       "      <td>0.009860</td>\n",
       "      <td>0.073719</td>\n",
       "      <td>0.000909</td>\n",
       "      <td>1</td>\n",
       "      <td>100</td>\n",
       "      <td>{'max_depth': 1, 'min_samples_split': 100}</td>\n",
       "      <td>0.571563</td>\n",
       "      <td>0.588306</td>\n",
       "      <td>0.576017</td>\n",
       "      <td>0.578629</td>\n",
       "      <td>0.007081</td>\n",
       "      <td>11</td>\n",
       "      <td>0.577549</td>\n",
       "      <td>0.586131</td>\n",
       "      <td>0.576127</td>\n",
       "      <td>0.579936</td>\n",
       "      <td>0.004419</td>\n",
       "    </tr>\n",
       "    <tr>\n",
       "      <th>3</th>\n",
       "      <td>1.489726</td>\n",
       "      <td>0.008530</td>\n",
       "      <td>0.073565</td>\n",
       "      <td>0.000382</td>\n",
       "      <td>1</td>\n",
       "      <td>500</td>\n",
       "      <td>{'max_depth': 1, 'min_samples_split': 500}</td>\n",
       "      <td>0.571563</td>\n",
       "      <td>0.588306</td>\n",
       "      <td>0.576017</td>\n",
       "      <td>0.578629</td>\n",
       "      <td>0.007081</td>\n",
       "      <td>11</td>\n",
       "      <td>0.577549</td>\n",
       "      <td>0.586131</td>\n",
       "      <td>0.576127</td>\n",
       "      <td>0.579936</td>\n",
       "      <td>0.004419</td>\n",
       "    </tr>\n",
       "    <tr>\n",
       "      <th>4</th>\n",
       "      <td>6.982794</td>\n",
       "      <td>0.629887</td>\n",
       "      <td>0.081542</td>\n",
       "      <td>0.000284</td>\n",
       "      <td>5</td>\n",
       "      <td>5</td>\n",
       "      <td>{'max_depth': 5, 'min_samples_split': 5}</td>\n",
       "      <td>0.699966</td>\n",
       "      <td>0.709402</td>\n",
       "      <td>0.706308</td>\n",
       "      <td>0.705225</td>\n",
       "      <td>0.003928</td>\n",
       "      <td>4</td>\n",
       "      <td>0.711914</td>\n",
       "      <td>0.709921</td>\n",
       "      <td>0.711783</td>\n",
       "      <td>0.711206</td>\n",
       "      <td>0.000910</td>\n",
       "    </tr>\n",
       "    <tr>\n",
       "      <th>5</th>\n",
       "      <td>6.526469</td>\n",
       "      <td>0.030829</td>\n",
       "      <td>0.081335</td>\n",
       "      <td>0.000802</td>\n",
       "      <td>5</td>\n",
       "      <td>10</td>\n",
       "      <td>{'max_depth': 5, 'min_samples_split': 10}</td>\n",
       "      <td>0.699966</td>\n",
       "      <td>0.709402</td>\n",
       "      <td>0.706308</td>\n",
       "      <td>0.705225</td>\n",
       "      <td>0.003928</td>\n",
       "      <td>4</td>\n",
       "      <td>0.711914</td>\n",
       "      <td>0.709921</td>\n",
       "      <td>0.711783</td>\n",
       "      <td>0.711206</td>\n",
       "      <td>0.000910</td>\n",
       "    </tr>\n",
       "    <tr>\n",
       "      <th>6</th>\n",
       "      <td>6.724621</td>\n",
       "      <td>0.319287</td>\n",
       "      <td>0.081257</td>\n",
       "      <td>0.000984</td>\n",
       "      <td>5</td>\n",
       "      <td>100</td>\n",
       "      <td>{'max_depth': 5, 'min_samples_split': 100}</td>\n",
       "      <td>0.699966</td>\n",
       "      <td>0.709402</td>\n",
       "      <td>0.706309</td>\n",
       "      <td>0.705225</td>\n",
       "      <td>0.003928</td>\n",
       "      <td>3</td>\n",
       "      <td>0.711914</td>\n",
       "      <td>0.709921</td>\n",
       "      <td>0.711782</td>\n",
       "      <td>0.711206</td>\n",
       "      <td>0.000910</td>\n",
       "    </tr>\n",
       "    <tr>\n",
       "      <th>7</th>\n",
       "      <td>6.542156</td>\n",
       "      <td>0.005582</td>\n",
       "      <td>0.082631</td>\n",
       "      <td>0.002497</td>\n",
       "      <td>5</td>\n",
       "      <td>500</td>\n",
       "      <td>{'max_depth': 5, 'min_samples_split': 500}</td>\n",
       "      <td>0.699937</td>\n",
       "      <td>0.709362</td>\n",
       "      <td>0.706356</td>\n",
       "      <td>0.705218</td>\n",
       "      <td>0.003931</td>\n",
       "      <td>6</td>\n",
       "      <td>0.711831</td>\n",
       "      <td>0.709880</td>\n",
       "      <td>0.711755</td>\n",
       "      <td>0.711155</td>\n",
       "      <td>0.000902</td>\n",
       "    </tr>\n",
       "    <tr>\n",
       "      <th>8</th>\n",
       "      <td>11.870607</td>\n",
       "      <td>0.047862</td>\n",
       "      <td>0.089717</td>\n",
       "      <td>0.002972</td>\n",
       "      <td>10</td>\n",
       "      <td>5</td>\n",
       "      <td>{'max_depth': 10, 'min_samples_split': 5}</td>\n",
       "      <td>0.699859</td>\n",
       "      <td>0.705288</td>\n",
       "      <td>0.700172</td>\n",
       "      <td>0.701773</td>\n",
       "      <td>0.002489</td>\n",
       "      <td>8</td>\n",
       "      <td>0.751111</td>\n",
       "      <td>0.749999</td>\n",
       "      <td>0.750973</td>\n",
       "      <td>0.750694</td>\n",
       "      <td>0.000495</td>\n",
       "    </tr>\n",
       "    <tr>\n",
       "      <th>9</th>\n",
       "      <td>12.250948</td>\n",
       "      <td>0.423645</td>\n",
       "      <td>0.088126</td>\n",
       "      <td>0.000895</td>\n",
       "      <td>10</td>\n",
       "      <td>10</td>\n",
       "      <td>{'max_depth': 10, 'min_samples_split': 10}</td>\n",
       "      <td>0.700780</td>\n",
       "      <td>0.705492</td>\n",
       "      <td>0.700602</td>\n",
       "      <td>0.702291</td>\n",
       "      <td>0.002264</td>\n",
       "      <td>7</td>\n",
       "      <td>0.750531</td>\n",
       "      <td>0.749745</td>\n",
       "      <td>0.750446</td>\n",
       "      <td>0.750240</td>\n",
       "      <td>0.000352</td>\n",
       "    </tr>\n",
       "    <tr>\n",
       "      <th>10</th>\n",
       "      <td>12.082407</td>\n",
       "      <td>0.401539</td>\n",
       "      <td>0.086616</td>\n",
       "      <td>0.000724</td>\n",
       "      <td>10</td>\n",
       "      <td>100</td>\n",
       "      <td>{'max_depth': 10, 'min_samples_split': 100}</td>\n",
       "      <td>0.705372</td>\n",
       "      <td>0.711595</td>\n",
       "      <td>0.706183</td>\n",
       "      <td>0.707717</td>\n",
       "      <td>0.002762</td>\n",
       "      <td>2</td>\n",
       "      <td>0.747364</td>\n",
       "      <td>0.746149</td>\n",
       "      <td>0.746936</td>\n",
       "      <td>0.746816</td>\n",
       "      <td>0.000503</td>\n",
       "    </tr>\n",
       "    <tr>\n",
       "      <th>11</th>\n",
       "      <td>11.697616</td>\n",
       "      <td>0.090883</td>\n",
       "      <td>0.086156</td>\n",
       "      <td>0.000549</td>\n",
       "      <td>10</td>\n",
       "      <td>500</td>\n",
       "      <td>{'max_depth': 10, 'min_samples_split': 500}</td>\n",
       "      <td>0.708078</td>\n",
       "      <td>0.715505</td>\n",
       "      <td>0.710730</td>\n",
       "      <td>0.711438</td>\n",
       "      <td>0.003073</td>\n",
       "      <td>1</td>\n",
       "      <td>0.743292</td>\n",
       "      <td>0.743447</td>\n",
       "      <td>0.743128</td>\n",
       "      <td>0.743289</td>\n",
       "      <td>0.000130</td>\n",
       "    </tr>\n",
       "    <tr>\n",
       "      <th>12</th>\n",
       "      <td>27.083361</td>\n",
       "      <td>0.562953</td>\n",
       "      <td>0.112077</td>\n",
       "      <td>0.012461</td>\n",
       "      <td>50</td>\n",
       "      <td>5</td>\n",
       "      <td>{'max_depth': 50, 'min_samples_split': 5}</td>\n",
       "      <td>0.539863</td>\n",
       "      <td>0.540463</td>\n",
       "      <td>0.532927</td>\n",
       "      <td>0.537751</td>\n",
       "      <td>0.003420</td>\n",
       "      <td>16</td>\n",
       "      <td>0.998425</td>\n",
       "      <td>0.998269</td>\n",
       "      <td>0.998438</td>\n",
       "      <td>0.998378</td>\n",
       "      <td>0.000077</td>\n",
       "    </tr>\n",
       "    <tr>\n",
       "      <th>13</th>\n",
       "      <td>27.041091</td>\n",
       "      <td>0.157916</td>\n",
       "      <td>0.102484</td>\n",
       "      <td>0.001505</td>\n",
       "      <td>50</td>\n",
       "      <td>10</td>\n",
       "      <td>{'max_depth': 50, 'min_samples_split': 10}</td>\n",
       "      <td>0.550755</td>\n",
       "      <td>0.547467</td>\n",
       "      <td>0.542111</td>\n",
       "      <td>0.546777</td>\n",
       "      <td>0.003562</td>\n",
       "      <td>15</td>\n",
       "      <td>0.992416</td>\n",
       "      <td>0.991757</td>\n",
       "      <td>0.992445</td>\n",
       "      <td>0.992206</td>\n",
       "      <td>0.000318</td>\n",
       "    </tr>\n",
       "    <tr>\n",
       "      <th>14</th>\n",
       "      <td>25.955280</td>\n",
       "      <td>0.533910</td>\n",
       "      <td>0.101241</td>\n",
       "      <td>0.000663</td>\n",
       "      <td>50</td>\n",
       "      <td>100</td>\n",
       "      <td>{'max_depth': 50, 'min_samples_split': 100}</td>\n",
       "      <td>0.615077</td>\n",
       "      <td>0.614803</td>\n",
       "      <td>0.611180</td>\n",
       "      <td>0.613686</td>\n",
       "      <td>0.001776</td>\n",
       "      <td>10</td>\n",
       "      <td>0.931423</td>\n",
       "      <td>0.930984</td>\n",
       "      <td>0.929383</td>\n",
       "      <td>0.930597</td>\n",
       "      <td>0.000877</td>\n",
       "    </tr>\n",
       "    <tr>\n",
       "      <th>15</th>\n",
       "      <td>23.548365</td>\n",
       "      <td>0.494203</td>\n",
       "      <td>0.102571</td>\n",
       "      <td>0.000358</td>\n",
       "      <td>50</td>\n",
       "      <td>500</td>\n",
       "      <td>{'max_depth': 50, 'min_samples_split': 500}</td>\n",
       "      <td>0.677598</td>\n",
       "      <td>0.684298</td>\n",
       "      <td>0.678101</td>\n",
       "      <td>0.679999</td>\n",
       "      <td>0.003047</td>\n",
       "      <td>9</td>\n",
       "      <td>0.837119</td>\n",
       "      <td>0.835818</td>\n",
       "      <td>0.832736</td>\n",
       "      <td>0.835224</td>\n",
       "      <td>0.001838</td>\n",
       "    </tr>\n",
       "  </tbody>\n",
       "</table>\n",
       "</div>\n",
       "      <button class=\"colab-df-convert\" onclick=\"convertToInteractive('df-9bca2d6c-0208-41d7-963c-8ee88f78c995')\"\n",
       "              title=\"Convert this dataframe to an interactive table.\"\n",
       "              style=\"display:none;\">\n",
       "        \n",
       "  <svg xmlns=\"http://www.w3.org/2000/svg\" height=\"24px\"viewBox=\"0 0 24 24\"\n",
       "       width=\"24px\">\n",
       "    <path d=\"M0 0h24v24H0V0z\" fill=\"none\"/>\n",
       "    <path d=\"M18.56 5.44l.94 2.06.94-2.06 2.06-.94-2.06-.94-.94-2.06-.94 2.06-2.06.94zm-11 1L8.5 8.5l.94-2.06 2.06-.94-2.06-.94L8.5 2.5l-.94 2.06-2.06.94zm10 10l.94 2.06.94-2.06 2.06-.94-2.06-.94-.94-2.06-.94 2.06-2.06.94z\"/><path d=\"M17.41 7.96l-1.37-1.37c-.4-.4-.92-.59-1.43-.59-.52 0-1.04.2-1.43.59L10.3 9.45l-7.72 7.72c-.78.78-.78 2.05 0 2.83L4 21.41c.39.39.9.59 1.41.59.51 0 1.02-.2 1.41-.59l7.78-7.78 2.81-2.81c.8-.78.8-2.07 0-2.86zM5.41 20L4 18.59l7.72-7.72 1.47 1.35L5.41 20z\"/>\n",
       "  </svg>\n",
       "      </button>\n",
       "      \n",
       "  <style>\n",
       "    .colab-df-container {\n",
       "      display:flex;\n",
       "      flex-wrap:wrap;\n",
       "      gap: 12px;\n",
       "    }\n",
       "\n",
       "    .colab-df-convert {\n",
       "      background-color: #E8F0FE;\n",
       "      border: none;\n",
       "      border-radius: 50%;\n",
       "      cursor: pointer;\n",
       "      display: none;\n",
       "      fill: #1967D2;\n",
       "      height: 32px;\n",
       "      padding: 0 0 0 0;\n",
       "      width: 32px;\n",
       "    }\n",
       "\n",
       "    .colab-df-convert:hover {\n",
       "      background-color: #E2EBFA;\n",
       "      box-shadow: 0px 1px 2px rgba(60, 64, 67, 0.3), 0px 1px 3px 1px rgba(60, 64, 67, 0.15);\n",
       "      fill: #174EA6;\n",
       "    }\n",
       "\n",
       "    [theme=dark] .colab-df-convert {\n",
       "      background-color: #3B4455;\n",
       "      fill: #D2E3FC;\n",
       "    }\n",
       "\n",
       "    [theme=dark] .colab-df-convert:hover {\n",
       "      background-color: #434B5C;\n",
       "      box-shadow: 0px 1px 3px 1px rgba(0, 0, 0, 0.15);\n",
       "      filter: drop-shadow(0px 1px 2px rgba(0, 0, 0, 0.3));\n",
       "      fill: #FFFFFF;\n",
       "    }\n",
       "  </style>\n",
       "\n",
       "      <script>\n",
       "        const buttonEl =\n",
       "          document.querySelector('#df-9bca2d6c-0208-41d7-963c-8ee88f78c995 button.colab-df-convert');\n",
       "        buttonEl.style.display =\n",
       "          google.colab.kernel.accessAllowed ? 'block' : 'none';\n",
       "\n",
       "        async function convertToInteractive(key) {\n",
       "          const element = document.querySelector('#df-9bca2d6c-0208-41d7-963c-8ee88f78c995');\n",
       "          const dataTable =\n",
       "            await google.colab.kernel.invokeFunction('convertToInteractive',\n",
       "                                                     [key], {});\n",
       "          if (!dataTable) return;\n",
       "\n",
       "          const docLinkHtml = 'Like what you see? Visit the ' +\n",
       "            '<a target=\"_blank\" href=https://colab.research.google.com/notebooks/data_table.ipynb>data table notebook</a>'\n",
       "            + ' to learn more about interactive tables.';\n",
       "          element.innerHTML = '';\n",
       "          dataTable['output_type'] = 'display_data';\n",
       "          await google.colab.output.renderOutput(dataTable, element);\n",
       "          const docLink = document.createElement('div');\n",
       "          docLink.innerHTML = docLinkHtml;\n",
       "          element.appendChild(docLink);\n",
       "        }\n",
       "      </script>\n",
       "    </div>\n",
       "  </div>\n",
       "  "
      ],
      "text/plain": [
       "    mean_fit_time  std_fit_time  mean_score_time  std_score_time  \\\n",
       "0        1.500629      0.011335         0.080265        0.008963   \n",
       "1        1.484735      0.011744         0.076155        0.003261   \n",
       "2        1.479721      0.009860         0.073719        0.000909   \n",
       "3        1.489726      0.008530         0.073565        0.000382   \n",
       "4        6.982794      0.629887         0.081542        0.000284   \n",
       "5        6.526469      0.030829         0.081335        0.000802   \n",
       "6        6.724621      0.319287         0.081257        0.000984   \n",
       "7        6.542156      0.005582         0.082631        0.002497   \n",
       "8       11.870607      0.047862         0.089717        0.002972   \n",
       "9       12.250948      0.423645         0.088126        0.000895   \n",
       "10      12.082407      0.401539         0.086616        0.000724   \n",
       "11      11.697616      0.090883         0.086156        0.000549   \n",
       "12      27.083361      0.562953         0.112077        0.012461   \n",
       "13      27.041091      0.157916         0.102484        0.001505   \n",
       "14      25.955280      0.533910         0.101241        0.000663   \n",
       "15      23.548365      0.494203         0.102571        0.000358   \n",
       "\n",
       "   param_max_depth param_min_samples_split  \\\n",
       "0                1                       5   \n",
       "1                1                      10   \n",
       "2                1                     100   \n",
       "3                1                     500   \n",
       "4                5                       5   \n",
       "5                5                      10   \n",
       "6                5                     100   \n",
       "7                5                     500   \n",
       "8               10                       5   \n",
       "9               10                      10   \n",
       "10              10                     100   \n",
       "11              10                     500   \n",
       "12              50                       5   \n",
       "13              50                      10   \n",
       "14              50                     100   \n",
       "15              50                     500   \n",
       "\n",
       "                                         params  split0_test_score  \\\n",
       "0      {'max_depth': 1, 'min_samples_split': 5}           0.571563   \n",
       "1     {'max_depth': 1, 'min_samples_split': 10}           0.571563   \n",
       "2    {'max_depth': 1, 'min_samples_split': 100}           0.571563   \n",
       "3    {'max_depth': 1, 'min_samples_split': 500}           0.571563   \n",
       "4      {'max_depth': 5, 'min_samples_split': 5}           0.699966   \n",
       "5     {'max_depth': 5, 'min_samples_split': 10}           0.699966   \n",
       "6    {'max_depth': 5, 'min_samples_split': 100}           0.699966   \n",
       "7    {'max_depth': 5, 'min_samples_split': 500}           0.699937   \n",
       "8     {'max_depth': 10, 'min_samples_split': 5}           0.699859   \n",
       "9    {'max_depth': 10, 'min_samples_split': 10}           0.700780   \n",
       "10  {'max_depth': 10, 'min_samples_split': 100}           0.705372   \n",
       "11  {'max_depth': 10, 'min_samples_split': 500}           0.708078   \n",
       "12    {'max_depth': 50, 'min_samples_split': 5}           0.539863   \n",
       "13   {'max_depth': 50, 'min_samples_split': 10}           0.550755   \n",
       "14  {'max_depth': 50, 'min_samples_split': 100}           0.615077   \n",
       "15  {'max_depth': 50, 'min_samples_split': 500}           0.677598   \n",
       "\n",
       "    split1_test_score  split2_test_score  mean_test_score  std_test_score  \\\n",
       "0            0.588306           0.576017         0.578629        0.007081   \n",
       "1            0.588306           0.576017         0.578629        0.007081   \n",
       "2            0.588306           0.576017         0.578629        0.007081   \n",
       "3            0.588306           0.576017         0.578629        0.007081   \n",
       "4            0.709402           0.706308         0.705225        0.003928   \n",
       "5            0.709402           0.706308         0.705225        0.003928   \n",
       "6            0.709402           0.706309         0.705225        0.003928   \n",
       "7            0.709362           0.706356         0.705218        0.003931   \n",
       "8            0.705288           0.700172         0.701773        0.002489   \n",
       "9            0.705492           0.700602         0.702291        0.002264   \n",
       "10           0.711595           0.706183         0.707717        0.002762   \n",
       "11           0.715505           0.710730         0.711438        0.003073   \n",
       "12           0.540463           0.532927         0.537751        0.003420   \n",
       "13           0.547467           0.542111         0.546777        0.003562   \n",
       "14           0.614803           0.611180         0.613686        0.001776   \n",
       "15           0.684298           0.678101         0.679999        0.003047   \n",
       "\n",
       "    rank_test_score  split0_train_score  split1_train_score  \\\n",
       "0                11            0.577549            0.586131   \n",
       "1                11            0.577549            0.586131   \n",
       "2                11            0.577549            0.586131   \n",
       "3                11            0.577549            0.586131   \n",
       "4                 4            0.711914            0.709921   \n",
       "5                 4            0.711914            0.709921   \n",
       "6                 3            0.711914            0.709921   \n",
       "7                 6            0.711831            0.709880   \n",
       "8                 8            0.751111            0.749999   \n",
       "9                 7            0.750531            0.749745   \n",
       "10                2            0.747364            0.746149   \n",
       "11                1            0.743292            0.743447   \n",
       "12               16            0.998425            0.998269   \n",
       "13               15            0.992416            0.991757   \n",
       "14               10            0.931423            0.930984   \n",
       "15                9            0.837119            0.835818   \n",
       "\n",
       "    split2_train_score  mean_train_score  std_train_score  \n",
       "0             0.576127          0.579936         0.004419  \n",
       "1             0.576127          0.579936         0.004419  \n",
       "2             0.576127          0.579936         0.004419  \n",
       "3             0.576127          0.579936         0.004419  \n",
       "4             0.711783          0.711206         0.000910  \n",
       "5             0.711783          0.711206         0.000910  \n",
       "6             0.711782          0.711206         0.000910  \n",
       "7             0.711755          0.711155         0.000902  \n",
       "8             0.750973          0.750694         0.000495  \n",
       "9             0.750446          0.750240         0.000352  \n",
       "10            0.746936          0.746816         0.000503  \n",
       "11            0.743128          0.743289         0.000130  \n",
       "12            0.998438          0.998378         0.000077  \n",
       "13            0.992445          0.992206         0.000318  \n",
       "14            0.929383          0.930597         0.000877  \n",
       "15            0.832736          0.835224         0.001838  "
      ]
     },
     "execution_count": 74,
     "metadata": {},
     "output_type": "execute_result"
    }
   ],
   "source": [
    "result"
   ]
  },
  {
   "cell_type": "code",
   "execution_count": 75,
   "metadata": {
    "colab": {
     "base_uri": "https://localhost:8080/"
    },
    "id": "tEmO8egl0STa",
    "outputId": "afd24c15-830e-42d3-ab70-708ee3492fda"
   },
   "outputs": [
    {
     "data": {
      "text/plain": [
       "{'max_depth': 10, 'min_samples_split': 500}"
      ]
     },
     "execution_count": 75,
     "metadata": {},
     "output_type": "execute_result"
    }
   ],
   "source": [
    "best_params=GSCV.best_params_\n",
    "best_params"
   ]
  },
  {
   "cell_type": "code",
   "execution_count": 76,
   "metadata": {
    "colab": {
     "base_uri": "https://localhost:8080/"
    },
    "id": "5ZUGFMga0STa",
    "outputId": "b67a3234-0f3e-4bfd-df01-690ac2cbfa62"
   },
   "outputs": [
    {
     "name": "stdout",
     "output_type": "stream",
     "text": [
      "max_depth:  [1, 1, 1, 1, 5, 5, 5, 5, 10, 10, 10, 10, 50, 50, 50, 50]\n",
      "min_samples_split:  [5, 10, 100, 500, 5, 10, 100, 500, 5, 10, 100, 500, 5, 10, 100, 500]\n",
      "\n",
      "\n",
      "train_scores:  [0.57993552 0.57993552 0.57993552 0.57993552 0.71120578 0.71120578\n",
      " 0.71120559 0.71115539 0.75069435 0.7502404  0.74681612 0.74328909\n",
      " 0.99837753 0.9922059  0.93059651 0.83522445]\n",
      "\n",
      "\n",
      "cv_scores:  [0.57862855 0.57862855 0.57862855 0.57862855 0.70522537 0.70522537\n",
      " 0.70522549 0.70521818 0.70177316 0.70229132 0.70771682 0.71143766\n",
      " 0.53775136 0.54677742 0.61368649 0.67999907]\n"
     ]
    }
   ],
   "source": [
    "rparams=result['params']\n",
    "maxdepth = [i['max_depth'] for i in rparams]\n",
    "minsamsplit = [i['min_samples_split'] for i in rparams]\n",
    "print('max_depth: ',maxdepth)\n",
    "print('min_samples_split: ',minsamsplit)\n",
    "train_scores=result['mean_train_score'].values\n",
    "print('\\n\\ntrain_scores: ',train_scores)\n",
    "cv_scores=result['mean_test_score'].values\n",
    "print('\\n\\ncv_scores: ',cv_scores)\n",
    "trrespd=pd.DataFrame(train_scores.reshape(len(params['max_depth']),4),index=params['max_depth'],columns=params['min_samples_split'])\n",
    "terespd=pd.DataFrame(cv_scores.reshape(len(params['max_depth']),4),index=params['max_depth'],columns=params['min_samples_split'])"
   ]
  },
  {
   "cell_type": "code",
   "execution_count": 77,
   "metadata": {
    "colab": {
     "base_uri": "https://localhost:8080/",
     "height": 312
    },
    "id": "M2jS0tU30STa",
    "outputId": "12af0b39-a162-4f64-9219-966ee42882a0"
   },
   "outputs": [
    {
     "data": {
      "text/plain": [
       "Text(0.5, 1.0, 'train scores')"
      ]
     },
     "execution_count": 77,
     "metadata": {},
     "output_type": "execute_result"
    },
    {
     "data": {
      "image/png": "[encoded data removed]",
      "text/plain": [
       "<Figure size 432x288 with 2 Axes>"
      ]
     },
     "metadata": {
      "needs_background": "light"
     },
     "output_type": "display_data"
    }
   ],
   "source": [
    "ax=sns.heatmap(trrespd,annot=True)\n",
    "ax.set_xlabel('min samples split')\n",
    "ax.set_ylabel('max depth')\n",
    "ax.set_title('train scores')"
   ]
  },
  {
   "cell_type": "code",
   "execution_count": 78,
   "metadata": {
    "colab": {
     "base_uri": "https://localhost:8080/",
     "height": 312
    },
    "id": "zCeZca1-0STb",
    "outputId": "c7b8818b-db70-4b02-bcd8-de3efe2e9e1c"
   },
   "outputs": [
    {
     "data": {
      "text/plain": [
       "Text(0.5, 1.0, 'cv scores')"
      ]
     },
     "execution_count": 78,
     "metadata": {},
     "output_type": "execute_result"
    },
    {
     "data": {
      "image/png": "[encoded data removed]",
      "text/plain": [
       "<Figure size 432x288 with 2 Axes>"
      ]
     },
     "metadata": {
      "needs_background": "light"
     },
     "output_type": "display_data"
    }
   ],
   "source": [
    "ax=sns.heatmap(terespd,annot=True)\n",
    "ax.set_xlabel('min samples split')\n",
    "ax.set_ylabel('maX depth')\n",
    "ax.set_title('cv scores')"
   ]
  },
  {
   "cell_type": "code",
   "execution_count": 79,
   "metadata": {
    "id": "BdWIsK_R0STb"
   },
   "outputs": [],
   "source": [
    "best_param=GSCV.best_params_\n",
    "clf=DecisionTreeClassifier(max_depth=best_param['max_depth'],min_samples_split=best_param['min_samples_split'])\n",
    "clf.fit(X_train,y_train)\n",
    "train_proba=clf.predict_proba(X_train)[:,1]\n",
    "test_proba=clf.predict_proba(X_test)[:,1]\n",
    "trfpr,trtpr,trthres=roc_curve(y_train,train_proba)\n",
    "tefpr,tetpr,tethres=roc_curve(y_test,test_proba)"
   ]
  },
  {
   "cell_type": "code",
   "execution_count": 80,
   "metadata": {
    "colab": {
     "base_uri": "https://localhost:8080/",
     "height": 295
    },
    "id": "DEZAt9q_0STb",
    "outputId": "8f064dfa-a822-4008-c52a-ef386cb85e1a"
   },
   "outputs": [
    {
     "data": {
      "image/png": "[encoded data removed]",
      "text/plain": [
       "<Figure size 432x288 with 1 Axes>"
      ]
     },
     "metadata": {
      "needs_background": "light"
     },
     "output_type": "display_data"
    }
   ],
   "source": [
    "plt.plot(trfpr,trtpr,label='Train ROC curve with AUC = '+str(auc(trfpr,trtpr)))\n",
    "plt.plot(tefpr,tetpr,label='Test ROC curve with AUC = '+str(auc(tefpr,tetpr)))\n",
    "plt.xlabel('FPR')\n",
    "plt.ylabel('TPR')\n",
    "plt.legend()\n",
    "plt.title('ROC curve for train and test set')\n",
    "plt.show()"
   ]
  },
  {
   "cell_type": "code",
   "execution_count": 81,
   "metadata": {
    "id": "Ja9YSd1U0STb"
   },
   "outputs": [],
   "source": [
    "index=np.argmax(trtpr*(1-trfpr))\n",
    "threshold=trthres[index]"
   ]
  },
  {
   "cell_type": "code",
   "execution_count": 82,
   "metadata": {
    "id": "4Clvhb__0STb"
   },
   "outputs": [],
   "source": [
    "def predict_using_threshold(proba,threshold):\n",
    "    predictions=[]\n",
    "    for result in proba:\n",
    "        if result>=threshold:\n",
    "            predictions.append(1)\n",
    "        else:\n",
    "            predictions.append(0)\n",
    "    return predictions"
   ]
  },
  {
   "cell_type": "code",
   "execution_count": 83,
   "metadata": {
    "id": "aiYlBGtN0STb"
   },
   "outputs": [],
   "source": [
    "train_result=predict_using_threshold(train_proba,threshold)\n",
    "test_result=predict_using_threshold(test_proba,threshold)"
   ]
  },
  {
   "cell_type": "code",
   "execution_count": 84,
   "metadata": {
    "colab": {
     "base_uri": "https://localhost:8080/"
    },
    "id": "Z0xl7cyS0STb",
    "outputId": "b7fc3d4b-c55a-43be-b8cd-89d19acdf27f"
   },
   "outputs": [
    {
     "name": "stdout",
     "output_type": "stream",
     "text": [
      "Train Confusion matrix:\n",
      "\n",
      "\n",
      "[[153459   6364]\n",
      " [ 72693  13492]]\n",
      "\n",
      "***************************\n",
      "\n",
      "Test Confusion matrix:\n",
      "\n",
      "\n",
      "[[38344  1759]\n",
      " [18190  3210]]\n"
     ]
    }
   ],
   "source": [
    "print('Train Confusion matrix:\\n\\n')\n",
    "print(confusion_matrix(train_result,y_train))\n",
    "print('\\n***************************\\n')\n",
    "print('Test Confusion matrix:\\n\\n')\n",
    "print(confusion_matrix(test_result,y_test))"
   ]
  },
  {
   "cell_type": "markdown",
   "metadata": {
    "id": "SijOS3N9szOQ"
   },
   "source": [
    "Model 4: GBDT"
   ]
  },
  {
   "cell_type": "code",
   "execution_count": 85,
   "metadata": {
    "id": "qAAPCl6S0STc"
   },
   "outputs": [],
   "source": [
    "clf=GradientBoostingClassifier()\n",
    "params={'learning_rate':[0.001, 0.01, 0.1, 0.2] ,'n_estimators':[5,10,75, 100]}"
   ]
  },
  {
   "cell_type": "code",
   "execution_count": 86,
   "metadata": {
    "colab": {
     "base_uri": "https://localhost:8080/"
    },
    "id": "pKwrINfG0STc",
    "outputId": "d982d938-4676-46fe-f824-63e5cc92b1d0"
   },
   "outputs": [
    {
     "name": "stdout",
     "output_type": "stream",
     "text": [
      "Fitting 3 folds for each of 16 candidates, totalling 48 fits\n"
     ]
    }
   ],
   "source": [
    "GSCV=GridSearchCV(clf,param_grid=params,cv=3,scoring='roc_auc',verbose=1,return_train_score=True,n_jobs=-1)\n",
    "GSCV.fit(X_train,y_train)\n",
    "result=pd.DataFrame(GSCV.cv_results_)"
   ]
  },
  {
   "cell_type": "code",
   "execution_count": 87,
   "metadata": {
    "colab": {
     "base_uri": "https://localhost:8080/",
     "height": 1000
    },
    "id": "lPby0iiX0STc",
    "outputId": "91f2319d-0ad9-4dc5-8c7e-34394cece587"
   },
   "outputs": [
    {
     "data": {
      "text/html": [
       "\n",
       "  <div id=\"df-276ee2ea-a8de-4b25-93d3-a659a869bc36\">\n",
       "    <div class=\"colab-df-container\">\n",
       "      <div>\n",
       "<style scoped>\n",
       "    .dataframe tbody tr th:only-of-type {\n",
       "        vertical-align: middle;\n",
       "    }\n",
       "\n",
       "    .dataframe tbody tr th {\n",
       "        vertical-align: top;\n",
       "    }\n",
       "\n",
       "    .dataframe thead th {\n",
       "        text-align: right;\n",
       "    }\n",
       "</style>\n",
       "<table border=\"1\" class=\"dataframe\">\n",
       "  <thead>\n",
       "    <tr style=\"text-align: right;\">\n",
       "      <th></th>\n",
       "      <th>mean_fit_time</th>\n",
       "      <th>std_fit_time</th>\n",
       "      <th>mean_score_time</th>\n",
       "      <th>std_score_time</th>\n",
       "      <th>param_learning_rate</th>\n",
       "      <th>param_n_estimators</th>\n",
       "      <th>params</th>\n",
       "      <th>split0_test_score</th>\n",
       "      <th>split1_test_score</th>\n",
       "      <th>split2_test_score</th>\n",
       "      <th>mean_test_score</th>\n",
       "      <th>std_test_score</th>\n",
       "      <th>rank_test_score</th>\n",
       "      <th>split0_train_score</th>\n",
       "      <th>split1_train_score</th>\n",
       "      <th>split2_train_score</th>\n",
       "      <th>mean_train_score</th>\n",
       "      <th>std_train_score</th>\n",
       "    </tr>\n",
       "  </thead>\n",
       "  <tbody>\n",
       "    <tr>\n",
       "      <th>0</th>\n",
       "      <td>33.077153</td>\n",
       "      <td>1.087967</td>\n",
       "      <td>0.173800</td>\n",
       "      <td>0.007385</td>\n",
       "      <td>0.001</td>\n",
       "      <td>5</td>\n",
       "      <td>{'learning_rate': 0.001, 'n_estimators': 5}</td>\n",
       "      <td>0.676021</td>\n",
       "      <td>0.687378</td>\n",
       "      <td>0.683226</td>\n",
       "      <td>0.682208</td>\n",
       "      <td>0.004692</td>\n",
       "      <td>16</td>\n",
       "      <td>0.685753</td>\n",
       "      <td>0.683228</td>\n",
       "      <td>0.684132</td>\n",
       "      <td>0.684371</td>\n",
       "      <td>0.001045</td>\n",
       "    </tr>\n",
       "    <tr>\n",
       "      <th>1</th>\n",
       "      <td>62.767447</td>\n",
       "      <td>0.350272</td>\n",
       "      <td>0.207310</td>\n",
       "      <td>0.006770</td>\n",
       "      <td>0.001</td>\n",
       "      <td>10</td>\n",
       "      <td>{'learning_rate': 0.001, 'n_estimators': 10}</td>\n",
       "      <td>0.677898</td>\n",
       "      <td>0.687378</td>\n",
       "      <td>0.684773</td>\n",
       "      <td>0.683349</td>\n",
       "      <td>0.003999</td>\n",
       "      <td>15</td>\n",
       "      <td>0.687939</td>\n",
       "      <td>0.683228</td>\n",
       "      <td>0.685852</td>\n",
       "      <td>0.685673</td>\n",
       "      <td>0.001927</td>\n",
       "    </tr>\n",
       "    <tr>\n",
       "      <th>2</th>\n",
       "      <td>470.842937</td>\n",
       "      <td>0.552253</td>\n",
       "      <td>0.640392</td>\n",
       "      <td>0.001985</td>\n",
       "      <td>0.001</td>\n",
       "      <td>75</td>\n",
       "      <td>{'learning_rate': 0.001, 'n_estimators': 75}</td>\n",
       "      <td>0.692002</td>\n",
       "      <td>0.693830</td>\n",
       "      <td>0.687942</td>\n",
       "      <td>0.691258</td>\n",
       "      <td>0.002461</td>\n",
       "      <td>13</td>\n",
       "      <td>0.701312</td>\n",
       "      <td>0.689338</td>\n",
       "      <td>0.689422</td>\n",
       "      <td>0.693357</td>\n",
       "      <td>0.005625</td>\n",
       "    </tr>\n",
       "    <tr>\n",
       "      <th>3</th>\n",
       "      <td>626.271267</td>\n",
       "      <td>2.409762</td>\n",
       "      <td>0.814592</td>\n",
       "      <td>0.008937</td>\n",
       "      <td>0.001</td>\n",
       "      <td>100</td>\n",
       "      <td>{'learning_rate': 0.001, 'n_estimators': 100}</td>\n",
       "      <td>0.692860</td>\n",
       "      <td>0.695922</td>\n",
       "      <td>0.698299</td>\n",
       "      <td>0.695694</td>\n",
       "      <td>0.002226</td>\n",
       "      <td>11</td>\n",
       "      <td>0.702604</td>\n",
       "      <td>0.691521</td>\n",
       "      <td>0.698874</td>\n",
       "      <td>0.697666</td>\n",
       "      <td>0.004605</td>\n",
       "    </tr>\n",
       "    <tr>\n",
       "      <th>4</th>\n",
       "      <td>31.229712</td>\n",
       "      <td>0.139772</td>\n",
       "      <td>0.164397</td>\n",
       "      <td>0.003804</td>\n",
       "      <td>0.01</td>\n",
       "      <td>5</td>\n",
       "      <td>{'learning_rate': 0.01, 'n_estimators': 5}</td>\n",
       "      <td>0.680802</td>\n",
       "      <td>0.692332</td>\n",
       "      <td>0.686043</td>\n",
       "      <td>0.686393</td>\n",
       "      <td>0.004713</td>\n",
       "      <td>14</td>\n",
       "      <td>0.690038</td>\n",
       "      <td>0.687631</td>\n",
       "      <td>0.687484</td>\n",
       "      <td>0.688384</td>\n",
       "      <td>0.001171</td>\n",
       "    </tr>\n",
       "    <tr>\n",
       "      <th>5</th>\n",
       "      <td>62.702571</td>\n",
       "      <td>0.537446</td>\n",
       "      <td>0.200996</td>\n",
       "      <td>0.007092</td>\n",
       "      <td>0.01</td>\n",
       "      <td>10</td>\n",
       "      <td>{'learning_rate': 0.01, 'n_estimators': 10}</td>\n",
       "      <td>0.692210</td>\n",
       "      <td>0.694717</td>\n",
       "      <td>0.691258</td>\n",
       "      <td>0.692728</td>\n",
       "      <td>0.001459</td>\n",
       "      <td>12</td>\n",
       "      <td>0.701869</td>\n",
       "      <td>0.690085</td>\n",
       "      <td>0.691782</td>\n",
       "      <td>0.694579</td>\n",
       "      <td>0.005202</td>\n",
       "    </tr>\n",
       "    <tr>\n",
       "      <th>6</th>\n",
       "      <td>468.454871</td>\n",
       "      <td>1.434313</td>\n",
       "      <td>0.664988</td>\n",
       "      <td>0.009629</td>\n",
       "      <td>0.01</td>\n",
       "      <td>75</td>\n",
       "      <td>{'learning_rate': 0.01, 'n_estimators': 75}</td>\n",
       "      <td>0.700805</td>\n",
       "      <td>0.712966</td>\n",
       "      <td>0.711197</td>\n",
       "      <td>0.708323</td>\n",
       "      <td>0.005364</td>\n",
       "      <td>9</td>\n",
       "      <td>0.712134</td>\n",
       "      <td>0.709349</td>\n",
       "      <td>0.712382</td>\n",
       "      <td>0.711289</td>\n",
       "      <td>0.001375</td>\n",
       "    </tr>\n",
       "    <tr>\n",
       "      <th>7</th>\n",
       "      <td>625.058645</td>\n",
       "      <td>0.176717</td>\n",
       "      <td>0.832187</td>\n",
       "      <td>0.012054</td>\n",
       "      <td>0.01</td>\n",
       "      <td>100</td>\n",
       "      <td>{'learning_rate': 0.01, 'n_estimators': 100}</td>\n",
       "      <td>0.706072</td>\n",
       "      <td>0.716978</td>\n",
       "      <td>0.714152</td>\n",
       "      <td>0.712401</td>\n",
       "      <td>0.004621</td>\n",
       "      <td>6</td>\n",
       "      <td>0.717979</td>\n",
       "      <td>0.713593</td>\n",
       "      <td>0.715662</td>\n",
       "      <td>0.715745</td>\n",
       "      <td>0.001792</td>\n",
       "    </tr>\n",
       "    <tr>\n",
       "      <th>8</th>\n",
       "      <td>31.537240</td>\n",
       "      <td>0.242531</td>\n",
       "      <td>0.163305</td>\n",
       "      <td>0.001164</td>\n",
       "      <td>0.1</td>\n",
       "      <td>5</td>\n",
       "      <td>{'learning_rate': 0.1, 'n_estimators': 5}</td>\n",
       "      <td>0.697592</td>\n",
       "      <td>0.707875</td>\n",
       "      <td>0.704767</td>\n",
       "      <td>0.703412</td>\n",
       "      <td>0.004306</td>\n",
       "      <td>10</td>\n",
       "      <td>0.708580</td>\n",
       "      <td>0.703362</td>\n",
       "      <td>0.705201</td>\n",
       "      <td>0.705715</td>\n",
       "      <td>0.002161</td>\n",
       "    </tr>\n",
       "    <tr>\n",
       "      <th>9</th>\n",
       "      <td>61.916751</td>\n",
       "      <td>0.663873</td>\n",
       "      <td>0.212848</td>\n",
       "      <td>0.007056</td>\n",
       "      <td>0.1</td>\n",
       "      <td>10</td>\n",
       "      <td>{'learning_rate': 0.1, 'n_estimators': 10}</td>\n",
       "      <td>0.705650</td>\n",
       "      <td>0.716645</td>\n",
       "      <td>0.714261</td>\n",
       "      <td>0.712185</td>\n",
       "      <td>0.004723</td>\n",
       "      <td>7</td>\n",
       "      <td>0.717188</td>\n",
       "      <td>0.713218</td>\n",
       "      <td>0.716410</td>\n",
       "      <td>0.715606</td>\n",
       "      <td>0.001718</td>\n",
       "    </tr>\n",
       "    <tr>\n",
       "      <th>10</th>\n",
       "      <td>468.763636</td>\n",
       "      <td>0.980146</td>\n",
       "      <td>0.693964</td>\n",
       "      <td>0.013273</td>\n",
       "      <td>0.1</td>\n",
       "      <td>75</td>\n",
       "      <td>{'learning_rate': 0.1, 'n_estimators': 75}</td>\n",
       "      <td>0.745451</td>\n",
       "      <td>0.757550</td>\n",
       "      <td>0.751497</td>\n",
       "      <td>0.751499</td>\n",
       "      <td>0.004939</td>\n",
       "      <td>4</td>\n",
       "      <td>0.764613</td>\n",
       "      <td>0.758978</td>\n",
       "      <td>0.761465</td>\n",
       "      <td>0.761685</td>\n",
       "      <td>0.002306</td>\n",
       "    </tr>\n",
       "    <tr>\n",
       "      <th>11</th>\n",
       "      <td>626.754308</td>\n",
       "      <td>1.286775</td>\n",
       "      <td>0.881641</td>\n",
       "      <td>0.008310</td>\n",
       "      <td>0.1</td>\n",
       "      <td>100</td>\n",
       "      <td>{'learning_rate': 0.1, 'n_estimators': 100}</td>\n",
       "      <td>0.748830</td>\n",
       "      <td>0.761050</td>\n",
       "      <td>0.754341</td>\n",
       "      <td>0.754740</td>\n",
       "      <td>0.004997</td>\n",
       "      <td>3</td>\n",
       "      <td>0.770017</td>\n",
       "      <td>0.764565</td>\n",
       "      <td>0.766915</td>\n",
       "      <td>0.767165</td>\n",
       "      <td>0.002233</td>\n",
       "    </tr>\n",
       "    <tr>\n",
       "      <th>12</th>\n",
       "      <td>31.933628</td>\n",
       "      <td>0.205594</td>\n",
       "      <td>0.172392</td>\n",
       "      <td>0.007065</td>\n",
       "      <td>0.2</td>\n",
       "      <td>5</td>\n",
       "      <td>{'learning_rate': 0.2, 'n_estimators': 5}</td>\n",
       "      <td>0.704275</td>\n",
       "      <td>0.716783</td>\n",
       "      <td>0.712776</td>\n",
       "      <td>0.711278</td>\n",
       "      <td>0.005215</td>\n",
       "      <td>8</td>\n",
       "      <td>0.715486</td>\n",
       "      <td>0.714300</td>\n",
       "      <td>0.715179</td>\n",
       "      <td>0.714988</td>\n",
       "      <td>0.000503</td>\n",
       "    </tr>\n",
       "    <tr>\n",
       "      <th>13</th>\n",
       "      <td>63.480879</td>\n",
       "      <td>0.185899</td>\n",
       "      <td>0.210355</td>\n",
       "      <td>0.003218</td>\n",
       "      <td>0.2</td>\n",
       "      <td>10</td>\n",
       "      <td>{'learning_rate': 0.2, 'n_estimators': 10}</td>\n",
       "      <td>0.721956</td>\n",
       "      <td>0.731027</td>\n",
       "      <td>0.727497</td>\n",
       "      <td>0.726827</td>\n",
       "      <td>0.003734</td>\n",
       "      <td>5</td>\n",
       "      <td>0.733517</td>\n",
       "      <td>0.730222</td>\n",
       "      <td>0.731845</td>\n",
       "      <td>0.731861</td>\n",
       "      <td>0.001345</td>\n",
       "    </tr>\n",
       "    <tr>\n",
       "      <th>14</th>\n",
       "      <td>469.605149</td>\n",
       "      <td>0.985342</td>\n",
       "      <td>0.705062</td>\n",
       "      <td>0.016227</td>\n",
       "      <td>0.2</td>\n",
       "      <td>75</td>\n",
       "      <td>{'learning_rate': 0.2, 'n_estimators': 75}</td>\n",
       "      <td>0.750477</td>\n",
       "      <td>0.763911</td>\n",
       "      <td>0.757519</td>\n",
       "      <td>0.757302</td>\n",
       "      <td>0.005486</td>\n",
       "      <td>2</td>\n",
       "      <td>0.774633</td>\n",
       "      <td>0.771201</td>\n",
       "      <td>0.773661</td>\n",
       "      <td>0.773165</td>\n",
       "      <td>0.001444</td>\n",
       "    </tr>\n",
       "    <tr>\n",
       "      <th>15</th>\n",
       "      <td>605.204737</td>\n",
       "      <td>29.930863</td>\n",
       "      <td>0.728720</td>\n",
       "      <td>0.179095</td>\n",
       "      <td>0.2</td>\n",
       "      <td>100</td>\n",
       "      <td>{'learning_rate': 0.2, 'n_estimators': 100}</td>\n",
       "      <td>0.752999</td>\n",
       "      <td>0.766552</td>\n",
       "      <td>0.759449</td>\n",
       "      <td>0.759667</td>\n",
       "      <td>0.005535</td>\n",
       "      <td>1</td>\n",
       "      <td>0.780419</td>\n",
       "      <td>0.776644</td>\n",
       "      <td>0.778413</td>\n",
       "      <td>0.778492</td>\n",
       "      <td>0.001542</td>\n",
       "    </tr>\n",
       "  </tbody>\n",
       "</table>\n",
       "</div>\n",
       "      <button class=\"colab-df-convert\" onclick=\"convertToInteractive('df-276ee2ea-a8de-4b25-93d3-a659a869bc36')\"\n",
       "              title=\"Convert this dataframe to an interactive table.\"\n",
       "              style=\"display:none;\">\n",
       "        \n",
       "  <svg xmlns=\"http://www.w3.org/2000/svg\" height=\"24px\"viewBox=\"0 0 24 24\"\n",
       "       width=\"24px\">\n",
       "    <path d=\"M0 0h24v24H0V0z\" fill=\"none\"/>\n",
       "    <path d=\"M18.56 5.44l.94 2.06.94-2.06 2.06-.94-2.06-.94-.94-2.06-.94 2.06-2.06.94zm-11 1L8.5 8.5l.94-2.06 2.06-.94-2.06-.94L8.5 2.5l-.94 2.06-2.06.94zm10 10l.94 2.06.94-2.06 2.06-.94-2.06-.94-.94-2.06-.94 2.06-2.06.94z\"/><path d=\"M17.41 7.96l-1.37-1.37c-.4-.4-.92-.59-1.43-.59-.52 0-1.04.2-1.43.59L10.3 9.45l-7.72 7.72c-.78.78-.78 2.05 0 2.83L4 21.41c.39.39.9.59 1.41.59.51 0 1.02-.2 1.41-.59l7.78-7.78 2.81-2.81c.8-.78.8-2.07 0-2.86zM5.41 20L4 18.59l7.72-7.72 1.47 1.35L5.41 20z\"/>\n",
       "  </svg>\n",
       "      </button>\n",
       "      \n",
       "  <style>\n",
       "    .colab-df-container {\n",
       "      display:flex;\n",
       "      flex-wrap:wrap;\n",
       "      gap: 12px;\n",
       "    }\n",
       "\n",
       "    .colab-df-convert {\n",
       "      background-color: #E8F0FE;\n",
       "      border: none;\n",
       "      border-radius: 50%;\n",
       "      cursor: pointer;\n",
       "      display: none;\n",
       "      fill: #1967D2;\n",
       "      height: 32px;\n",
       "      padding: 0 0 0 0;\n",
       "      width: 32px;\n",
       "    }\n",
       "\n",
       "    .colab-df-convert:hover {\n",
       "      background-color: #E2EBFA;\n",
       "      box-shadow: 0px 1px 2px rgba(60, 64, 67, 0.3), 0px 1px 3px 1px rgba(60, 64, 67, 0.15);\n",
       "      fill: #174EA6;\n",
       "    }\n",
       "\n",
       "    [theme=dark] .colab-df-convert {\n",
       "      background-color: #3B4455;\n",
       "      fill: #D2E3FC;\n",
       "    }\n",
       "\n",
       "    [theme=dark] .colab-df-convert:hover {\n",
       "      background-color: #434B5C;\n",
       "      box-shadow: 0px 1px 3px 1px rgba(0, 0, 0, 0.15);\n",
       "      filter: drop-shadow(0px 1px 2px rgba(0, 0, 0, 0.3));\n",
       "      fill: #FFFFFF;\n",
       "    }\n",
       "  </style>\n",
       "\n",
       "      <script>\n",
       "        const buttonEl =\n",
       "          document.querySelector('#df-276ee2ea-a8de-4b25-93d3-a659a869bc36 button.colab-df-convert');\n",
       "        buttonEl.style.display =\n",
       "          google.colab.kernel.accessAllowed ? 'block' : 'none';\n",
       "\n",
       "        async function convertToInteractive(key) {\n",
       "          const element = document.querySelector('#df-276ee2ea-a8de-4b25-93d3-a659a869bc36');\n",
       "          const dataTable =\n",
       "            await google.colab.kernel.invokeFunction('convertToInteractive',\n",
       "                                                     [key], {});\n",
       "          if (!dataTable) return;\n",
       "\n",
       "          const docLinkHtml = 'Like what you see? Visit the ' +\n",
       "            '<a target=\"_blank\" href=https://colab.research.google.com/notebooks/data_table.ipynb>data table notebook</a>'\n",
       "            + ' to learn more about interactive tables.';\n",
       "          element.innerHTML = '';\n",
       "          dataTable['output_type'] = 'display_data';\n",
       "          await google.colab.output.renderOutput(dataTable, element);\n",
       "          const docLink = document.createElement('div');\n",
       "          docLink.innerHTML = docLinkHtml;\n",
       "          element.appendChild(docLink);\n",
       "        }\n",
       "      </script>\n",
       "    </div>\n",
       "  </div>\n",
       "  "
      ],
      "text/plain": [
       "    mean_fit_time  std_fit_time  mean_score_time  std_score_time  \\\n",
       "0       33.077153      1.087967         0.173800        0.007385   \n",
       "1       62.767447      0.350272         0.207310        0.006770   \n",
       "2      470.842937      0.552253         0.640392        0.001985   \n",
       "3      626.271267      2.409762         0.814592        0.008937   \n",
       "4       31.229712      0.139772         0.164397        0.003804   \n",
       "5       62.702571      0.537446         0.200996        0.007092   \n",
       "6      468.454871      1.434313         0.664988        0.009629   \n",
       "7      625.058645      0.176717         0.832187        0.012054   \n",
       "8       31.537240      0.242531         0.163305        0.001164   \n",
       "9       61.916751      0.663873         0.212848        0.007056   \n",
       "10     468.763636      0.980146         0.693964        0.013273   \n",
       "11     626.754308      1.286775         0.881641        0.008310   \n",
       "12      31.933628      0.205594         0.172392        0.007065   \n",
       "13      63.480879      0.185899         0.210355        0.003218   \n",
       "14     469.605149      0.985342         0.705062        0.016227   \n",
       "15     605.204737     29.930863         0.728720        0.179095   \n",
       "\n",
       "   param_learning_rate param_n_estimators  \\\n",
       "0                0.001                  5   \n",
       "1                0.001                 10   \n",
       "2                0.001                 75   \n",
       "3                0.001                100   \n",
       "4                 0.01                  5   \n",
       "5                 0.01                 10   \n",
       "6                 0.01                 75   \n",
       "7                 0.01                100   \n",
       "8                  0.1                  5   \n",
       "9                  0.1                 10   \n",
       "10                 0.1                 75   \n",
       "11                 0.1                100   \n",
       "12                 0.2                  5   \n",
       "13                 0.2                 10   \n",
       "14                 0.2                 75   \n",
       "15                 0.2                100   \n",
       "\n",
       "                                           params  split0_test_score  \\\n",
       "0     {'learning_rate': 0.001, 'n_estimators': 5}           0.676021   \n",
       "1    {'learning_rate': 0.001, 'n_estimators': 10}           0.677898   \n",
       "2    {'learning_rate': 0.001, 'n_estimators': 75}           0.692002   \n",
       "3   {'learning_rate': 0.001, 'n_estimators': 100}           0.692860   \n",
       "4      {'learning_rate': 0.01, 'n_estimators': 5}           0.680802   \n",
       "5     {'learning_rate': 0.01, 'n_estimators': 10}           0.692210   \n",
       "6     {'learning_rate': 0.01, 'n_estimators': 75}           0.700805   \n",
       "7    {'learning_rate': 0.01, 'n_estimators': 100}           0.706072   \n",
       "8       {'learning_rate': 0.1, 'n_estimators': 5}           0.697592   \n",
       "9      {'learning_rate': 0.1, 'n_estimators': 10}           0.705650   \n",
       "10     {'learning_rate': 0.1, 'n_estimators': 75}           0.745451   \n",
       "11    {'learning_rate': 0.1, 'n_estimators': 100}           0.748830   \n",
       "12      {'learning_rate': 0.2, 'n_estimators': 5}           0.704275   \n",
       "13     {'learning_rate': 0.2, 'n_estimators': 10}           0.721956   \n",
       "14     {'learning_rate': 0.2, 'n_estimators': 75}           0.750477   \n",
       "15    {'learning_rate': 0.2, 'n_estimators': 100}           0.752999   \n",
       "\n",
       "    split1_test_score  split2_test_score  mean_test_score  std_test_score  \\\n",
       "0            0.687378           0.683226         0.682208        0.004692   \n",
       "1            0.687378           0.684773         0.683349        0.003999   \n",
       "2            0.693830           0.687942         0.691258        0.002461   \n",
       "3            0.695922           0.698299         0.695694        0.002226   \n",
       "4            0.692332           0.686043         0.686393        0.004713   \n",
       "5            0.694717           0.691258         0.692728        0.001459   \n",
       "6            0.712966           0.711197         0.708323        0.005364   \n",
       "7            0.716978           0.714152         0.712401        0.004621   \n",
       "8            0.707875           0.704767         0.703412        0.004306   \n",
       "9            0.716645           0.714261         0.712185        0.004723   \n",
       "10           0.757550           0.751497         0.751499        0.004939   \n",
       "11           0.761050           0.754341         0.754740        0.004997   \n",
       "12           0.716783           0.712776         0.711278        0.005215   \n",
       "13           0.731027           0.727497         0.726827        0.003734   \n",
       "14           0.763911           0.757519         0.757302        0.005486   \n",
       "15           0.766552           0.759449         0.759667        0.005535   \n",
       "\n",
       "    rank_test_score  split0_train_score  split1_train_score  \\\n",
       "0                16            0.685753            0.683228   \n",
       "1                15            0.687939            0.683228   \n",
       "2                13            0.701312            0.689338   \n",
       "3                11            0.702604            0.691521   \n",
       "4                14            0.690038            0.687631   \n",
       "5                12            0.701869            0.690085   \n",
       "6                 9            0.712134            0.709349   \n",
       "7                 6            0.717979            0.713593   \n",
       "8                10            0.708580            0.703362   \n",
       "9                 7            0.717188            0.713218   \n",
       "10                4            0.764613            0.758978   \n",
       "11                3            0.770017            0.764565   \n",
       "12                8            0.715486            0.714300   \n",
       "13                5            0.733517            0.730222   \n",
       "14                2            0.774633            0.771201   \n",
       "15                1            0.780419            0.776644   \n",
       "\n",
       "    split2_train_score  mean_train_score  std_train_score  \n",
       "0             0.684132          0.684371         0.001045  \n",
       "1             0.685852          0.685673         0.001927  \n",
       "2             0.689422          0.693357         0.005625  \n",
       "3             0.698874          0.697666         0.004605  \n",
       "4             0.687484          0.688384         0.001171  \n",
       "5             0.691782          0.694579         0.005202  \n",
       "6             0.712382          0.711289         0.001375  \n",
       "7             0.715662          0.715745         0.001792  \n",
       "8             0.705201          0.705715         0.002161  \n",
       "9             0.716410          0.715606         0.001718  \n",
       "10            0.761465          0.761685         0.002306  \n",
       "11            0.766915          0.767165         0.002233  \n",
       "12            0.715179          0.714988         0.000503  \n",
       "13            0.731845          0.731861         0.001345  \n",
       "14            0.773661          0.773165         0.001444  \n",
       "15            0.778413          0.778492         0.001542  "
      ]
     },
     "execution_count": 87,
     "metadata": {},
     "output_type": "execute_result"
    }
   ],
   "source": [
    "result"
   ]
  },
  {
   "cell_type": "code",
   "execution_count": 88,
   "metadata": {
    "colab": {
     "base_uri": "https://localhost:8080/"
    },
    "id": "VutZA7_J0STc",
    "outputId": "5dac24d7-5c73-48f6-852a-444af962911e"
   },
   "outputs": [
    {
     "data": {
      "text/plain": [
       "{'learning_rate': 0.2, 'n_estimators': 100}"
      ]
     },
     "execution_count": 88,
     "metadata": {},
     "output_type": "execute_result"
    }
   ],
   "source": [
    "best_params=GSCV.best_params_\n",
    "best_params"
   ]
  },
  {
   "cell_type": "code",
   "execution_count": 89,
   "metadata": {
    "colab": {
     "base_uri": "https://localhost:8080/"
    },
    "id": "gAemWEoC0STc",
    "outputId": "159ddfb6-36d2-495b-8e71-d0d575c643be"
   },
   "outputs": [
    {
     "name": "stdout",
     "output_type": "stream",
     "text": [
      "learning_rate:  [0.001, 0.001, 0.001, 0.001, 0.01, 0.01, 0.01, 0.01, 0.1, 0.1, 0.1, 0.1, 0.2, 0.2, 0.2, 0.2]\n",
      "n_estimator:  [5, 10, 75, 100, 5, 10, 75, 100, 5, 10, 75, 100, 5, 10, 75, 100]\n",
      "\n",
      "\n",
      "train_scores:  [0.68437123 0.68567296 0.69335738 0.69766624 0.68838426 0.69457864\n",
      " 0.71128856 0.71574489 0.70571457 0.71560566 0.76168521 0.76716531\n",
      " 0.71498834 0.73186134 0.7731648  0.7784921 ]\n",
      "\n",
      "\n",
      "cv_scores:  [0.68220832 0.68334943 0.69125813 0.69569381 0.68639253 0.69272811\n",
      " 0.70832278 0.71240081 0.70341151 0.71218509 0.75149907 0.75474029\n",
      " 0.71127801 0.7268265  0.75730228 0.75966669]\n"
     ]
    }
   ],
   "source": [
    "rparams=result['params']\n",
    "maxdepth = [i['learning_rate'] for i in rparams]\n",
    "nestimator = [i['n_estimators'] for i in rparams]\n",
    "print('learning_rate: ',maxdepth)\n",
    "print('n_estimator: ',nestimator)\n",
    "train_scores=result['mean_train_score'].values\n",
    "print('\\n\\ntrain_scores: ',train_scores)\n",
    "cv_scores=result['mean_test_score'].values\n",
    "print('\\n\\ncv_scores: ',cv_scores)"
   ]
  },
  {
   "cell_type": "code",
   "execution_count": 90,
   "metadata": {
    "colab": {
     "base_uri": "https://localhost:8080/",
     "height": 313
    },
    "id": "Y7knT7wF0STc",
    "outputId": "7aa9c9f2-2cb9-4987-868a-abfe4d9c3711"
   },
   "outputs": [
    {
     "data": {
      "text/plain": [
       "Text(0.5, 1.0, 'train scores')"
      ]
     },
     "execution_count": 90,
     "metadata": {},
     "output_type": "execute_result"
    },
    {
     "data": {
      "image/png": "[encoded data removed]",
      "text/plain": [
       "<Figure size 432x288 with 2 Axes>"
      ]
     },
     "metadata": {
      "needs_background": "light"
     },
     "output_type": "display_data"
    }
   ],
   "source": [
    "ax=sns.heatmap(trrespd,annot=True)\n",
    "ax.set_xlabel('n_estimator')\n",
    "ax.set_ylabel('learning_rate')\n",
    "ax.set_title('train scores')"
   ]
  },
  {
   "cell_type": "code",
   "execution_count": 91,
   "metadata": {
    "colab": {
     "base_uri": "https://localhost:8080/",
     "height": 313
    },
    "id": "AFDHi_Zy0STc",
    "outputId": "0dbef718-b3f8-454d-a12f-35ef03c3bdd5"
   },
   "outputs": [
    {
     "data": {
      "text/plain": [
       "Text(0.5, 1.0, 'cv scores')"
      ]
     },
     "execution_count": 91,
     "metadata": {},
     "output_type": "execute_result"
    },
    {
     "data": {
      "image/png": "[encoded data removed]",
      "text/plain": [
       "<Figure size 432x288 with 2 Axes>"
      ]
     },
     "metadata": {
      "needs_background": "light"
     },
     "output_type": "display_data"
    }
   ],
   "source": [
    "ax=sns.heatmap(terespd,annot=True)\n",
    "ax.set_xlabel('n_estimator')\n",
    "ax.set_ylabel('learning_rate')\n",
    "ax.set_title('cv scores')"
   ]
  },
  {
   "cell_type": "code",
   "execution_count": 92,
   "metadata": {
    "id": "nwmiVZtT0STc"
   },
   "outputs": [],
   "source": [
    "best_param=GSCV.best_params_\n",
    "clf=GradientBoostingClassifier(learning_rate=best_param['learning_rate'] ,n_estimators=best_param['n_estimators'])\n",
    "clf.fit(X_train,y_train)\n",
    "train_proba=clf.predict_proba(X_train)[:,1]\n",
    "test_proba=clf.predict_proba(X_test)[:,1]\n",
    "trfpr,trtpr,trthres=roc_curve(y_train,train_proba)\n",
    "tefpr,tetpr,tethres=roc_curve(y_test,test_proba)"
   ]
  },
  {
   "cell_type": "code",
   "execution_count": 93,
   "metadata": {
    "colab": {
     "base_uri": "https://localhost:8080/",
     "height": 295
    },
    "id": "pS0f81e60STd",
    "outputId": "a672a563-fdd5-4f91-ba15-1f1ebb2273c6"
   },
   "outputs": [
    {
     "data": {
      "image/png": "[encoded data removed]",
      "text/plain": [
       "<Figure size 432x288 with 1 Axes>"
      ]
     },
     "metadata": {
      "needs_background": "light"
     },
     "output_type": "display_data"
    }
   ],
   "source": [
    "plt.plot(trfpr,trtpr,label='Train ROC curve with AUC = '+str(auc(trfpr,trtpr)))\n",
    "plt.plot(tefpr,tetpr,label='Test ROC curve with AUC = '+str(auc(tefpr,tetpr)))\n",
    "plt.xlabel('FPR')\n",
    "plt.ylabel('TPR')\n",
    "plt.legend()\n",
    "plt.title('ROC curve for train and test set')\n",
    "plt.show()"
   ]
  },
  {
   "cell_type": "code",
   "execution_count": 94,
   "metadata": {
    "id": "3fmBnM940STd"
   },
   "outputs": [],
   "source": [
    "index=np.argmax(trtpr*(1-trfpr))\n",
    "threshold=trthres[index]"
   ]
  },
  {
   "cell_type": "code",
   "execution_count": 95,
   "metadata": {
    "id": "_rEoRH2l0STd"
   },
   "outputs": [],
   "source": [
    "def predict_using_threshold(proba,threshold):\n",
    "    predictions=[]\n",
    "    for result in proba:\n",
    "        if result>=threshold:\n",
    "            predictions.append(1)\n",
    "        else:\n",
    "            predictions.append(0)\n",
    "    return predictions"
   ]
  },
  {
   "cell_type": "code",
   "execution_count": 96,
   "metadata": {
    "id": "upp3fwF80STd"
   },
   "outputs": [],
   "source": [
    "train_result=predict_using_threshold(train_proba,threshold)\n",
    "test_result=predict_using_threshold(test_proba,threshold)"
   ]
  },
  {
   "cell_type": "code",
   "execution_count": 97,
   "metadata": {
    "colab": {
     "base_uri": "https://localhost:8080/",
     "height": 334
    },
    "id": "NBZpC9Ky0STd",
    "outputId": "b16bc54c-98b6-45a6-d69e-f5980d4d0893"
   },
   "outputs": [
    {
     "name": "stdout",
     "output_type": "stream",
     "text": [
      "Train Confusion matrix:\n",
      "\n",
      "\n"
     ]
    },
    {
     "data": {
      "text/plain": [
       "<matplotlib.axes._subplots.AxesSubplot at 0x7f8785522310>"
      ]
     },
     "execution_count": 97,
     "metadata": {},
     "output_type": "execute_result"
    },
    {
     "data": {
      "image/png": "[encoded data removed]",
      "text/plain": [
       "<Figure size 432x288 with 2 Axes>"
      ]
     },
     "metadata": {
      "needs_background": "light"
     },
     "output_type": "display_data"
    }
   ],
   "source": [
    "print('Train Confusion matrix:\\n\\n')\n",
    "sns.heatmap(confusion_matrix(train_result,y_train),annot=True)"
   ]
  },
  {
   "cell_type": "code",
   "execution_count": 98,
   "metadata": {
    "colab": {
     "base_uri": "https://localhost:8080/",
     "height": 334
    },
    "id": "QkuvXzMB0STd",
    "outputId": "def65c1e-aaf8-4fce-b65b-19f1a0db171d"
   },
   "outputs": [
    {
     "name": "stdout",
     "output_type": "stream",
     "text": [
      "Test Confusion matrix:\n",
      "\n",
      "\n"
     ]
    },
    {
     "data": {
      "text/plain": [
       "<matplotlib.axes._subplots.AxesSubplot at 0x7f8784f05850>"
      ]
     },
     "execution_count": 98,
     "metadata": {},
     "output_type": "execute_result"
    },
    {
     "data": {
      "image/png": "[encoded data removed]",
      "text/plain": [
       "<Figure size 432x288 with 2 Axes>"
      ]
     },
     "metadata": {
      "needs_background": "light"
     },
     "output_type": "display_data"
    }
   ],
   "source": [
    "print('Test Confusion matrix:\\n\\n')\n",
    "sns.heatmap(confusion_matrix(test_result,y_test),annot=True)"
   ]
  },
  {
   "cell_type": "markdown",
   "metadata": {
    "id": "UJLSDd5Gs8qN"
   },
   "source": [
    "Feature Engineering 3: Removal of features"
   ]
  },
  {
   "cell_type": "code",
   "execution_count": 102,
   "metadata": {
    "id": "qxDuZHbCz_OL"
   },
   "outputs": [],
   "source": [
    "fs = SelectKBest(k=30)\n",
    "X_selected = fs.fit_transform(X_scl, y)"
   ]
  },
  {
   "cell_type": "code",
   "execution_count": 124,
   "metadata": {
    "id": "zJ9Rl0JViLPO"
   },
   "outputs": [],
   "source": [
    "X_train, X_test, y_train,y_test = train_test_split(X_scl,y, test_size=0.2, random_state=11,stratify = y)"
   ]
  },
  {
   "cell_type": "code",
   "execution_count": 125,
   "metadata": {
    "colab": {
     "base_uri": "https://localhost:8080/"
    },
    "id": "Goiy0lGNiLPU",
    "outputId": "001fc44e-25e1-4f6f-9a11-6968331c24ac"
   },
   "outputs": [
    {
     "data": {
      "text/plain": [
       "((246008, 249), (61503, 249), (246008,), (61503,))"
      ]
     },
     "execution_count": 125,
     "metadata": {},
     "output_type": "execute_result"
    }
   ],
   "source": [
    "X_train.shape, X_test.shape, y_train.shape,y_test.shape"
   ]
  },
  {
   "cell_type": "markdown",
   "metadata": {
    "id": "EWCXWnd8tCDE"
   },
   "source": [
    "Model 5: Decision Tree"
   ]
  },
  {
   "cell_type": "code",
   "execution_count": 126,
   "metadata": {
    "id": "u6t5RnuAiLPW"
   },
   "outputs": [],
   "source": [
    "clf=DecisionTreeClassifier(max_depth=10,min_samples_split=500)\n",
    "clf.fit(X_train,y_train)\n",
    "train_proba=clf.predict_proba(X_train)[:,1]\n",
    "test_proba=clf.predict_proba(X_test)[:,1]\n",
    "trfpr,trtpr,trthres=roc_curve(y_train,train_proba)\n",
    "tefpr,tetpr,tethres=roc_curve(y_test,test_proba)"
   ]
  },
  {
   "cell_type": "code",
   "execution_count": 127,
   "metadata": {
    "colab": {
     "base_uri": "https://localhost:8080/",
     "height": 295
    },
    "id": "ab9AdlUbiLPW",
    "outputId": "f8f73060-5d07-4d40-ca29-08be88a79cdf"
   },
   "outputs": [
    {
     "data": {
      "image/png": "[encoded data removed]",
      "text/plain": [
       "<Figure size 432x288 with 1 Axes>"
      ]
     },
     "metadata": {
      "needs_background": "light"
     },
     "output_type": "display_data"
    }
   ],
   "source": [
    "plt.plot(trfpr,trtpr,label='Train ROC curve with AUC = '+str(auc(trfpr,trtpr)))\n",
    "plt.plot(tefpr,tetpr,label='Test ROC curve with AUC = '+str(auc(tefpr,tetpr)))\n",
    "plt.xlabel('FPR')\n",
    "plt.ylabel('TPR')\n",
    "plt.legend()\n",
    "plt.title('ROC curve for train and test set')\n",
    "plt.show()"
   ]
  },
  {
   "cell_type": "code",
   "execution_count": 128,
   "metadata": {
    "id": "PBi0pIHviLPW"
   },
   "outputs": [],
   "source": [
    "index=np.argmax(trtpr*(1-trfpr))\n",
    "threshold=trthres[index]"
   ]
  },
  {
   "cell_type": "code",
   "execution_count": 129,
   "metadata": {
    "id": "xvMvNki0iLPW"
   },
   "outputs": [],
   "source": [
    "def predict_using_threshold(proba,threshold):\n",
    "    predictions=[]\n",
    "    for result in proba:\n",
    "        if result>=threshold:\n",
    "            predictions.append(1)\n",
    "        else:\n",
    "            predictions.append(0)\n",
    "    return predictions"
   ]
  },
  {
   "cell_type": "code",
   "execution_count": 130,
   "metadata": {
    "id": "bcqwxyOYiLPW"
   },
   "outputs": [],
   "source": [
    "train_result=predict_using_threshold(train_proba,threshold)\n",
    "test_result=predict_using_threshold(test_proba,threshold)"
   ]
  },
  {
   "cell_type": "code",
   "execution_count": 131,
   "metadata": {
    "colab": {
     "base_uri": "https://localhost:8080/"
    },
    "id": "6H-5tJr4iLPW",
    "outputId": "4693c2a8-16d8-4c12-813e-3e48511b2caf"
   },
   "outputs": [
    {
     "name": "stdout",
     "output_type": "stream",
     "text": [
      "Train Confusion matrix:\n",
      "\n",
      "\n",
      "[[157921   6586]\n",
      " [ 68227  13274]]\n",
      "\n",
      "***************************\n",
      "\n",
      "Test Confusion matrix:\n",
      "\n",
      "\n",
      "[[39206  1896]\n",
      " [17332  3069]]\n"
     ]
    }
   ],
   "source": [
    "print('Train Confusion matrix:\\n\\n')\n",
    "print(confusion_matrix(train_result,y_train))\n",
    "print('\\n***************************\\n')\n",
    "print('Test Confusion matrix:\\n\\n')\n",
    "print(confusion_matrix(test_result,y_test))"
   ]
  },
  {
   "cell_type": "markdown",
   "metadata": {
    "id": "pgQUxbWGtF0l"
   },
   "source": [
    "Model 6: GBDT"
   ]
  },
  {
   "cell_type": "code",
   "execution_count": 132,
   "metadata": {
    "id": "Cb_nP9bdiLPX"
   },
   "outputs": [],
   "source": [
    "clf=GradientBoostingClassifier(learning_rate=0.2,n_estimators=100)\n",
    "clf.fit(X_train,y_train)\n",
    "train_proba=clf.predict_proba(X_train)[:,1]\n",
    "test_proba=clf.predict_proba(X_test)[:,1]\n",
    "trfpr,trtpr,trthres=roc_curve(y_train,train_proba)\n",
    "tefpr,tetpr,tethres=roc_curve(y_test,test_proba)"
   ]
  },
  {
   "cell_type": "code",
   "execution_count": 133,
   "metadata": {
    "colab": {
     "base_uri": "https://localhost:8080/",
     "height": 295
    },
    "id": "13eEaIO8iLPX",
    "outputId": "2b61abd3-7422-48b2-c26f-bee552417a32"
   },
   "outputs": [
    {
     "data": {
      "image/png": "[encoded data removed]",
      "text/plain": [
       "<Figure size 432x288 with 1 Axes>"
      ]
     },
     "metadata": {
      "needs_background": "light"
     },
     "output_type": "display_data"
    }
   ],
   "source": [
    "plt.plot(trfpr,trtpr,label='Train ROC curve with AUC = '+str(auc(trfpr,trtpr)))\n",
    "plt.plot(tefpr,tetpr,label='Test ROC curve with AUC = '+str(auc(tefpr,tetpr)))\n",
    "plt.xlabel('FPR')\n",
    "plt.ylabel('TPR')\n",
    "plt.legend()\n",
    "plt.title('ROC curve for train and test set')\n",
    "plt.show()"
   ]
  },
  {
   "cell_type": "code",
   "execution_count": 134,
   "metadata": {
    "id": "_AdGycnkiLPX"
   },
   "outputs": [],
   "source": [
    "index=np.argmax(trtpr*(1-trfpr))\n",
    "threshold=trthres[index]"
   ]
  },
  {
   "cell_type": "code",
   "execution_count": 135,
   "metadata": {
    "id": "Koz8InJMiLPY"
   },
   "outputs": [],
   "source": [
    "def predict_using_threshold(proba,threshold):\n",
    "    predictions=[]\n",
    "    for result in proba:\n",
    "        if result>=threshold:\n",
    "            predictions.append(1)\n",
    "        else:\n",
    "            predictions.append(0)\n",
    "    return predictions"
   ]
  },
  {
   "cell_type": "code",
   "execution_count": 136,
   "metadata": {
    "id": "o6_hbFCQiLPY"
   },
   "outputs": [],
   "source": [
    "train_result=predict_using_threshold(train_proba,threshold)\n",
    "test_result=predict_using_threshold(test_proba,threshold)"
   ]
  },
  {
   "cell_type": "code",
   "execution_count": 137,
   "metadata": {
    "colab": {
     "base_uri": "https://localhost:8080/",
     "height": 336
    },
    "id": "ncIR6uu0iLPY",
    "outputId": "1d257891-f221-4d04-94ed-4900c479dbf9"
   },
   "outputs": [
    {
     "name": "stdout",
     "output_type": "stream",
     "text": [
      "Train Confusion matrix:\n",
      "\n",
      "\n"
     ]
    },
    {
     "data": {
      "text/plain": [
       "<matplotlib.axes._subplots.AxesSubplot at 0x7f8784902690>"
      ]
     },
     "execution_count": 137,
     "metadata": {},
     "output_type": "execute_result"
    },
    {
     "data": {
      "image/png": "[encoded data removed]",
      "text/plain": [
       "<Figure size 432x288 with 2 Axes>"
      ]
     },
     "metadata": {
      "needs_background": "light"
     },
     "output_type": "display_data"
    }
   ],
   "source": [
    "print('Train Confusion matrix:\\n\\n')\n",
    "sns.heatmap(confusion_matrix(train_result,y_train),annot=True)"
   ]
  },
  {
   "cell_type": "code",
   "execution_count": 138,
   "metadata": {
    "colab": {
     "base_uri": "https://localhost:8080/",
     "height": 337
    },
    "id": "Jc07J-R-iLPY",
    "outputId": "ba315a14-4577-413a-b9db-2cf9bef049c8"
   },
   "outputs": [
    {
     "name": "stdout",
     "output_type": "stream",
     "text": [
      "Test Confusion matrix:\n",
      "\n",
      "\n"
     ]
    },
    {
     "data": {
      "text/plain": [
       "<matplotlib.axes._subplots.AxesSubplot at 0x7f878480d190>"
      ]
     },
     "execution_count": 138,
     "metadata": {},
     "output_type": "execute_result"
    },
    {
     "data": {
      "image/png": "[encoded data removed]",
      "text/plain": [
       "<Figure size 432x288 with 2 Axes>"
      ]
     },
     "metadata": {
      "needs_background": "light"
     },
     "output_type": "display_data"
    }
   ],
   "source": [
    "print('Test Confusion matrix:\\n\\n')\n",
    "sns.heatmap(confusion_matrix(test_result,y_test),annot=True)"
   ]
  }
 ],
 "metadata": {
  "colab": {
   "name": "Solution.ipynb",
   "provenance": []
  },
  "kernelspec": {
   "display_name": "Python 3 (ipykernel)",
   "language": "python",
   "name": "python3"
  },
  "language_info": {
   "codemirror_mode": {
    "name": "ipython",
    "version": 3
   },
   "file_extension": ".py",
   "mimetype": "text/x-python",
   "name": "python",
   "nbconvert_exporter": "python",
   "pygments_lexer": "ipython3",
   "version": "3.9.7"
  }
 },
 "nbformat": 4,
 "nbformat_minor": 1
}
